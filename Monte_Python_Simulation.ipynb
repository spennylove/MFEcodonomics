{
 "cells": [
  {
   "cell_type": "markdown",
   "metadata": {},
   "source": [
    "# Monte Carlo Simulation for Stock Portfolio\n",
    "\n",
    "## Introduction\n",
    "This notebook performs a Monte Carlo simulation to project the future value of a stock portfolio. It allows you to input your portfolio's stocks, individual risk profiles, expected returns, and other financial characteristics."
   ]
  },
  {
   "cell_type": "markdown",
   "metadata": {},
   "source": [
    "## Importing Necessary Libraries\n",
    "First, we need to import the libraries required for data manipulation, mathematical computations, and visualization.\n",
    "- `numpy` and `pandas` are used for numerical operations and data handling.\n",
    "- `matplotlib` is used for plotting graphs.\n",
    "- `yfinance` is a library to fetch historical stock data.\n",
    "- `scipy.stats` provides statistical functions, including the normal distribution."
   ]
  },
  {
   "cell_type": "code",
   "execution_count": 2,
   "metadata": {},
   "outputs": [],
   "source": [
    "import numpy as np\n",
    "import pandas as pd\n",
    "import matplotlib.pyplot as plt\n",
    "import yfinance as yf\n",
    "from scipy.stats import norm"
   ]
  },
  {
   "cell_type": "markdown",
   "metadata": {},
   "source": [
    "## User Inputs\n",
    "We will collect inputs for the stocks in the portfolio, the number of simulations, the time horizon, and other parameters.\n"
   ]
  },
  {
   "cell_type": "code",
   "execution_count": 3,
   "metadata": {},
   "outputs": [],
   "source": [
    "# List of stock tickers in the portfolio\n",
    "stocks = ['AAPL', 'MSFT', 'GOOGL']  # You can modify this list\n",
    "\n",
    "# Investment weights for each stock\n",
    "weights = np.array([0.4, 0.35, 0.25])  # Sum should be 1\n",
    "\n",
    "# Initial investment amount\n",
    "initial_investment = 100000  # For example, $100,000\n",
    "\n",
    "# Number of simulation runs\n",
    "num_simulations = 10000\n",
    "\n",
    "# Time horizon in days\n",
    "time_horizon = 252  # Typically 252 trading days in a year\n",
    "\n",
    "# Confidence interval for VaR and CVaR\n",
    "confidence_level = 0.95"
   ]
  },
  {
   "cell_type": "markdown",
   "metadata": {},
   "source": [
    "## Fetching Historical Stock Data\n",
    "We will retrieve historical price data for the stocks in the portfolio using `yfinance`.\n"
   ]
  },
  {
   "cell_type": "code",
   "execution_count": 4,
   "metadata": {},
   "outputs": [
    {
     "name": "stderr",
     "output_type": "stream",
     "text": [
      "[*********************100%***********************]  3 of 3 completed\n"
     ]
    },
    {
     "data": {
      "text/html": [
       "<div>\n",
       "<style scoped>\n",
       "    .dataframe tbody tr th:only-of-type {\n",
       "        vertical-align: middle;\n",
       "    }\n",
       "\n",
       "    .dataframe tbody tr th {\n",
       "        vertical-align: top;\n",
       "    }\n",
       "\n",
       "    .dataframe thead th {\n",
       "        text-align: right;\n",
       "    }\n",
       "</style>\n",
       "<table border=\"1\" class=\"dataframe\">\n",
       "  <thead>\n",
       "    <tr style=\"text-align: right;\">\n",
       "      <th>Ticker</th>\n",
       "      <th>AAPL</th>\n",
       "      <th>GOOGL</th>\n",
       "      <th>MSFT</th>\n",
       "    </tr>\n",
       "    <tr>\n",
       "      <th>Date</th>\n",
       "      <th></th>\n",
       "      <th></th>\n",
       "      <th></th>\n",
       "    </tr>\n",
       "  </thead>\n",
       "  <tbody>\n",
       "    <tr>\n",
       "      <th>2019-09-18 00:00:00+00:00</th>\n",
       "      <td>53.890518</td>\n",
       "      <td>61.480263</td>\n",
       "      <td>132.307358</td>\n",
       "    </tr>\n",
       "    <tr>\n",
       "      <th>2019-09-19 00:00:00+00:00</th>\n",
       "      <td>53.452656</td>\n",
       "      <td>61.784512</td>\n",
       "      <td>134.742966</td>\n",
       "    </tr>\n",
       "    <tr>\n",
       "      <th>2019-09-20 00:00:00+00:00</th>\n",
       "      <td>52.671284</td>\n",
       "      <td>61.340115</td>\n",
       "      <td>133.186081</td>\n",
       "    </tr>\n",
       "    <tr>\n",
       "      <th>2019-09-23 00:00:00+00:00</th>\n",
       "      <td>52.910786</td>\n",
       "      <td>61.582016</td>\n",
       "      <td>132.899536</td>\n",
       "    </tr>\n",
       "    <tr>\n",
       "      <th>2019-09-24 00:00:00+00:00</th>\n",
       "      <td>52.659187</td>\n",
       "      <td>60.766033</td>\n",
       "      <td>131.218491</td>\n",
       "    </tr>\n",
       "  </tbody>\n",
       "</table>\n",
       "</div>"
      ],
      "text/plain": [
       "Ticker                          AAPL      GOOGL        MSFT\n",
       "Date                                                       \n",
       "2019-09-18 00:00:00+00:00  53.890518  61.480263  132.307358\n",
       "2019-09-19 00:00:00+00:00  53.452656  61.784512  134.742966\n",
       "2019-09-20 00:00:00+00:00  52.671284  61.340115  133.186081\n",
       "2019-09-23 00:00:00+00:00  52.910786  61.582016  132.899536\n",
       "2019-09-24 00:00:00+00:00  52.659187  60.766033  131.218491"
      ]
     },
     "execution_count": 4,
     "metadata": {},
     "output_type": "execute_result"
    }
   ],
   "source": [
    "# Fetch adjusted closing prices for the stocks\n",
    "data = yf.download(stocks, period='5y')['Adj Close']\n",
    "\n",
    "# Display the first few rows of the data\n",
    "data.head()"
   ]
  },
  {
   "cell_type": "markdown",
   "metadata": {},
   "source": [
    "## Calculating Daily Returns\n",
    "Compute the daily returns for each stock."
   ]
  },
  {
   "cell_type": "code",
   "execution_count": 5,
   "metadata": {},
   "outputs": [
    {
     "data": {
      "text/html": [
       "<div>\n",
       "<style scoped>\n",
       "    .dataframe tbody tr th:only-of-type {\n",
       "        vertical-align: middle;\n",
       "    }\n",
       "\n",
       "    .dataframe tbody tr th {\n",
       "        vertical-align: top;\n",
       "    }\n",
       "\n",
       "    .dataframe thead th {\n",
       "        text-align: right;\n",
       "    }\n",
       "</style>\n",
       "<table border=\"1\" class=\"dataframe\">\n",
       "  <thead>\n",
       "    <tr style=\"text-align: right;\">\n",
       "      <th>Ticker</th>\n",
       "      <th>AAPL</th>\n",
       "      <th>GOOGL</th>\n",
       "      <th>MSFT</th>\n",
       "    </tr>\n",
       "    <tr>\n",
       "      <th>Date</th>\n",
       "      <th></th>\n",
       "      <th></th>\n",
       "      <th></th>\n",
       "    </tr>\n",
       "  </thead>\n",
       "  <tbody>\n",
       "    <tr>\n",
       "      <th>2019-09-19 00:00:00+00:00</th>\n",
       "      <td>-0.008125</td>\n",
       "      <td>0.004949</td>\n",
       "      <td>0.018409</td>\n",
       "    </tr>\n",
       "    <tr>\n",
       "      <th>2019-09-20 00:00:00+00:00</th>\n",
       "      <td>-0.014618</td>\n",
       "      <td>-0.007193</td>\n",
       "      <td>-0.011554</td>\n",
       "    </tr>\n",
       "    <tr>\n",
       "      <th>2019-09-23 00:00:00+00:00</th>\n",
       "      <td>0.004547</td>\n",
       "      <td>0.003944</td>\n",
       "      <td>-0.002151</td>\n",
       "    </tr>\n",
       "    <tr>\n",
       "      <th>2019-09-24 00:00:00+00:00</th>\n",
       "      <td>-0.004755</td>\n",
       "      <td>-0.013250</td>\n",
       "      <td>-0.012649</td>\n",
       "    </tr>\n",
       "    <tr>\n",
       "      <th>2019-09-25 00:00:00+00:00</th>\n",
       "      <td>0.015390</td>\n",
       "      <td>0.022662</td>\n",
       "      <td>0.014413</td>\n",
       "    </tr>\n",
       "  </tbody>\n",
       "</table>\n",
       "</div>"
      ],
      "text/plain": [
       "Ticker                         AAPL     GOOGL      MSFT\n",
       "Date                                                   \n",
       "2019-09-19 00:00:00+00:00 -0.008125  0.004949  0.018409\n",
       "2019-09-20 00:00:00+00:00 -0.014618 -0.007193 -0.011554\n",
       "2019-09-23 00:00:00+00:00  0.004547  0.003944 -0.002151\n",
       "2019-09-24 00:00:00+00:00 -0.004755 -0.013250 -0.012649\n",
       "2019-09-25 00:00:00+00:00  0.015390  0.022662  0.014413"
      ]
     },
     "execution_count": 5,
     "metadata": {},
     "output_type": "execute_result"
    }
   ],
   "source": [
    "# Calculate daily returns\n",
    "returns = data.pct_change().dropna()\n",
    "\n",
    "# Display the first few rows of returns\n",
    "returns.head()"
   ]
  },
  {
   "cell_type": "markdown",
   "metadata": {},
   "source": [
    "## Calculating Portfolio Metrics\n",
    "Compute the mean returns and the covariance matrix."
   ]
  },
  {
   "cell_type": "code",
   "execution_count": 6,
   "metadata": {},
   "outputs": [],
   "source": [
    "# Calculate mean daily returns and covariance matrix\n",
    "mean_returns = returns.mean()\n",
    "cov_matrix = returns.cov()"
   ]
  },
  {
   "cell_type": "markdown",
   "metadata": {},
   "source": [
    "## Running the Monte Carlo Simulation\n",
    "We will simulate the portfolio's future value over the specified time horizon.\n",
    "- `np.random.multivariate_normal` generates random samples from a multivariate normal distribution.\n",
    "- `np.cumprod` computes the cumulative product to simulate the portfolio growth over time.\n",
    "- We multiply the daily returns by the weights to account for the portfolio allocation."
   ]
  },
  {
   "cell_type": "code",
   "execution_count": 7,
   "metadata": {},
   "outputs": [],
   "source": [
    "# Array to store simulation results\n",
    "simulation_results = np.zeros((num_simulations, time_horizon))\n",
    "\n",
    "# Run simulations\n",
    "for i in range(num_simulations):\n",
    "    # Generate random daily returns\n",
    "    daily_returns = np.random.multivariate_normal(mean_returns, cov_matrix, time_horizon)\n",
    "    # Calculate cumulative returns\n",
    "    cumulative_returns = np.cumprod(1 + daily_returns @ weights) * initial_investment\n",
    "    # Store the results\n",
    "    simulation_results[i, :] = cumulative_returns"
   ]
  },
  {
   "cell_type": "markdown",
   "metadata": {},
   "source": [
    "## Visualizing the Simulation Results\n",
    "Plot the simulation outcomes to visualize the potential future values of the portfolio."
   ]
  },
  {
   "cell_type": "code",
   "execution_count": null,
   "metadata": {},
   "outputs": [],
   "source": [
    "# Plotting the simulation results\n",
    "plt.figure(figsize=(15, 6))\n",
    "plt.plot(simulation_results.T, color='blue', alpha=0.01) #alpha=0.01 sets the transparency to make the plot more readable.\n",
    "plt.title('Monte Carlo Simulation of Portfolio Returns')\n",
    "plt.xlabel('Days')\n",
    "plt.ylabel('Portfolio Value ($)')\n",
    "plt.show()"
   ]
  },
  {
   "cell_type": "markdown",
   "metadata": {},
   "source": [
    "## Analyzing the Simulation Results\n",
    "Calculate the; \n",
    "- **expected portfolio value**\n",
    "- **Value at Risk (VaR)**\n",
    "- **Conditional Value at Risk (CVaR)** OR **Expected Shortfall (ES)**\n"
   ]
  },
  {
   "cell_type": "code",
   "execution_count": 9,
   "metadata": {},
   "outputs": [],
   "source": [
    "# Calculate the final portfolio values\n",
    "final_portfolio_values = simulation_results[:, -1]\n",
    "\n",
    "# Calculate statistics\n",
    "mean_final_value = np.mean(final_portfolio_values)\n",
    "median_final_value = np.median(final_portfolio_values)\n",
    "std_final_value = np.std(final_portfolio_values)\n",
    "\n",
    "# Calculate VaR\n",
    "percentile = np.percentile(final_portfolio_values, (1 - confidence_level) * 100)\n",
    "VaR = initial_investment - percentile\n",
    "\n",
    "# Calculate CVaR\n",
    "CVaR = initial_investment - final_portfolio_values[final_portfolio_values <= percentile].mean()\n"
   ]
  },
  {
   "cell_type": "markdown",
   "metadata": {},
   "source": [
    "- mean_final_value: The average ending portfolio value across all simulations.\n",
    "- VaR: The maximum expected loss at the specified confidence level.\n",
    "- CVaR: The average loss exceeding the VaR, providing insight into tail risk"
   ]
  },
  {
   "cell_type": "markdown",
   "metadata": {},
   "source": [
    "## Displaying the Results\n",
    "Present the calculated statistics.\n"
   ]
  },
  {
   "cell_type": "code",
   "execution_count": 10,
   "metadata": {},
   "outputs": [
    {
     "name": "stdout",
     "output_type": "stream",
     "text": [
      "Mean Final Portfolio Value: $133,049.79\n",
      "Median Final Portfolio Value: $128,245.88\n",
      "Standard Deviation: $37,734.85\n",
      "95.0% VaR: $19,651.17\n",
      "95.0% CVaR: $28,072.01\n"
     ]
    }
   ],
   "source": [
    "print(f\"Mean Final Portfolio Value: ${mean_final_value:,.2f}\")\n",
    "print(f\"Median Final Portfolio Value: ${median_final_value:,.2f}\")\n",
    "print(f\"Standard Deviation: ${std_final_value:,.2f}\")\n",
    "print(f\"{confidence_level * 100}% VaR: ${VaR:,.2f}\")\n",
    "print(f\"{confidence_level * 100}% CVaR: ${CVaR:,.2f}\")"
   ]
  },
  {
   "cell_type": "markdown",
   "metadata": {},
   "source": [
    "## Enhancements for Production-Level Code\n",
    "To make this code production-ready, consider the following enhancements:\n",
    "\n",
    "- **Error Handling**: Add try-except blocks to handle exceptions, such as network errors when fetching data.\n",
    "- **Input Validation**: Validate user inputs to ensure they are in the correct format and within acceptable ranges.\n",
    "- **Logging**: Implement logging to keep track of the program's execution flow and errors.\n",
    "- **Modularization**: Break the code into functions or classes to improve readability and maintainability.\n",
    "- **Configuration File**: Use a configuration file (e.g., JSON or YAML) to manage inputs and parameters externally.\n",
    "- **Performance Optimization**: Optimize the simulation loop for better performance, possibly using vectorization or parallel processing.\n"
   ]
  },
  {
   "cell_type": "markdown",
   "metadata": {},
   "source": [
    "## Potential Next Steps\n",
    "\n",
    "To further enhance this analysis:\n",
    "\n",
    "- **Incorporate Dividend Yields**: Include dividend yields for a more accurate total return calculation.\n",
    "- **Risk-Free Rate**: Factor in the risk-free rate to calculate metrics like the Sharpe ratio.\n",
    "- **Custom Distributions**: Use distributions other than the normal distribution if you believe the returns are not normally distributed.\n",
    "- **Economic Indicators**: Integrate economic indicators or market sentiments to adjust your simulation parameters dynamically.\n"
   ]
  }
 ],
 "metadata": {
  "kernelspec": {
   "display_name": "mfe2024",
   "language": "python",
   "name": "python3"
  },
  "language_info": {
   "codemirror_mode": {
    "name": "ipython",
    "version": 3
   },
   "file_extension": ".py",
   "mimetype": "text/x-python",
   "name": "python",
   "nbconvert_exporter": "python",
   "pygments_lexer": "ipython3",
   "version": "3.12.5"
  }
 },
 "nbformat": 4,
 "nbformat_minor": 2
}
