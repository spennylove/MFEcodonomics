{
 "cells": [
  {
   "cell_type": "markdown",
   "id": "ffc6d6ca",
   "metadata": {},
   "source": [
    "# ADS2288F - October 2nd\n",
    "> Your first libraries: math and numpy\n",
    "---\n",
    "\n",
    "A **library** is a collection of files (called *modules*) tthat contains functions for use by other programs. Python has a *standard library* - what we've been using up until this point - that comes with an expansive list of files and functions for us to use. However, there are many additional libraries for us to call on to do even more in Python.\n",
    "\n",
    "Libraries open up a world of possibilities in Python that we may not even know exist.  They will assist us, by providing already built functions, in doing more expansive calculations, completing linear algebra tasks, and analysing data.\n",
    "\n",
    "Two libraries - that do have similar functions - that we will play with today are `math` and `numpy`."
   ]
  },
  {
   "cell_type": "markdown",
   "id": "20e29e61",
   "metadata": {},
   "source": [
    "## Your first library - `math`\n",
    "> Basic math functions not contained in the standard\n",
    "---"
   ]
  },
  {
   "cell_type": "code",
   "execution_count": 1,
   "id": "99278faf",
   "metadata": {},
   "outputs": [],
   "source": [
    "# we begin by telling Python to import this library\n",
    "import math"
   ]
  },
  {
   "cell_type": "markdown",
   "id": "d4d7f7a2",
   "metadata": {},
   "source": [
    "`math` contains many mathematical basics that you would expect to be in the standard library, but are not.  This includes square root, trigonometric functions, and even mathematical constants such as $e$ and $\\pi$. To call a function within a library we use the same syntax as when we called a method earlier."
   ]
  },
  {
   "cell_type": "code",
   "execution_count": 11,
   "id": "20d6c88d",
   "metadata": {},
   "outputs": [
    {
     "name": "stdout",
     "output_type": "stream",
     "text": [
      "4.0\n",
      "478.3879062809779\n",
      "6.123233995736766e-17\n",
      "0\n",
      "7.3890560989306495\n",
      "0.6931471805599453\n"
     ]
    }
   ],
   "source": [
    "# calculate the square root of a number\n",
    "result = math.sqrt(16)\n",
    "print(result)\n",
    "\n",
    "# calculate the area of a circle\n",
    "r = 12.34\n",
    "area = math.pi * r**2\n",
    "print(area)\n",
    "\n",
    "# calculate the sine and cosine of an angle\n",
    "result = math.cos(math.pi/2)\n",
    "print(result) #think of this result as ZERO\n",
    "\n",
    "if result <= 0.0000000000000001:\n",
    "    result = 0\n",
    "print(result)\n",
    "\n",
    "\n",
    "# use e and log\n",
    "result = math.e ** 2\n",
    "print(result)\n",
    "\n",
    "result = math.log(2) #this is calculating 'ln(2)'\n",
    "print(result)"
   ]
  },
  {
   "cell_type": "markdown",
   "id": "38d65ee1",
   "metadata": {},
   "source": [
    "## Your second library - `numpy`\n",
    "> \"numerical python\"\n",
    "---\n",
    "\n",
    "`numpy` is another library in Python that can handle various mathematical basics. In fact, it uses a lot of the same commands as `math` does.  \n",
    "\n",
    "We introduce `numpy` to replace `math` - but also see that, often, programmers get lazy and don't want to have to type `numpy` tons of times in their program.  We often create an nickname (or *alias*) for libraries, so that when we call them later on, we have a short form.  Each library has a *standard* alias, but you can name them whatever you like."
   ]
  },
  {
   "cell_type": "code",
   "execution_count": 15,
   "id": "34287659",
   "metadata": {},
   "outputs": [],
   "source": [
    "# import numpy with its standard alias\n",
    "import numpy as np"
   ]
  },
  {
   "cell_type": "markdown",
   "id": "35f2024a",
   "metadata": {},
   "source": [
    "Now that we have imported `numpy` into Python - we can go ahead an use it."
   ]
  },
  {
   "cell_type": "code",
   "execution_count": 18,
   "id": "8a57b04c",
   "metadata": {},
   "outputs": [
    {
     "name": "stdout",
     "output_type": "stream",
     "text": [
      "4.0\n",
      "478.3879062809779\n",
      "6.123233995736766e-17\n"
     ]
    }
   ],
   "source": [
    "# calculate the square root of a number\n",
    "print(np.sqrt(16))\n",
    "\n",
    "# calculate the area of a circle\n",
    "r = 12.34\n",
    "print(np.pi*r**2)\n",
    "\n",
    "# calculate the sine and cosine of an angle\n",
    "result = np.cos(np.pi/2)\n",
    "print(result)\n",
    "\n",
    "\n",
    "# use e and log\n",
    "\n"
   ]
  },
  {
   "cell_type": "markdown",
   "id": "30aeb706",
   "metadata": {},
   "source": [
    "Why we use `numpy` over `math` - most of the time - is it contains additional functions that allow us to do more.  For instance, `numpy` encodes some basic statistical functions and some basic linear algebra functions."
   ]
  },
  {
   "cell_type": "code",
   "execution_count": 25,
   "id": "102d2758",
   "metadata": {},
   "outputs": [
    {
     "name": "stdout",
     "output_type": "stream",
     "text": [
      "71.83333333333333\n",
      "69.5\n",
      "12.694049349553076\n"
     ]
    }
   ],
   "source": [
    "# create a list of test scores\n",
    "scores = [76,73,96,65,55,66]\n",
    "\n",
    "# use numpy to compute the mean, median and standard deviation of the list\n",
    "print(np.mean(scores))\n",
    "print(np.median(scores))\n",
    "print(np.std(scores)) \n",
    "\n"
   ]
  },
  {
   "cell_type": "markdown",
   "id": "29f021dc",
   "metadata": {},
   "source": [
    "To do \"proper\" linear algebra - we need to use `numpy` arrays.  These will encode in Python as traditional vectors or matrices.  We will still use list (and list of list) syntax introduced earlier.  However, we will now tell Python that these objects are arrays."
   ]
  },
  {
   "cell_type": "code",
   "execution_count": 29,
   "id": "a871550d",
   "metadata": {},
   "outputs": [
    {
     "name": "stdout",
     "output_type": "stream",
     "text": [
      "[1 2 3 4]\n",
      "<class 'numpy.ndarray'>\n",
      "[[1 2]\n",
      " [3 4]]\n"
     ]
    }
   ],
   "source": [
    "# create the vector (1,2,3,4) as a numpy array and check its type\n",
    "vector = np.array([1,2,3,4])\n",
    "print(vector)\n",
    "print(type(vector))\n",
    "\n",
    "# create two matrices as numpy arrays\n",
    "matrix1 = np.array([[1,2], [3,4]])\n",
    "matrix2 = np.array([[5,6], [7,8]])\n",
    "print(matrix1)\n"
   ]
  },
  {
   "cell_type": "code",
   "execution_count": 41,
   "id": "51175d1d",
   "metadata": {},
   "outputs": [
    {
     "name": "stdout",
     "output_type": "stream",
     "text": [
      "[[19 22]\n",
      " [43 50]]\n",
      "[[1 3]\n",
      " [2 4]]\n",
      "[[-2.   1. ]\n",
      " [ 1.5 -0.5]]\n"
     ]
    }
   ],
   "source": [
    "# Matrix Multiplication\n",
    "mult = np.matmul(matrix1,matrix2)\n",
    "print(mult)\n",
    "\n",
    "# Matrix Transpose\n",
    "transpose = np.transpose(matrix1)\n",
    "print(transpose)\n",
    "\n",
    "# Matrix Inverse - the weird one\n",
    "inverse = np.linalg.inv(matrix1)\n",
    "print(inverse)\n"
   ]
  },
  {
   "cell_type": "markdown",
   "id": "1bf1caec",
   "metadata": {},
   "source": [
    "Both of these libraries are even more expansive than what has been shown here.  A *fun* bit of programming is discovering exactly what each library can do.  Each library has their own extensive online page.  For instance, for `numpy`, we can head to https://numpy.org/doc/stable/reference/ to get tons of help on what this library can do.\n",
    "\n",
    "\n",
    "### Discussion time...\n",
    "In a small group, read through this documentation and find one or two things that `numpy` can do to share with the class."
   ]
  },
  {
   "cell_type": "code",
   "execution_count": null,
   "id": "1952d6f2",
   "metadata": {},
   "outputs": [],
   "source": []
  },
  {
   "cell_type": "markdown",
   "id": "df33c3ab",
   "metadata": {},
   "source": [
    "### General Program Structure\n",
    "\n",
    "When you are creating a program, there is often a standard structure we follow.  Your program should have the following *order* to it.\n",
    "\n",
    "1. Library imports\n",
    "2. Function definitions and/or the importing of data sets\n",
    "3. Variable definitions\n",
    "4. Actual program"
   ]
  },
  {
   "cell_type": "markdown",
   "id": "09153452",
   "metadata": {},
   "source": [
    "### Lab Assignment Style Question\n",
    "---\n",
    "You are a manager at a retail store, and you want to analyze the sales data for the past month to identify the following:\n",
    "\n",
    "- The total sales for the month.\n",
    "- The average daily sales.\n",
    "- The number of days with above-average sales.\n",
    "\n",
    "Create functions to compute the total sales for a month (`total_sales`) and the average daily sales (`average_sales`) - each should have one parameter called `sales`.  Use a loop to compute the number of days with above-average sales. Print for the user - the total monthly sales, the average daily sales and the number of days with above-average sales."
   ]
  },
  {
   "cell_type": "code",
   "execution_count": 3,
   "id": "45105ed6",
   "metadata": {},
   "outputs": [
    {
     "name": "stdout",
     "output_type": "stream",
     "text": [
      "21200\n",
      "1325.0\n",
      "8\n"
     ]
    }
   ],
   "source": [
    "# import the numpy library\n",
    "import numpy as np\n",
    "\n",
    "# function definitions\n",
    "def total_sales(sales):\n",
    "    return np.sum(sales)  #computes the MEAN of a list\n",
    "    \n",
    "def average_sales(sales):\n",
    "    return np.mean(sales)\n",
    "\n",
    "# daily sales (given)\n",
    "daily_sales = [1200, 1450, 1100, 900, 1350, 1600, 1550, 1400, 1250, 1100, 1300, 1500, 1650, 1400, 1200, 1250]\n",
    "\n",
    "# computations of total montly sales and average sales\n",
    "total = total_sales(daily_sales)\n",
    "average = average_sales(daily_sales)\n",
    "\n",
    "\n",
    "# determine the number of days with above-average sales\n",
    "ctr = 0\n",
    "for i in daily_sales:\n",
    "    if i > average:\n",
    "           ctr += 1\n",
    "\n",
    "# print results\n",
    "print(total)\n",
    "print(average)\n",
    "print(ctr)"
   ]
  },
  {
   "cell_type": "code",
   "execution_count": 62,
   "id": "fa94631b",
   "metadata": {},
   "outputs": [
    {
     "name": "stdout",
     "output_type": "stream",
     "text": [
      "Total Sales: 770000\n",
      "Average Sales per Month: 64166.666666666664\n",
      "Month with Highest Sales: 12\n",
      "Standard Deviation of Sales: 12212.243401148247\n"
     ]
    }
   ],
   "source": [
    "#practive qs:\n",
    "\n",
    "sales_data = np.array([45000, 48000, 52000, 60000, 55000, 61000, 68000, 72000, 69000, 75000, 80000, 85000])\n",
    "\n",
    "# a. Calculate the total sales for the company.\n",
    "total_sales = np.sum(sales_data)\n",
    "print(\"Total Sales:\", total_sales)\n",
    "\n",
    "# b. Calculate the average sales per month.\n",
    "average_sales = np.mean(sales_data)\n",
    "print(\"Average Sales per Month:\", average_sales)\n",
    "\n",
    "# c. Find the month with the highest sales.\n",
    "highest_sales_month = np.argmax(sales_data) + 1  # Adding 1 because months are 1-based.\n",
    "print(\"Month with Highest Sales:\", highest_sales_month)\n",
    "\n",
    "# d. Calculate the standard deviation of sales.\n",
    "sales_std_dev = np.std(sales_data)\n",
    "print(\"Standard Deviation of Sales:\", sales_std_dev)"
   ]
  },
  {
   "cell_type": "code",
   "execution_count": 68,
   "id": "c4c30303",
   "metadata": {},
   "outputs": [
    {
     "name": "stdout",
     "output_type": "stream",
     "text": [
      "[35000 34000 35000 38000 37000 39000 41000 42000 43000 45000 47000 51000]\n",
      "40583.333333333336\n"
     ]
    }
   ],
   "source": []
  },
  {
   "cell_type": "code",
   "execution_count": 2,
   "id": "131373a8",
   "metadata": {},
   "outputs": [
    {
     "ename": "NameError",
     "evalue": "name 'np' is not defined",
     "output_type": "error",
     "traceback": [
      "\u001b[0;31m---------------------------------------------------------------------------\u001b[0m",
      "\u001b[0;31mNameError\u001b[0m                                 Traceback (most recent call last)",
      "Cell \u001b[0;32mIn[2], line 10\u001b[0m\n\u001b[1;32m      7\u001b[0m     \u001b[38;5;28;01mreturn\u001b[39;00m np\u001b[38;5;241m.\u001b[39mmean(profits)\n\u001b[1;32m      9\u001b[0m \u001b[38;5;66;03m# Given monthly expenses and revenues\u001b[39;00m\n\u001b[0;32m---> 10\u001b[0m expenses \u001b[38;5;241m=\u001b[39m np\u001b[38;5;241m.\u001b[39marray([\u001b[38;5;241m25000\u001b[39m, \u001b[38;5;241m28000\u001b[39m, \u001b[38;5;241m30000\u001b[39m, \u001b[38;5;241m32000\u001b[39m, \u001b[38;5;241m31000\u001b[39m, \u001b[38;5;241m33000\u001b[39m, \u001b[38;5;241m34000\u001b[39m, \u001b[38;5;241m35000\u001b[39m, \u001b[38;5;241m36000\u001b[39m, \u001b[38;5;241m37000\u001b[39m, \u001b[38;5;241m38000\u001b[39m, \u001b[38;5;241m39000\u001b[39m])\n\u001b[1;32m     11\u001b[0m revenues \u001b[38;5;241m=\u001b[39m np\u001b[38;5;241m.\u001b[39marray([\u001b[38;5;241m60000\u001b[39m, \u001b[38;5;241m62000\u001b[39m, \u001b[38;5;241m65000\u001b[39m, \u001b[38;5;241m70000\u001b[39m, \u001b[38;5;241m68000\u001b[39m, \u001b[38;5;241m72000\u001b[39m, \u001b[38;5;241m75000\u001b[39m, \u001b[38;5;241m77000\u001b[39m, \u001b[38;5;241m79000\u001b[39m, \u001b[38;5;241m82000\u001b[39m, \u001b[38;5;241m85000\u001b[39m, \u001b[38;5;241m90000\u001b[39m])\n\u001b[1;32m     13\u001b[0m \u001b[38;5;66;03m# Calculate monthly profits\u001b[39;00m\n",
      "\u001b[0;31mNameError\u001b[0m: name 'np' is not defined"
     ]
    }
   ],
   "source": [
    "#PROFIT CALCULATION\n",
    "\n",
    "def calculate_profits(expenses, revenues):\n",
    "    return revenues - expenses\n",
    "\n",
    "def calculate_average_profits(profits):\n",
    "    return np.mean(profits)\n",
    "\n",
    "# Given monthly expenses and revenues\n",
    "expenses = np.array([25000, 28000, 30000, 32000, 31000, 33000, 34000, 35000, 36000, 37000, 38000, 39000])\n",
    "revenues = np.array([60000, 62000, 65000, 70000, 68000, 72000, 75000, 77000, 79000, 82000, 85000, 90000])\n",
    "\n",
    "# Calculate monthly profits\n",
    "profits = calculate_profits(expenses, revenues)\n",
    "\n",
    "# Calculate the average monthly profit\n",
    "average_profit = calculate_average_profits(profits)\n",
    "\n",
    "print(\"Monthly Profits:\")\n",
    "print(profits)\n",
    "print(\"Average Monthly Profit:\", average_profit)"
   ]
  },
  {
   "cell_type": "code",
   "execution_count": 73,
   "id": "f7732c19",
   "metadata": {},
   "outputs": [
    {
     "name": "stdout",
     "output_type": "stream",
     "text": [
      "[1000 1500 1800 1250 2400]\n",
      "7950\n"
     ]
    }
   ],
   "source": [
    "product_prices = np.array([10, 20, 15, 25, 30])\n",
    "quantities_sold = np.array([100, 75, 120, 50, 80])\n",
    "\n",
    "\n",
    "#calculate total rev from each product and total revenue for the store\n",
    "\n",
    "def calculate_rev(product_prices, quantities_sold):\n",
    "    return product_prices * quantities_sold\n",
    "\n",
    "def calculate_total_rev(revenue):\n",
    "    return np.sum(revenue)\n",
    "\n",
    "revenue = calculate_rev(product_prices, quantities_sold)\n",
    "total_revenue = calculate_total_rev(revenue)\n",
    "\n",
    "\n",
    "print(revenue)\n",
    "print(total_revenue)"
   ]
  },
  {
   "cell_type": "code",
   "execution_count": 74,
   "id": "1cd8ad9d",
   "metadata": {},
   "outputs": [
    {
     "name": "stdout",
     "output_type": "stream",
     "text": [
      "35.5\n",
      "173.5\n"
     ]
    }
   ],
   "source": [
    "customer_ages = np.array([28, 35, 42, 24, 50, 33, 29, 38, 45, 31])\n",
    "purchase_amounts = np.array([100, 200, 150, 75, 250, 180, 120, 220, 280, 160])\n",
    "\n",
    "#Calculate the average age of customers and the average purchase amount.\n",
    "avg_age = np.mean(customer_ages)\n",
    "avg_purchase = np.mean(purchase_amounts)\n",
    "\n",
    "print(avg_age)\n",
    "print(avg_purchase)"
   ]
  },
  {
   "cell_type": "code",
   "execution_count": 81,
   "id": "76cf8afc",
   "metadata": {},
   "outputs": [
    {
     "name": "stdout",
     "output_type": "stream",
     "text": [
      "[ 6.66666667  8.33333333 15.38461538 -8.33333333 10.90909091 11.47540984\n",
      "  5.88235294 -4.16666667  8.69565217  6.66666667  6.25      ]\n",
      "[45000 48000 52000 60000 55000 61000 68000 72000 69000 75000 80000]\n"
     ]
    }
   ],
   "source": [
    "sales_data = np.array([45000, 48000, 52000, 60000, 55000, 61000, 68000, 72000, 69000, 75000, 80000, 85000])\n",
    "\n",
    "#Calculate the month-over-month growth rate for each month.\n",
    "\n",
    "growth_rate = np.diff(sales_data) / sales_data[:-1] * 100\n",
    "\n",
    "print(growth_rate)\n",
    "print(sales_data[:-1])"
   ]
  }
 ],
 "metadata": {
  "kernelspec": {
   "display_name": "Python 3 (ipykernel)",
   "language": "python",
   "name": "python3"
  },
  "language_info": {
   "codemirror_mode": {
    "name": "ipython",
    "version": 3
   },
   "file_extension": ".py",
   "mimetype": "text/x-python",
   "name": "python",
   "nbconvert_exporter": "python",
   "pygments_lexer": "ipython3",
   "version": "3.11.4"
  }
 },
 "nbformat": 4,
 "nbformat_minor": 5
}
