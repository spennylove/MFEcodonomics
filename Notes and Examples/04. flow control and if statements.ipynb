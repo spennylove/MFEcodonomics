{
 "cells": [
  {
   "cell_type": "markdown",
   "id": "532137e4",
   "metadata": {},
   "source": [
    "# ADS2288F - Sept 20th\n",
    "> Flow control and if statements\n",
    "---"
   ]
  },
  {
   "cell_type": "markdown",
   "id": "26d6077f",
   "metadata": {},
   "source": [
    "At this point, we have the basics of individual instruction and can understand that a \"program\" is a series of instructions.  Programming's real strenghth, however, isn't just running *one* instruction after another like a to-do list.  A program can, in fact, decide to skip instructions, repeat them, or choose one of serveral instructions to run.  In fact, you almost never want your programs to start from the first line of code and execute every line, straight to the end.  **Flow control statements** can decide which instructions to execute under which conditions.\n",
    "\n",
    "---"
   ]
  },
  {
   "cell_type": "markdown",
   "id": "f23e016e",
   "metadata": {},
   "source": [
    "![title](flowcontrolpicture.jpeg)"
   ]
  },
  {
   "cell_type": "markdown",
   "id": "7b3ebb4c",
   "metadata": {},
   "source": [
    "---\n",
    "\n",
    "A lot of flow control, as we see in the schematic above, deals with the checking of **Boolean expressions**.  A key component is the checking of *if* an expression is true, and then completing some block of code.  For a reminder on Boolean expressions, see our Notebook from September 13th."
   ]
  },
  {
   "cell_type": "markdown",
   "id": "a59b68ba",
   "metadata": {},
   "source": [
    "## Elements of Flow Control\n",
    "\n",
    "Flow control often is considered to have two parts: (1) the start of the statement called the *condition* and (2) the *clause*, which is the block of code immediately following the condition. "
   ]
  },
  {
   "cell_type": "markdown",
   "id": "e0b09718",
   "metadata": {},
   "source": [
    "## `if` statements\n",
    "> Most common flow control statment\n",
    "\n",
    "---\n",
    "\n",
    "An `if` statement is exactly what you think - a bit of code that will check *if* something is true, and if so, will complete a certain task.  An `if` statement's *clause* will only execute if the condition is **true**.  An example if statement looks like the following:"
   ]
  },
  {
   "cell_type": "code",
   "execution_count": 3,
   "id": "cb7daf93",
   "metadata": {},
   "outputs": [
    {
     "name": "stdout",
     "output_type": "stream",
     "text": [
      "That is all.\n"
     ]
    }
   ],
   "source": [
    "# example if statement\n",
    "\n",
    "x = 56\n",
    "if x < 0:\n",
    "    print(x,\" is negative.\")\n",
    "print(\"That is all.\")"
   ]
  },
  {
   "cell_type": "markdown",
   "id": "a3b93598",
   "metadata": {},
   "source": [
    "There are a few key syntax features that need to be mentioned in the example `if` statement above:\n",
    "1. The colon, and\n",
    "2. The indentation."
   ]
  },
  {
   "cell_type": "markdown",
   "id": "659c6d32",
   "metadata": {},
   "source": [
    "`if` statements can be followed by `else` statements.  The `else` statement's clause will only run if the `if` statements condition is **false** - sort of logical really.  For instance,"
   ]
  },
  {
   "cell_type": "code",
   "execution_count": 6,
   "id": "71e8f282",
   "metadata": {},
   "outputs": [
    {
     "name": "stdout",
     "output_type": "stream",
     "text": [
      "6  is positive\n"
     ]
    }
   ],
   "source": [
    "# write a code that sets an x-value to some integer, then checks if it's negative... if so print that out\n",
    "# otherwise, print out a statement saying it's positive.\n",
    "x = 6\n",
    "\n",
    "if x<0:\n",
    "    print(x,\" is negative!\")\n",
    "else:\n",
    "    print(x,\" is positive!\")"
   ]
  },
  {
   "cell_type": "markdown",
   "id": "49834df9",
   "metadata": {},
   "source": [
    "A special type of `else` statement is the `elif` statement.  Normally, only one of `if` or `else` statements will run, we may need to specify an additional clause to run if some other condition is met."
   ]
  },
  {
   "cell_type": "code",
   "execution_count": 9,
   "id": "6158a383",
   "metadata": {},
   "outputs": [
    {
     "name": "stdout",
     "output_type": "stream",
     "text": [
      "6 is positive\n"
     ]
    }
   ],
   "source": [
    "# write a code that sets an x-value to some integer\n",
    "# initially checks if it's negative and make a print statement\n",
    "# then checks if the number is 0 and make a print statement\n",
    "# then will print a message saying its positive if everything else was false\n",
    "x=6\n",
    "if x<0:\n",
    "    print(x, 'is negative')\n",
    "elif x==0:\n",
    "    print(x,' is zero')\n",
    "else:\n",
    "    print(x, 'is positive')\n"
   ]
  },
  {
   "cell_type": "markdown",
   "id": "3ddb18d0",
   "metadata": {},
   "source": [
    "## Some `if` statement examples\n",
    "\n",
    "---\n",
    "\n",
    "**Write the code for this:**\n",
    "\n",
    "Input is a real number `a`. Output: if `a` is negative (smaller than zero), then print ‘the number is negative’; if `a` is equal to zero or smaller than 4, then print ‘the number is zero or smaller than 4’; otherwise, print ‘the number is larger than or equal to 4’."
   ]
  },
  {
   "cell_type": "code",
   "execution_count": 11,
   "id": "70b3b810",
   "metadata": {},
   "outputs": [
    {
     "name": "stdout",
     "output_type": "stream",
     "text": [
      "the number is zero or smaller than 4\n"
     ]
    }
   ],
   "source": [
    "a = 3\n",
    "if a < 0:\n",
    "    print('the number is negative')\n",
    "elif a==0 or a < 4:\n",
    "    print('the number is zero or smaller than 4')\n",
    "else:\n",
    "    print('the number is larger or equal to 4')"
   ]
  },
  {
   "cell_type": "markdown",
   "id": "5dfc13fd",
   "metadata": {},
   "source": [
    "**Write the code for this:**\n",
    "\n",
    "Input is a positive integer `m`. Output: if `m`\n",
    "is divisible by 4 but not divisible by 3, print ‘the number is divisible\n",
    "by 4 but not divisible by 3’; if `m` is divisible by 3 but not divisible by\n",
    "4, print ‘the number is divisible by 3 but not divisible by 4’; if `m` is\n",
    "divisible by both 3 and 4, print ‘the number is divisible by both 3 and\n",
    "4’; otherwise, print ‘the number is not divisible by 3 and not divisible\n",
    "by 4’."
   ]
  },
  {
   "cell_type": "code",
   "execution_count": 20,
   "id": "cbc9a32d",
   "metadata": {},
   "outputs": [
    {
     "name": "stdout",
     "output_type": "stream",
     "text": [
      "the number is divisible by 4 but not divisible by 3\n"
     ]
    }
   ],
   "source": [
    "m = 8\n",
    "\n",
    "if m%4==0 and m%3!=0:\n",
    "    print('the number is divisible by 4 but not divisible by 3')\n",
    "elif m%3 == 0 and m%4!=0:\n",
    "    print('the number is divisible by 3 but not divisible by 4')\n",
    "elif m%3==0 and m%4==0:\n",
    "    print('the number is divisible by both 3 and 4')\n",
    "else:\n",
    "    print('the number is not divisible by 3 and not divisible by 4')"
   ]
  }
 ],
 "metadata": {
  "kernelspec": {
   "display_name": "Python 3 (ipykernel)",
   "language": "python",
   "name": "python3"
  },
  "language_info": {
   "codemirror_mode": {
    "name": "ipython",
    "version": 3
   },
   "file_extension": ".py",
   "mimetype": "text/x-python",
   "name": "python",
   "nbconvert_exporter": "python",
   "pygments_lexer": "ipython3",
   "version": "3.11.4"
  }
 },
 "nbformat": 4,
 "nbformat_minor": 5
}
