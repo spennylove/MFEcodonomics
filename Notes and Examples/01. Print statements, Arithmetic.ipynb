{
 "cells": [
  {
   "cell_type": "markdown",
   "id": "c9e96ff5",
   "metadata": {},
   "source": [
    "# ADS2288F - Sept 11th \n",
    "\n",
    ">Python Basics using Jupyter, Print statements, Arithmetic \n",
    "---"
   ]
  },
  {
   "cell_type": "markdown",
   "id": "27f3c9a1",
   "metadata": {},
   "source": [
    "The space that we type our code in is called a **cell**. A notebook contains many cells, and will generate new cells each time a previous cell is ran.\n",
    "\n",
    "Traditionally, the first program we write using any programming language is the *Hello, World* program. We will get Python to **print** a small statement that says \"Hello, world!\". \n",
    "\n",
    "To execute a cell - meaning to \"run\" that cell - we can either click **Run** in the task bar at the type of the notebook, or press \n",
    "\n",
    "- alt + return, or\n",
    "- option + return, or\n",
    "- shift + return"
   ]
  },
  {
   "cell_type": "code",
   "execution_count": 18,
   "id": "bdda2767",
   "metadata": {},
   "outputs": [
    {
     "name": "stdout",
     "output_type": "stream",
     "text": [
      "Hello World\n"
     ]
    }
   ],
   "source": [
    "print(\"Hello World\")"
   ]
  },
  {
   "cell_type": "markdown",
   "id": "26373042",
   "metadata": {
    "slideshow": {
     "slide_type": "slide"
    }
   },
   "source": [
    "It's important to note that we cannot simply just leave a cell and assume anything is going to happen. We must actually **run** the cell for Python to do anything - this includes displaying the output, or even saving variables (to come later)."
   ]
  },
  {
   "cell_type": "code",
   "execution_count": 7,
   "id": "c75752db",
   "metadata": {},
   "outputs": [],
   "source": [
    "#"
   ]
  },
  {
   "cell_type": "markdown",
   "id": "a83ee1b2",
   "metadata": {},
   "source": [
    "The best way to learn how to program is to **experiment**.  Try producing a variety of different of different print statements.   \n",
    "- What can you print? What can you not print?\n",
    "- What questions do you have?"
   ]
  },
  {
   "cell_type": "code",
   "execution_count": 9,
   "id": "738cabf7",
   "metadata": {
    "scrolled": true
   },
   "outputs": [
    {
     "name": "stdout",
     "output_type": "stream",
     "text": [
      "hello\n"
     ]
    }
   ],
   "source": [
    "print(\"hello\")"
   ]
  },
  {
   "cell_type": "code",
   "execution_count": 21,
   "id": "5dcdfbb3",
   "metadata": {},
   "outputs": [
    {
     "name": "stdout",
     "output_type": "stream",
     "text": [
      "not 6!\n"
     ]
    }
   ],
   "source": [
    "#yoyoyo\n",
    "value = 8\n",
    "\n",
    "if value < 6:\n",
    "    print(\"less than 6\")\n",
    "    \n",
    "else:\n",
    "    print (\"not 6!\")"
   ]
  },
  {
   "cell_type": "markdown",
   "id": "c5563c00",
   "metadata": {},
   "source": [
    "Let's now play a **game**.  The next few cells have a variety of <code>print</code> statements.  Can you tell what they would output?"
   ]
  },
  {
   "cell_type": "code",
   "execution_count": 10,
   "id": "2293cc6b",
   "metadata": {},
   "outputs": [
    {
     "name": "stdout",
     "output_type": "stream",
     "text": [
      "I am going to Mary's house\n"
     ]
    }
   ],
   "source": [
    "# What will this output?\n",
    "\n",
    "print(\"I am going to Mary's house\")"
   ]
  },
  {
   "cell_type": "code",
   "execution_count": 11,
   "id": "64c97ee7",
   "metadata": {},
   "outputs": [
    {
     "name": "stdout",
     "output_type": "stream",
     "text": [
      "Today is Tuesday\n"
     ]
    }
   ],
   "source": [
    "# What will this output?\n",
    "\n",
    "print('Today is',\"Tuesday\")"
   ]
  },
  {
   "cell_type": "code",
   "execution_count": 12,
   "id": "a09ddd57",
   "metadata": {},
   "outputs": [
    {
     "name": "stdout",
     "output_type": "stream",
     "text": [
      "Today is           Tuesday\n"
     ]
    }
   ],
   "source": [
    "# What will this output?\n",
    "\n",
    "print('Today is',\"          Tuesday\")"
   ]
  },
  {
   "cell_type": "code",
   "execution_count": 13,
   "id": "a35818ac",
   "metadata": {},
   "outputs": [
    {
     "ename": "SyntaxError",
     "evalue": "'(' was never closed (14935679.py, line 3)",
     "output_type": "error",
     "traceback": [
      "\u001b[0;36m  Cell \u001b[0;32mIn[13], line 3\u001b[0;36m\u001b[0m\n\u001b[0;31m    print('Today is'\u001b[0m\n\u001b[0m         ^\u001b[0m\n\u001b[0;31mSyntaxError\u001b[0m\u001b[0;31m:\u001b[0m '(' was never closed\n"
     ]
    }
   ],
   "source": [
    "# What will this output?\n",
    "\n",
    "print('Today is'\n",
    "print(\"Tuesday\")"
   ]
  },
  {
   "cell_type": "code",
   "execution_count": null,
   "id": "6db62b1b",
   "metadata": {},
   "outputs": [],
   "source": []
  },
  {
   "cell_type": "markdown",
   "id": "504ba81a",
   "metadata": {},
   "source": [
    "Just for some more fun... here's a small program that you'll be able to parse and event create by the end of our six week adventure in Python! We'll be moving quick - but this is something to look forward to! Run the program and see what it does! OR even better... do you have any ideas what might be going on?"
   ]
  },
  {
   "cell_type": "code",
   "execution_count": null,
   "id": "caefa5f1",
   "metadata": {},
   "outputs": [],
   "source": [
    "# importing packages (what are these?)\n",
    "import matplotlib.pyplot as plt # to draw graphs\n",
    "%matplotlib inline  \n",
    "import numpy as np # for numeric calculations\n",
    "\n",
    "def f(x):\n",
    "    return 2*np.sin(0.8*x**2)-2*np.log(x)\n",
    "\n",
    "# define parameters\n",
    "a = 1   \n",
    "b = 4\n",
    "n = 400\n",
    "h = 0.001 \n",
    "\n",
    "# define variables\n",
    "x = np.linspace(a,b,n)\n",
    "y=f(x)\n",
    "y_prime = (f(x+h)-f(x))/h\n",
    "\n",
    "# plot functions\n",
    "plt.plot(x,y, label = '$f(x)$', color = 'green')\n",
    "plt.plot(x,y_prime, label = \"$f'(x)$\", color = 'red')\n",
    "plt.title(\"Graphs of $f(x)$ and $f'(x)$\")\n",
    "plt.legend()\n",
    "plt.grid()\n",
    "plt.show()"
   ]
  },
  {
   "cell_type": "markdown",
   "id": "2211d8a0",
   "metadata": {},
   "source": [
    "---\n",
    "### Using Python as a Calculator\n",
    "> We can use Python to calculate some basic arithmetic.  Anything more complicated, like matrix algebra, we will need a little more that we will learn later :)\n",
    "---"
   ]
  },
  {
   "cell_type": "markdown",
   "id": "e9d6ffca",
   "metadata": {},
   "source": [
    "Python is able to do basic arithmetic operations such as addition, subtraction, multiplication, divisioin and exponentiation. Let's get some practice doing these."
   ]
  },
  {
   "cell_type": "code",
   "execution_count": 4,
   "id": "e6d289cf",
   "metadata": {},
   "outputs": [],
   "source": [
    "#addition is +, subtraction is -, multiplication is *, exponents are **\n",
    "\n",
    "value = 4+6"
   ]
  },
  {
   "cell_type": "code",
   "execution_count": 5,
   "id": "2e8b9b6b",
   "metadata": {},
   "outputs": [
    {
     "name": "stdout",
     "output_type": "stream",
     "text": [
      "10\n"
     ]
    }
   ],
   "source": [
    "print(value)"
   ]
  },
  {
   "cell_type": "code",
   "execution_count": null,
   "id": "2a0ad89a",
   "metadata": {},
   "outputs": [],
   "source": []
  },
  {
   "cell_type": "markdown",
   "id": "1b2818bc",
   "metadata": {
    "slideshow": {
     "slide_type": "slide"
    }
   },
   "source": [
    "In your **first lab**, you'll get practice with arithmetic and print statements. Mostly, trying to figure out how BEDMAS - or PEDMAS ... or order of operations - works for Python. \n",
    "\n",
    "Python is interesting, however.  As we have two different types of division that we have not covered.  Mainly, what happens if we use the expressions <code>//</code> or <code>%</code>?"
   ]
  },
  {
   "cell_type": "code",
   "execution_count": 22,
   "id": "c8f5446e",
   "metadata": {},
   "outputs": [
    {
     "name": "stdout",
     "output_type": "stream",
     "text": [
      "8\n"
     ]
    }
   ],
   "source": [
    "# what is this outputting for us?\n",
    "\n",
    "print(286748%20) #remainder after dividing"
   ]
  },
  {
   "cell_type": "code",
   "execution_count": 23,
   "id": "dcf0c834",
   "metadata": {},
   "outputs": [
    {
     "name": "stdout",
     "output_type": "stream",
     "text": [
      "14337\n"
     ]
    }
   ],
   "source": [
    "# what is this outputting for us?\n",
    "\n",
    "print(286748//20) #integer division but rounding down (flooring)"
   ]
  },
  {
   "cell_type": "markdown",
   "id": "714959a9",
   "metadata": {},
   "source": [
    "With any mathematical background, you're probably wondering how do we utilize mathematical operators such as e^x or ln(x), or sin(x) or cos(x), or even matrices? Let's **experiment**... what happens? "
   ]
  },
  {
   "cell_type": "code",
   "execution_count": 24,
   "id": "c5b96cad",
   "metadata": {},
   "outputs": [
    {
     "ename": "NameError",
     "evalue": "name 'e' is not defined",
     "output_type": "error",
     "traceback": [
      "\u001b[0;31m---------------------------------------------------------------------------\u001b[0m",
      "\u001b[0;31mNameError\u001b[0m                                 Traceback (most recent call last)",
      "Cell \u001b[0;32mIn[24], line 1\u001b[0m\n\u001b[0;32m----> 1\u001b[0m \u001b[38;5;28mprint\u001b[39m(e\u001b[38;5;241m*\u001b[39m\u001b[38;5;241m*\u001b[39mx)\n",
      "\u001b[0;31mNameError\u001b[0m: name 'e' is not defined"
     ]
    }
   ],
   "source": []
  },
  {
   "cell_type": "code",
   "execution_count": null,
   "id": "0505e5f8",
   "metadata": {},
   "outputs": [],
   "source": []
  }
 ],
 "metadata": {
  "kernelspec": {
   "display_name": "Python 3 (ipykernel)",
   "language": "python",
   "name": "python3"
  },
  "language_info": {
   "codemirror_mode": {
    "name": "ipython",
    "version": 3
   },
   "file_extension": ".py",
   "mimetype": "text/x-python",
   "name": "python",
   "nbconvert_exporter": "python",
   "pygments_lexer": "ipython3",
   "version": "3.11.4"
  }
 },
 "nbformat": 4,
 "nbformat_minor": 5
}
