{
 "cells": [
  {
   "cell_type": "markdown",
   "id": "e1c34e8a",
   "metadata": {},
   "source": [
    "# ADS2288F - Sept 25th\n",
    "> Loops - for and while\n",
    "---"
   ]
  },
  {
   "cell_type": "code",
   "execution_count": null,
   "id": "98076884",
   "metadata": {},
   "outputs": [],
   "source": []
  },
  {
   "cell_type": "code",
   "execution_count": 3,
   "id": "aecfb112",
   "metadata": {},
   "outputs": [
    {
     "name": "stdout",
     "output_type": "stream",
     "text": [
      "[0, -33, 7, 1001]\n"
     ]
    }
   ],
   "source": [
    "# Do not run this cell yet!\n",
    "# What does this code do? Walk the class through the code!\n",
    "\n",
    "list_one = [0,-33,7]\n",
    "\n",
    "if len(list_one) == 3:            #len: gives length of list\n",
    "    list_one.append(1001)       \n",
    "    print(list_one)\n",
    "else:\n",
    "    list_one.extend([34,35,36,37,38,39])\n",
    "    print(list_one)"
   ]
  },
  {
   "cell_type": "markdown",
   "id": "bc6a8b76",
   "metadata": {},
   "source": [
    "## While Loops\n",
    "> loops that run while a condition is TRUE\n",
    "---\n",
    "\n",
    "`while` loops are useful tools that will continue running a clause until a given condition is `FALSE`.  We will see the syntax for loops (both `while` and `for` loops) is very similar to our `if` statements.  The way they function, however, is quite different."
   ]
  },
  {
   "cell_type": "code",
   "execution_count": 4,
   "id": "c280c2ef",
   "metadata": {},
   "outputs": [
    {
     "name": "stdout",
     "output_type": "stream",
     "text": [
      "12.5\n",
      "6.25\n",
      "3.125\n",
      "1.5625\n",
      "0.78125\n",
      "\n",
      "Finished - the final value of n is 0.78125\n"
     ]
    }
   ],
   "source": [
    "# an example WHILE loop\n",
    "\n",
    "n = 25\n",
    "while n > 1:\n",
    "    n = n/2   ###   or can use:  n/=2\n",
    "    print(n)\n",
    "print(\"\")\n",
    "print(\"Finished - the final value of n is\",n)"
   ]
  },
  {
   "cell_type": "code",
   "execution_count": null,
   "id": "d72ef4c0",
   "metadata": {},
   "outputs": [],
   "source": [
    "# how many times through the loop? 5\n",
    "\n"
   ]
  },
  {
   "cell_type": "code",
   "execution_count": null,
   "id": "60b7f26d",
   "metadata": {},
   "outputs": [],
   "source": [
    "# run through a loop controlled number of times\n",
    "\n"
   ]
  },
  {
   "cell_type": "markdown",
   "id": "a6cb4e7b",
   "metadata": {},
   "source": [
    "`while` loops are extremely useful tools when we do not know the exact number of times we need a function to loop through a clause.  For instance, a guessing game.  However, they have one major downfall - an **infinite loop**.  We could create a condition that is always `TRUE`, thus the `while` loop will continue to run forever. \n",
    "\n",
    "Most loops in Python - at least at the level we are learning them - will finish in a quick amount of time (definitely no more than a couple minutes).  If you notice that your program is still running, and not coming to its end, perhaps you are stuck in an **infinite loop**.  To end an infinite loop, you can press `Ctrl - C` / `Cmd - C` (or the stop button in Jupyter)."
   ]
  },
  {
   "cell_type": "code",
   "execution_count": null,
   "id": "ba2e2b73",
   "metadata": {},
   "outputs": [],
   "source": [
    "# an infinite loop\n",
    "\n",
    "a = 1\n",
    "\n",
    "while a == 1:\n",
    "    b = a + 1\n",
    "    print(\"haha, we are going to go on forever!\")"
   ]
  },
  {
   "cell_type": "markdown",
   "id": "92a0d8cb",
   "metadata": {},
   "source": [
    "## For Loops\n",
    "> loops that run through a list or certain amount of times\n",
    "---\n",
    "\n",
    "`for` loops will only run for a certain amount of times, often set using the `range()` function that we learned a few lessons back.  The syntax for a `for` loop, again, is similar to what we've seen previously with a few differences.  The nice part of a `for` loop is it will never have the infinite loop problem (unless you do something quite wrong) and will stop after a certain number of runs."
   ]
  },
  {
   "cell_type": "code",
   "execution_count": 6,
   "id": "89216699",
   "metadata": {},
   "outputs": [
    {
     "name": "stdout",
     "output_type": "stream",
     "text": [
      "0\n",
      "1\n",
      "2\n",
      "3\n",
      "4\n",
      "5\n",
      "the value of the loop variable, after the loop ends, is 5\n"
     ]
    }
   ],
   "source": [
    "# very basic for loop\n",
    "\n",
    "for n in range(0,6):\n",
    "    print (n) \n",
    "print(\"the value of the loop variable, after the loop ends, is\",n)  "
   ]
  },
  {
   "cell_type": "code",
   "execution_count": 7,
   "id": "80f3cba4",
   "metadata": {},
   "outputs": [
    {
     "name": "stdout",
     "output_type": "stream",
     "text": [
      "3\n",
      "4\n",
      "5\n",
      "6\n",
      "7\n",
      "8\n",
      "9\n"
     ]
    }
   ],
   "source": [
    "# make Python print the numbers 3 to 9, inclusive\n",
    "for n in range(3,10):\n",
    "    print(n)\n"
   ]
  },
  {
   "cell_type": "code",
   "execution_count": 1,
   "id": "bbd0ae78",
   "metadata": {},
   "outputs": [
    {
     "name": "stdout",
     "output_type": "stream",
     "text": [
      "21\n",
      "19\n",
      "17\n",
      "15\n",
      "13\n",
      "11\n",
      "9\n",
      "7\n",
      "5\n",
      "3\n"
     ]
    }
   ],
   "source": [
    "# make Python print   21, 19, 17, 13, ..., 3\n",
    "for n in range(21,1,-2):\n",
    "    print(n)\n"
   ]
  },
  {
   "cell_type": "markdown",
   "id": "ebbc17d9",
   "metadata": {},
   "source": [
    "A common practice when using `for` loops is to do calculations as the clause.  Either, we need to do a computation a certain amount of times, or perhaps we need to iterate a calculation.  For instance, we may want to compute the sum of the first 10,000 integers."
   ]
  },
  {
   "cell_type": "code",
   "execution_count": 23,
   "id": "c7eb27b7",
   "metadata": {},
   "outputs": [
    {
     "name": "stdout",
     "output_type": "stream",
     "text": [
      "9.787606036044348\n"
     ]
    }
   ],
   "source": [
    "# calculate the sum of the first 10,000 integers\n",
    "sum = 0\n",
    "a = 10000\n",
    "\n",
    "for n in range(1,a+1):\n",
    "    sum += 1/n\n",
    "\n",
    "print(sum)\n"
   ]
  },
  {
   "cell_type": "markdown",
   "id": "34738bb8",
   "metadata": {},
   "source": [
    "The next two cells have similar loops, but one is better in practice... why is one better than the other?"
   ]
  },
  {
   "cell_type": "code",
   "execution_count": 21,
   "id": "4f47d61d",
   "metadata": {},
   "outputs": [
    {
     "name": "stdout",
     "output_type": "stream",
     "text": [
      "the sum of the first 500000 terms is 13.699580042305627\n"
     ]
    }
   ],
   "source": [
    "sum = 0\n",
    "\n",
    "for i in range(1,500001):\n",
    "    sum += 1/i\n",
    "    \n",
    "print('the sum of the first 500000 terms is',sum)"
   ]
  },
  {
   "cell_type": "code",
   "execution_count": 20,
   "id": "c049f6c9",
   "metadata": {},
   "outputs": [
    {
     "name": "stdout",
     "output_type": "stream",
     "text": [
      "the sum of the first 500000 terms is 13.699580042305627\n"
     ]
    }
   ],
   "source": [
    "sum = 0\n",
    "N = 500000\n",
    "\n",
    "for i in range(1,N+1):\n",
    "    sum += 1/i\n",
    "    \n",
    "print('the sum of the first',N,'terms is',sum)\n",
    "\n",
    "#this for loop is better, allows you to sub in other values if you want to find other number all you have to do is change 'N' value."
   ]
  },
  {
   "cell_type": "code",
   "execution_count": 24,
   "id": "4a722fb1",
   "metadata": {},
   "outputs": [
    {
     "name": "stdout",
     "output_type": "stream",
     "text": [
      "['apple', 'orange', 'banana', 'kiwi']\n",
      " \n",
      "apple\n",
      "orange\n",
      "banana\n",
      "kiwi\n"
     ]
    }
   ],
   "source": [
    "# we can iterate over any sort of list\n",
    "\n",
    "fruit = ['apple', 'orange', 'banana', 'kiwi']\n",
    "print(fruit)\n",
    "print(\" \")\n",
    "\n",
    "for item in fruit:  \n",
    "    print(item)"
   ]
  },
  {
   "cell_type": "code",
   "execution_count": 25,
   "id": "f0d6bc5c",
   "metadata": {},
   "outputs": [
    {
     "name": "stdout",
     "output_type": "stream",
     "text": [
      "9\n",
      "81\n",
      "400\n",
      "16\n",
      "13.690000000000001\n"
     ]
    }
   ],
   "source": [
    "# any list will do\n",
    "\n",
    "values = [3,9,-20,4,3.7]\n",
    "\n",
    "for num in values:\n",
    "    print(num**2)"
   ]
  },
  {
   "cell_type": "markdown",
   "id": "97c47761",
   "metadata": {},
   "source": [
    "### Practice\n",
    "\n",
    "Create a list that goes from $N$ to $2\\times N$.  Using a `for` loop and an `if` statement, count the number of integers divisible by $5$ or $7$."
   ]
  },
  {
   "cell_type": "code",
   "execution_count": 36,
   "id": "ef10e77f",
   "metadata": {},
   "outputs": [
    {
     "name": "stdout",
     "output_type": "stream",
     "text": [
      "the number of integers divisible by 5 or 7 is 32\n"
     ]
    }
   ],
   "source": [
    "N = 100\n",
    "\n",
    "count = 0\n",
    "\n",
    "for num in range(N,2*N + 1):\n",
    "    if num%5==0 or num%7==0:\n",
    "        count += 1\n",
    "        \n",
    "print(\"the number of integers divisible by 5 or 7 is\", count)"
   ]
  },
  {
   "cell_type": "markdown",
   "id": "9a986f0a",
   "metadata": {},
   "source": [
    "### Practice\n",
    "\n",
    "Compute the sum of the digits in a given positive integer.  Remember that a `for` loop works with *any* kind of list."
   ]
  },
  {
   "cell_type": "code",
   "execution_count": 2,
   "id": "a4437e37",
   "metadata": {
    "scrolled": true
   },
   "outputs": [
    {
     "name": "stdout",
     "output_type": "stream",
     "text": [
      "15\n"
     ]
    }
   ],
   "source": [
    "integer = [0,1,2,3,4,5]\n",
    "sum_of_digits = 0\n",
    "\n",
    "for digits in range(len(integer)):\n",
    "    sum_of_digits += digits\n",
    "    \n",
    "print(sum_of_digits)"
   ]
  },
  {
   "cell_type": "code",
   "execution_count": 14,
   "id": "c9fc3d31",
   "metadata": {},
   "outputs": [
    {
     "name": "stdout",
     "output_type": "stream",
     "text": [
      "Apple annual salary: 18000\n",
      "Robot annual salary: 9600\n",
      "Oil annual salary: 14400\n",
      "Car annual salary: 18000\n"
     ]
    }
   ],
   "source": [
    "# Define a list of employee names and their corresponding monthly salaries\n",
    "merch = [\"Apple\", \"Robot\", \"Oil\", \"Car\"]\n",
    "monthly_rev = [1500, 800, 1200, 1500]\n",
    "\n",
    "# store the total revenue for each product and the company's total annual salary expenditure\n",
    "total_annual_rev = []\n",
    "annual_cost = 0\n",
    "\n",
    "# Calculate the total annual salary for each employee and the company's total annual salary expenditure\n",
    "for i in range(len(merch)):\n",
    "    annual_rev = monthly_rev[i] * 12\n",
    "    total_annual_rev.append(annual_rev)\n",
    "    print(f\"{merch[i]} annual salary: {total_annual_rev[i]}\")\n",
    "\n",
    "# Print the annual salary for each employee and the total annual salary expenditure for the company\n"
   ]
  }
 ],
 "metadata": {
  "kernelspec": {
   "display_name": "Python 3 (ipykernel)",
   "language": "python",
   "name": "python3"
  },
  "language_info": {
   "codemirror_mode": {
    "name": "ipython",
    "version": 3
   },
   "file_extension": ".py",
   "mimetype": "text/x-python",
   "name": "python",
   "nbconvert_exporter": "python",
   "pygments_lexer": "ipython3",
   "version": "3.11.4"
  }
 },
 "nbformat": 4,
 "nbformat_minor": 5
}
