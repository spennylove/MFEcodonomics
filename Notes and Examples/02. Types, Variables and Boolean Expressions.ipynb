{
 "cells": [
  {
   "cell_type": "markdown",
   "id": "350d2934",
   "metadata": {},
   "source": [
    "# ADS2288F - Sept 13th \n",
    "\n",
    ">Types, Variables and Boolean Expressions\n",
    "---"
   ]
  },
  {
   "cell_type": "markdown",
   "id": "2f2b4551",
   "metadata": {},
   "source": [
    "Python saves a variety of expressions as different **types**.  To check what type an expression may be, we can use the command `type()`:"
   ]
  },
  {
   "cell_type": "code",
   "execution_count": 3,
   "id": "b1a48126",
   "metadata": {},
   "outputs": [
    {
     "name": "stdout",
     "output_type": "stream",
     "text": [
      "<class 'int'>\n",
      "<class 'float'>\n"
     ]
    }
   ],
   "source": [
    "# Numbers\n",
    "print(type(69))\n",
    "print(type(12.69))"
   ]
  },
  {
   "cell_type": "code",
   "execution_count": 6,
   "id": "a984f672",
   "metadata": {},
   "outputs": [
    {
     "name": "stdout",
     "output_type": "stream",
     "text": [
      "<class 'str'>\n",
      "<class 'bool'>\n"
     ]
    }
   ],
   "source": [
    "# Strings / True or False\n",
    "print(type(\"hello\"))\n",
    "print(type(True))"
   ]
  },
  {
   "cell_type": "markdown",
   "id": "7c271dd7",
   "metadata": {},
   "source": [
    "Knowing the **type** of a certain expression is quite important.  We can only do certain *operations* to expressions of similar type.  For instance,"
   ]
  },
  {
   "cell_type": "code",
   "execution_count": 8,
   "id": "d34c0b8a",
   "metadata": {},
   "outputs": [
    {
     "name": "stdout",
     "output_type": "stream",
     "text": [
      "90\n",
      "3456\n"
     ]
    }
   ],
   "source": [
    "print(34+56)\n",
    "print(\"34\"+\"56\")"
   ]
  },
  {
   "cell_type": "code",
   "execution_count": 13,
   "id": "fd20e072",
   "metadata": {},
   "outputs": [
    {
     "name": "stdout",
     "output_type": "stream",
     "text": [
      "90\n",
      "5\n"
     ]
    }
   ],
   "source": [
    "print(34 + int(\"56\"))\n",
    "print(int(34/6))"
   ]
  },
  {
   "cell_type": "markdown",
   "id": "7bce977d",
   "metadata": {},
   "source": [
    "We also saw that there are two types of numbers - well, that we will use in this course.  So, what happens to the type when we combine these numbers?"
   ]
  },
  {
   "cell_type": "code",
   "execution_count": 18,
   "id": "73ea5e1a",
   "metadata": {},
   "outputs": [
    {
     "name": "stdout",
     "output_type": "stream",
     "text": [
      "<class 'float'>\n",
      "<class 'float'>\n"
     ]
    }
   ],
   "source": [
    "print(type(3/6))\n",
    "print(type(3.1/6))"
   ]
  },
  {
   "cell_type": "code",
   "execution_count": null,
   "id": "e1882d45",
   "metadata": {},
   "outputs": [],
   "source": []
  },
  {
   "cell_type": "markdown",
   "id": "73ecbcc5",
   "metadata": {},
   "source": [
    "---\n",
    "### Boolean Expressions\n",
    ">How Python determines if something is true or false; the underlying programming of conditional statements\n",
    "\n",
    "We can assume that some *thing* in Python may be expressed as either **True** or **False** - called a Boolean Expression.  Part of *conditional statements* - a focus for next week - is to determine the meaning when we combine these two values with **logical operators** - and, or and not. "
   ]
  },
  {
   "cell_type": "code",
   "execution_count": 26,
   "id": "b1ec45c9",
   "metadata": {},
   "outputs": [
    {
     "name": "stdout",
     "output_type": "stream",
     "text": [
      "False\n",
      "True\n",
      "False\n"
     ]
    }
   ],
   "source": [
    "print(True and False)\n",
    "print(True or False)\n",
    "print(not True)"
   ]
  },
  {
   "cell_type": "markdown",
   "id": "c50c80e3",
   "metadata": {},
   "source": [
    "A large portion of an area of mathematics - called **discrete mathematics** - is focused on logical operators, and their associated rules.  Obviously, we will not dive deep into these area of mathematics. **BUT** it is important to know how Boolean Expressions combine together with their operators.\n",
    "\n",
    "For now, let's **experiment**.  Try combining Boolean Expressions with operators, and determine the outcome."
   ]
  },
  {
   "cell_type": "code",
   "execution_count": 1,
   "id": "34789430",
   "metadata": {},
   "outputs": [],
   "source": [
    "# Experiment time! Play with some Boolean Expressions and their operators.\n",
    "# Do you find any that don't make sense from your initial impression?\n",
    "in_class = True\n",
    "if in_class:\n",
    "    print(\"in class\")\n",
    "else:\n",
    "    print(\"you are free\")"
   ]
  },
  {
   "cell_type": "markdown",
   "id": "c1512118",
   "metadata": {},
   "source": [
    "---\n",
    "### Assignments and Variables\n",
    ">A key component of programming - especially with larger programs - is to learn how to assign values to variables that we can use later.  Here, we will learn this is a fairly easy practice, but has a lot of underlying issues.\n",
    "\n",
    "When we type something like `a = 14.0` into Python, this is **not** an equation like we would traditionally think in mathematics.  Rather, this is an **assignment**.  We are **assigning** the value `14.0` to a variable called `a`.\n",
    "\n",
    "Let's try doing this now:"
   ]
  },
  {
   "cell_type": "code",
   "execution_count": 22,
   "id": "dcd24462",
   "metadata": {},
   "outputs": [
    {
     "name": "stdout",
     "output_type": "stream",
     "text": [
      "<class 'float'>\n"
     ]
    }
   ],
   "source": [
    "# Assign the value 14.0 to a ... what type is \"a\"?\n",
    "a = 14.00\n",
    "print(type(a))"
   ]
  },
  {
   "cell_type": "markdown",
   "id": "4231a5cf",
   "metadata": {},
   "source": [
    "We can assign any value - of any type - to some variable in Python.  We just need to remember its **name** and its **type** for use later on.\n",
    "\n",
    "Let's create a bunch of variables of various types:"
   ]
  },
  {
   "cell_type": "code",
   "execution_count": 33,
   "id": "9a6f52ba",
   "metadata": {},
   "outputs": [
    {
     "name": "stdout",
     "output_type": "stream",
     "text": [
      "1\n"
     ]
    }
   ],
   "source": [
    "temperature = 22.9\n",
    "radius = 12.811\n",
    "he_said = True\n"
   ]
  },
  {
   "cell_type": "markdown",
   "id": "7dec00e3",
   "metadata": {},
   "source": [
    "Python does have **rules** regarding what you can name variables.  For the most part, it's pretty lenient in naming - and you have a lot of say in what you would like to name your variables.  However, we have the following rules for variable names that **must** be followed:\n",
    "- can only be one word with no spaces;\n",
    "- can only use letters, numbers and the underscore (<code>_</code>) character;\n",
    "- cannot begin with a number; and\n",
    "- cannot be one of the 35 Python keywords (honestly, just look them up)\n",
    "\n",
    "It is best practice to give variables names that are easily recognizable, or obvious shortforms that could be understood by any reader."
   ]
  },
  {
   "cell_type": "code",
   "execution_count": null,
   "id": "eb14370f",
   "metadata": {},
   "outputs": [],
   "source": [
    "# What happens if we try to break these rules?\n",
    "\n",
    "\n",
    "# Recognizable is best!\n",
    "\n"
   ]
  },
  {
   "cell_type": "markdown",
   "id": "2fc6126e",
   "metadata": {},
   "source": [
    "Now, we use variables because it makes programming later on easier.  There are two advantages:\n",
    "- You set the value once, and do not need to remember the value later; and\n",
    "- If the value needs to change, you only need to change it in one spot.\n",
    "\n",
    "Let's see how this works with some numbers:"
   ]
  },
  {
   "cell_type": "code",
   "execution_count": 49,
   "id": "0b1e890e",
   "metadata": {},
   "outputs": [
    {
     "name": "stdout",
     "output_type": "stream",
     "text": [
      "460.72077083899995\n"
     ]
    }
   ],
   "source": [
    "radius = 12.11\n",
    "area = 3.14159*radius**2\n",
    "\n",
    "print(area)"
   ]
  },
  {
   "cell_type": "markdown",
   "id": "fa1ad728",
   "metadata": {},
   "source": [
    "---\n",
    "### More on Logical Operators and Inequalities\n",
    ">We can also use logical operators alongside variables (with assigned values) and inequalities.  We can use a variety of commands to check is an expression results in a True or False value.\n",
    "\n",
    "After we've assigned variables with some values - we'll again focus on numbers - we can use inequalities to check if an expression is True or False. Obviously in the examples here, we could (or should be able to) just know the answer.  In a more complex program - with our future conditional statements - we'll need to trust that these inequalities actually work.\n",
    "\n",
    "In Python, we wish to see if two variables (or values) are **equivalent** we use `==` (note this is *different* from a single equal sign - single equal sign means assignment, double equal sign means *check*).  If we wish to check to see if two variables (or values) are **not equivalent** we use `!=`.  \n",
    "\n",
    "Let's get practice:"
   ]
  },
  {
   "cell_type": "code",
   "execution_count": 47,
   "id": "55706c33",
   "metadata": {},
   "outputs": [
    {
     "name": "stdout",
     "output_type": "stream",
     "text": [
      "False\n",
      "True\n"
     ]
    }
   ],
   "source": [
    "a = 5\n",
    "b = 6\n",
    "print(a==b)\n",
    "print(a!=b)"
   ]
  },
  {
   "cell_type": "markdown",
   "id": "a9665314",
   "metadata": {},
   "source": [
    "---\n",
    "### Some extra oddities in Python that we can use to our advantage\n",
    ">Much like our weird double equals and exclamation mark equals, Python has a few other oddities that we can use to our advantage.\n",
    "\n",
    "Suppose we have a integer variable `x` set to some value.  Let's see what we can do with this variable to simplify our lives - i.e., less typing :)"
   ]
  },
  {
   "cell_type": "code",
   "execution_count": 52,
   "id": "4dbaf79d",
   "metadata": {},
   "outputs": [
    {
     "name": "stdout",
     "output_type": "stream",
     "text": [
      "67\n"
     ]
    }
   ],
   "source": [
    "x=66\n",
    "x += 1\n",
    "print(x)"
   ]
  },
  {
   "cell_type": "code",
   "execution_count": null,
   "id": "45fde1b0",
   "metadata": {},
   "outputs": [],
   "source": []
  }
 ],
 "metadata": {
  "kernelspec": {
   "display_name": "Python 3 (ipykernel)",
   "language": "python",
   "name": "python3"
  },
  "language_info": {
   "codemirror_mode": {
    "name": "ipython",
    "version": 3
   },
   "file_extension": ".py",
   "mimetype": "text/x-python",
   "name": "python",
   "nbconvert_exporter": "python",
   "pygments_lexer": "ipython3",
   "version": "3.11.4"
  }
 },
 "nbformat": 4,
 "nbformat_minor": 5
}
