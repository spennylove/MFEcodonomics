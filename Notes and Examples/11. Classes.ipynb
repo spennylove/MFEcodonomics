{
 "cells": [
  {
   "cell_type": "markdown",
   "id": "bb2b8bd1",
   "metadata": {},
   "source": [
    "# ADS2288 - October 18th\n",
    "> Classes \n",
    "---\n",
    "\n",
    "A **class** is a blueprint for creating objects in Python.  It allows you, the user, to define your own data structures and methods.  Classes help organize code and data, making it easier to manage and maintain your programs. The basic concept behind using classes is a shift of our beginner level of programming to a more advanced *object-oriented programming* structure.\n",
    "\n",
    "We can think of a class as a traditional blueprint for a house or office building (or soccer field...). The blueprint defines the **structure** and layout of the house / building / field, but not the actual physical space.  You can then create multiple houses (*objects*) based on that blueprint (*class*).\n",
    "\n",
    "---\n",
    "\n",
    "## The Building Blocks of a Class\n",
    "\n",
    "Classes are defined using the `class` keyword followed by the class name. Conventionally, we name classes with a *capital letter*.  Classes are given attributes (variables) and methods (functions).  Attributes are used to store data, while methods perform actions.\n",
    "\n",
    "Classes do include one special method **always** called the `__init__` constructor method.  The `__init__` method is a special method that tells Python to create our object (i.e., build the house). It is always called when we tell Python to create a new instance of the class.\n",
    "\n",
    "A basic class is show below with all the key components:"
   ]
  },
  {
   "cell_type": "code",
   "execution_count": 2,
   "id": "cb136052",
   "metadata": {},
   "outputs": [],
   "source": [
    "class Dog:\n",
    "    # a simple model of a dog.\n",
    "    \n",
    "    def __init__(self, name, age):\n",
    "        # initialize the attributes of our dog\n",
    "        self.name = name\n",
    "        self.age = age\n",
    "        \n",
    "    def sit(self):\n",
    "        # simulate the dog sitting\n",
    "        print(f\"{self.name} is now sitting.\")\n",
    "        \n",
    "    def roll_over(self):\n",
    "        # simulate the dog rolling over\n",
    "        print(f\"{self.name} rolled over! WOW!\")\n",
    "        \n",
    "    def trick(self, trick_name):\n",
    "        print(f\"{self.name} is doing the {trick_name}!\")"
   ]
  },
  {
   "cell_type": "markdown",
   "id": "d842e5f3",
   "metadata": {},
   "source": [
    "## Instances and Objects\n",
    "\n",
    "An object or instance is a specific \"realization\" of the class.  You can create multiple instances fromm the same class. To create an object, we use the syntax `object_name = class([list of attribute values])`. You can then access the objects attributes with the syntax `object_name.attribute`.\n",
    "\n",
    "Let's create a \"dog object\" and check the attributes."
   ]
  },
  {
   "cell_type": "code",
   "execution_count": 5,
   "id": "0bbe7ae6",
   "metadata": {},
   "outputs": [
    {
     "name": "stdout",
     "output_type": "stream",
     "text": [
      "Buddy\n",
      "3\n",
      "Buddy is doing the flip!\n"
     ]
    }
   ],
   "source": [
    "#Create an Instance of a Dog object:\n",
    "my_dog = Dog(name=\"Buddy\", age=3)\n",
    "\n",
    "\n",
    "#Check the attributes:\n",
    "print(my_dog.name)   # Outputs: Buddy\n",
    "print(my_dog.age)    # Outputs: 3\n",
    "\n",
    "my_dog.trick('flip')"
   ]
  },
  {
   "cell_type": "markdown",
   "id": "033bc8db",
   "metadata": {},
   "source": [
    "To call a method in the class, we do the same syntax that we have for methods all throughout the course - \n",
    "\n",
    "`object_name.method(any parameters needed)`."
   ]
  },
  {
   "cell_type": "code",
   "execution_count": 19,
   "id": "53debb7d",
   "metadata": {},
   "outputs": [
    {
     "name": "stdout",
     "output_type": "stream",
     "text": [
      "Buddy is now sitting.\n"
     ]
    }
   ],
   "source": [
    "my_dog.sit()"
   ]
  },
  {
   "cell_type": "code",
   "execution_count": 38,
   "id": "dd5655c7",
   "metadata": {},
   "outputs": [
    {
     "name": "stdout",
     "output_type": "stream",
     "text": [
      "Buddy is now sitting.\n",
      "Buddy is doing the flip!\n"
     ]
    },
    {
     "ename": "AttributeError",
     "evalue": "'Dog' object has no attribute 'bark'",
     "output_type": "error",
     "traceback": [
      "\u001b[0;31m---------------------------------------------------------------------------\u001b[0m",
      "\u001b[0;31mAttributeError\u001b[0m                            Traceback (most recent call last)",
      "Cell \u001b[0;32mIn[38], line 26\u001b[0m\n\u001b[1;32m     24\u001b[0m buddy\u001b[38;5;241m.\u001b[39msit()               \n\u001b[1;32m     25\u001b[0m buddy\u001b[38;5;241m.\u001b[39mdo_trick(\u001b[38;5;124m\"\u001b[39m\u001b[38;5;124mflip\u001b[39m\u001b[38;5;124m\"\u001b[39m)           \n\u001b[0;32m---> 26\u001b[0m buddy\u001b[38;5;241m.\u001b[39mbark(\u001b[38;5;124m\"\u001b[39m\u001b[38;5;124mloud\u001b[39m\u001b[38;5;124m\"\u001b[39m)\n",
      "\u001b[0;31mAttributeError\u001b[0m: 'Dog' object has no attribute 'bark'"
     ]
    }
   ],
   "source": [
    "def __init__(self, name, age):\n",
    "    self.name = name\n",
    "    self.age = age\n",
    "    \n",
    "def sit(self, seconds):\n",
    "    print(f\"{self.name} is now sitting for {seconds} seconds.\")\n",
    "\n",
    "def do_trick(self, trick_name):\n",
    "    print(f\"{self.name} is doing the {trick_name} trick!\")\n",
    "\n",
    "def bark(self, loudness):\n",
    "    if loudness == \"loud\":\n",
    "        print(f\"{self.name} barks LOUDLY!\")\n",
    "    elif loudness == \"soft\":\n",
    "        print(f\"{self.name} barks softly.\")\n",
    "    else:\n",
    "        print(f\"{self.name} barks normally.\")\n",
    "\n",
    "def eat(self, food_type):\n",
    "    print(f\"{self.name} is eating {food_type}.\")\n",
    "\n",
    "buddy = Dog(name=\"Buddy\", age=3)\n",
    "\n",
    "buddy.sit()               \n",
    "buddy.do_trick(\"flip\")           \n",
    "buddy.bark(\"loud\") # why no work??"
   ]
  },
  {
   "cell_type": "markdown",
   "id": "eb3444de",
   "metadata": {},
   "source": [
    "---\n",
    "### Exercise\n",
    "Create a simple class `Person` that has two attributes `name` and `age`. You should also create a method called `greet()` that greets the person by name.\n",
    "\n",
    "---"
   ]
  },
  {
   "cell_type": "code",
   "execution_count": 28,
   "id": "62f0a7c1",
   "metadata": {},
   "outputs": [
    {
     "name": "stdout",
     "output_type": "stream",
     "text": [
      "Hello, Joe!\n"
     ]
    }
   ],
   "source": [
    "class Person:\n",
    "    def __init__(self, name, age): #Atrributes: name & age\n",
    "        self.name = name\n",
    "        self.age = age\n",
    "\n",
    "    def greet(self):\n",
    "        print(f\"Hello, {self.name}!\")\n",
    "\n",
    "# Create an instance of the Person class\n",
    "joe = Person(name = \"Joe\", age = 49)\n",
    "\n",
    "# Call the greet method for the joe instance\n",
    "joe.greet()"
   ]
  },
  {
   "cell_type": "markdown",
   "id": "17722261",
   "metadata": {},
   "source": [
    "---\n",
    "### Exercise\n",
    "Make a class called `Restaurant`.  There should be three attributes called `name`, `cuisine` and `num_served`. Note that we should initialize `num_served` to zero. The class should include the following methods:\n",
    "\n",
    "- `describe_restaurant()`: tells the user the name of the restaurant and its cuisine;\n",
    "- `set_num_served()`: lets the user set the number of customers that have been served; and\n",
    "- `increment_num_served()`: lets the user increment the number served by a specified amount.\n",
    "\n",
    "---"
   ]
  },
  {
   "cell_type": "code",
   "execution_count": 27,
   "id": "bc879a74",
   "metadata": {},
   "outputs": [
    {
     "name": "stdout",
     "output_type": "stream",
     "text": [
      "The restaurant Tasty Bites serves Italian cuisine.\n",
      "Tasty Bites has served 50: customers.\n",
      "Adding 10 to the total customers served. \n",
      "Total customers served at Tasty Bites: 60\n"
     ]
    }
   ],
   "source": [
    "class Restaurant:\n",
    "    def __init__(self, name, cuisine):\n",
    "        self.name = name\n",
    "        self.cuisine = cuisine\n",
    "        self.num_served = 0\n",
    "\n",
    "    def describe_restaurant(self):\n",
    "        print(f\"The restaurant {self.name} serves {self.cuisine} cuisine.\")\n",
    "\n",
    "    def set_num_served(self, num):\n",
    "        self.num_served = num\n",
    "        print(f\"{self.name} has served {my_restaurant.num_served}: customers.\")\n",
    "\n",
    "    def increment_num_served(self, increment):\n",
    "        self.num_served += increment\n",
    "        print(f\"Adding {increment} to the total customers served. \\nTotal customers served at {self.name}: {self.num_served}\")\n",
    "\n",
    "# Create an instance of the Restaurant class\n",
    "my_restaurant = Restaurant(name=\"Tasty Bites\", cuisine=\"Italian\")\n",
    "\n",
    "\n",
    "# Describe the restaurant\n",
    "my_restaurant.describe_restaurant()  # Outputs: The restaurant Tasty Bites serves Italian cuisine.\n",
    "\n",
    "# Set the number of customers served\n",
    "my_restaurant.set_num_served(50)  # Outputs: 50\n",
    "\n",
    "# Increment the number of customers served\n",
    "my_restaurant.increment_num_served(10)  # Outputs: 60\n"
   ]
  },
  {
   "cell_type": "markdown",
   "id": "94e6b913",
   "metadata": {},
   "source": [
    "We can also have our methods `return` values - just like traditional functions.  For instance, here is a class that identifies important values of a circle given its radius:"
   ]
  },
  {
   "cell_type": "code",
   "execution_count": 70,
   "id": "9b170ef4",
   "metadata": {},
   "outputs": [
    {
     "data": {
      "text/plain": [
       "113.04"
      ]
     },
     "execution_count": 70,
     "metadata": {},
     "output_type": "execute_result"
    }
   ],
   "source": [
    "class Circle:\n",
    "    def __init__(self, radius):\n",
    "        self.radius = radius\n",
    "    \n",
    "    def area(self):\n",
    "        return 3.14 * radius ** 2\n",
    "    \n",
    "    def circumference(self):\n",
    "        return 2 * 3.14 * radius\n",
    "\n",
    "Circ = Circle(6)\n",
    "circ.area()\n"
   ]
  },
  {
   "cell_type": "markdown",
   "id": "1a0bd2cc",
   "metadata": {},
   "source": [
    "## Data Analysis and Classes\n",
    "\n",
    "We often introduce classes to assist us in some basic data analysis.  However, what we are building by scratch is already pre-built in the libraries we have seen.  For interest, let's get some practice building some methods from scratch.\n",
    "\n",
    "---\n",
    "### Exercise\n",
    "Make a class called `DataAnalyzer`. The class should have the following methods:\n",
    "\n",
    "- `load_data(data)`: takes a list of numbers and stores it as an instance variable.\n",
    "- `mean()`: calculates and returns the mean of the data.\n",
    "- `median()`: calculates and returns the median of the data.\n",
    "- `plot_histogram()`: plots a histogram of the data using matplotlib with 10 bins.\n",
    "\n",
    "---"
   ]
  },
  {
   "cell_type": "code",
   "execution_count": 96,
   "id": "96b96896",
   "metadata": {
    "scrolled": true
   },
   "outputs": [
    {
     "name": "stdout",
     "output_type": "stream",
     "text": [
      "Mean: 5.5\n",
      "Median: 5.5\n",
      "Variance: 8.25\n",
      "Minimum Value: 1\n",
      "Maximum Value: 10\n"
     ]
    },
    {
     "data": {
      "image/png": "[encoded data removed]",
      "text/plain": [
       "<Figure size 640x480 with 1 Axes>"
      ]
     },
     "metadata": {},
     "output_type": "display_data"
    }
   ],
   "source": [
    "import numpy as np\n",
    "import matplotlib.pyplot as plt\n",
    "\n",
    "class DataAnalyzer:\n",
    "    def __init__(self):\n",
    "        self.data = [] #initialize with an empty data list\n",
    "        \n",
    "    def load_data(self, data):\n",
    "        self.data = data\n",
    "        \n",
    "    def mean(self): \n",
    "        return np.mean(data)\n",
    "\n",
    "    def median(self):\n",
    "        return np.median(data)\n",
    "    \n",
    "    def variance(self):\n",
    "        return np.var(data)\n",
    "    \n",
    "    def plot_histogram(self):\n",
    "        plt.hist(data, bins=10)\n",
    "        plt.title(\"Analyzer Histogram\")\n",
    "        plt.xlabel(\"Value\")\n",
    "        plt.ylabel(\"Frequency\")\n",
    "    \n",
    "    def min_max(self):\n",
    "        return (min(self.data), max(self.data))\n",
    "        \n",
    "\n",
    "# Create an instance of the DataAnalyzer class\n",
    "analyzer = DataAnalyzer()\n",
    "\n",
    "# Load data into the analyzer\n",
    "data = [1,2,3,4,5,6,7,8,9,10]\n",
    "analyzer.load_data(data)\n",
    "\n",
    "\n",
    "# Calculate and print the mean, median, variance\n",
    "print(f\"Mean: {analyzer.mean()}\")\n",
    "print(f\"Median: {analyzer.median()}\")\n",
    "print(f\"Variance: {analyzer.variance()}\")\n",
    "\n",
    "#Plot Histogram\n",
    "analyzer.plot_histogram()\n",
    "\n",
    "# Get the minimum and maximum values\n",
    "min_val, max_val = analyzer.min_max()\n",
    "print(\"Minimum Value:\", min_val)\n",
    "print(\"Maximum Value:\", max_val)\n",
    "\n",
    "\n",
    "    "
   ]
  },
  {
   "cell_type": "code",
   "execution_count": 105,
   "id": "86935284",
   "metadata": {},
   "outputs": [
    {
     "name": "stdout",
     "output_type": "stream",
     "text": [
      "Total Sales: 750\n",
      "Average sales per day: 187.5\n",
      "Highest sales in one day: 300\n"
     ]
    }
   ],
   "source": [
    "class ProductSales:\n",
    "    def __init__(self):\n",
    "        self.sales = []\n",
    "        \n",
    "    def load_sales_data(self, sales):\n",
    "        self.sales = sales\n",
    "        \n",
    "    def total_sales(self):\n",
    "        return np.sum(sales)\n",
    "    \n",
    "    def average_sales(self):\n",
    "        return np.mean(sales)\n",
    "    \n",
    "    def highest_selling_day(self):\n",
    "        return np.max(sales)\n",
    "        \n",
    "sep_sales = ProductSales()\n",
    "sales = [150, 200, 100, 300]\n",
    "\n",
    "sep_sales.load_sales_data(sales)\n",
    "\n",
    "print(f\"Total Sales: {sep_sales.total_sales()}\")\n",
    "print(f\"Average sales per day: {sep_sales.average_sales()}\")\n",
    "print(f\"Highest sales in one day: {sep_sales.highest_selling_day()}\")"
   ]
  },
  {
   "cell_type": "code",
   "execution_count": 119,
   "id": "6bdfd53d",
   "metadata": {},
   "outputs": [
    {
     "name": "stdout",
     "output_type": "stream",
     "text": [
      "Transpose:\n",
      " [[1 3]\n",
      " [2 4]]\n",
      "Inverse:\n",
      " [[-2.   1. ]\n",
      " [ 1.5 -0.5]]\n",
      "Matrix AxB:\n",
      " [[ 8  5]\n",
      " [20 13]]\n"
     ]
    }
   ],
   "source": [
    "import numpy as np\n",
    "\n",
    "class MatrixManipulator:\n",
    "    # A class to perform various matrix operations.\n",
    "    def __init__(self, matrix):\n",
    "        self.matrix = np.array(matrix)\n",
    "\n",
    "    #Returns the transpose of the matrix.\n",
    "    def transpose(self):\n",
    "        return np.transpose(self.matrix)\n",
    "\n",
    "    #Calculates and returns the inverse of the matrix.\n",
    "    def inverse(self):\n",
    "        return np.linalg.inv(self.matrix)\n",
    "\n",
    "    #current matrix times another matrix and returns the result\n",
    "    def matrix_multiply(self, other_matrix):\n",
    "        return np.matmul(self.matrix, other_matrix)\n",
    "    \n",
    "# Create a 2x2 matrix\n",
    "matrix = [[1,2], [3,4]]\n",
    "\n",
    "# Initialize the MatrixManipulator class\n",
    "manipulator = MatrixManipulator(matrix)\n",
    "\n",
    "#Calculate the transpose and inverse\n",
    "print(f\"Transpose:\\n {manipulator.transpose()}\")\n",
    "print(f\"Inverse:\\n {manipulator.inverse()}\")\n",
    "\n",
    "# Multiply the matrix with another matrix\n",
    "other_matrix = [[4,3], [2,1]]\n",
    "print(f\"Matrix AxB:\\n {manipulator.matrix_multiply(other_matrix)}\")"
   ]
  }
 ],
 "metadata": {
  "kernelspec": {
   "display_name": "Python 3 (ipykernel)",
   "language": "python",
   "name": "python3"
  },
  "language_info": {
   "codemirror_mode": {
    "name": "ipython",
    "version": 3
   },
   "file_extension": ".py",
   "mimetype": "text/x-python",
   "name": "python",
   "nbconvert_exporter": "python",
   "pygments_lexer": "ipython3",
   "version": "3.11.4"
  }
 },
 "nbformat": 4,
 "nbformat_minor": 5
}
