{
 "cells": [
  {
   "cell_type": "markdown",
   "id": "13142d75",
   "metadata": {},
   "source": [
    "# ADS2288F - Sept 18th \n",
    "\n",
    ">Strings and Lists, Methods\n",
    "---"
   ]
  },
  {
   "cell_type": "markdown",
   "id": "bc43199a",
   "metadata": {},
   "source": [
    "## Manipulating Strings\n",
    "\n",
    "We know that we can set a `string` variable by using our normal assignment procedure and using quotations around the string we wish to save.\n",
    "\n",
    "For instance:"
   ]
  },
  {
   "cell_type": "code",
   "execution_count": 1,
   "id": "f6afdd21",
   "metadata": {},
   "outputs": [
    {
     "name": "stdout",
     "output_type": "stream",
     "text": [
      "<class 'str'>\n"
     ]
    }
   ],
   "source": [
    "# create a string variable, and check its type\n",
    "string1 = \"i am a string\"\n",
    "print(type(string1))"
   ]
  },
  {
   "cell_type": "markdown",
   "id": "84d1be8b",
   "metadata": {},
   "source": [
    "With strings, however, we can perform **operations** much like if it were an `integer` or `float` -- with some obvious intricacies."
   ]
  },
  {
   "cell_type": "code",
   "execution_count": 6,
   "id": "9a7d595d",
   "metadata": {},
   "outputs": [
    {
     "name": "stdout",
     "output_type": "stream",
     "text": [
      "cokepepsi\n",
      "coke pepsi\n",
      "cokecokecokecokecoke pepsipepsipepsi\n",
      "4\n"
     ]
    }
   ],
   "source": [
    "# STRING OPERATIONS - first set two strings\n",
    "drink1 = \"coke\"\n",
    "drink2 = \"pepsi\"\n",
    "\n",
    "# concatenation\n",
    "print(drink1 + drink2)\n",
    "print(drink1, drink2)\n",
    "# copy and concatenation\n",
    "print(5*drink1, 3*drink2)\n",
    "\n",
    "# length\n",
    "print(len(drink1))"
   ]
  },
  {
   "cell_type": "markdown",
   "id": "44557586",
   "metadata": {},
   "source": [
    "Strings also have special features, in that, we can **index** them and **slice** them.  Something we will see in a moment when we tackle lists, as well.  Indexing is the idea of determining what *character* is in a certain spot in a specific string.  Slicing is the procedure of manipulating a string to take identify certain portions of a string, or manipulate it in some way -- reversing it, for instance."
   ]
  },
  {
   "cell_type": "code",
   "execution_count": 27,
   "id": "cd4b3e90",
   "metadata": {},
   "outputs": [
    {
     "name": "stdout",
     "output_type": "stream",
     "text": [
      "M\n",
      "y n\n",
      "nty_\n",
      "nty_Python\n",
      "Monty_Python\n",
      "\n",
      "ot_yh\n",
      "n\n"
     ]
    }
   ],
   "source": [
    "name = \"Monty_Python\"\n",
    "\n",
    "# Indexing - regular\n",
    "print(name[0])\n",
    "print(name[4], name[11])\n",
    "\n",
    "# Slicing - with a colon\n",
    "print(name[2:6]) #stops before that last 6th character\n",
    "print(name[2:])\n",
    "print(name[:])\n",
    "print(name[2:2]) #prints nothing\n",
    "\n",
    "# Slicing - with a stride\n",
    "print(name[1:11:2]) #this last \":2\" is called a 'stride' - the amount we jump\n",
    "\n",
    "\n",
    "# Indexing - with a negative index\n",
    "print(name[-1]) #this is the last character in the string\n"
   ]
  },
  {
   "cell_type": "markdown",
   "id": "f3e4f459",
   "metadata": {},
   "source": [
    "Now, as an exercise, see if you can take the following string `day = \"Monday\"` and *reverse* it. Then, we will see Python actually has a simple method to do so!"
   ]
  },
  {
   "cell_type": "code",
   "execution_count": 69,
   "id": "1e42c719",
   "metadata": {},
   "outputs": [
    {
     "ename": "TypeError",
     "evalue": "'str' object is not callable",
     "output_type": "error",
     "traceback": [
      "\u001b[0;31m---------------------------------------------------------------------------\u001b[0m",
      "\u001b[0;31mTypeError\u001b[0m                                 Traceback (most recent call last)",
      "Cell \u001b[0;32mIn[69], line 4\u001b[0m\n\u001b[1;32m      2\u001b[0m name \u001b[38;5;241m=\u001b[39m \u001b[38;5;124m'\u001b[39m\u001b[38;5;124mMonday\u001b[39m\u001b[38;5;124m'\u001b[39m\n\u001b[1;32m      3\u001b[0m yad \u001b[38;5;241m=\u001b[39m \u001b[38;5;28mstr\u001b[39m(name[::\u001b[38;5;241m-\u001b[39m\u001b[38;5;241m1\u001b[39m])\n\u001b[0;32m----> 4\u001b[0m \u001b[38;5;28mprint\u001b[39m(yad)\n",
      "\u001b[0;31mTypeError\u001b[0m: 'str' object is not callable"
     ]
    }
   ],
   "source": [
    "# reversing exercise\n",
    "name = 'Monday'\n",
    "yad = str(name[::-1])\n",
    "print(yad)"
   ]
  },
  {
   "cell_type": "code",
   "execution_count": 2,
   "id": "f4aa3cbd",
   "metadata": {},
   "outputs": [
    {
     "name": "stdout",
     "output_type": "stream",
     "text": [
      "f\n",
      "Efgh\n",
      "AEiMq\n"
     ]
    }
   ],
   "source": [
    "# Practice - use the string below and answer the questions!\n",
    "name = \"ABCDEfghijKLMNOpqrst\"\n",
    "name = str(name)\n",
    "\n",
    "# Q1 - print out the sixth character in name\n",
    "print(name[5])\n",
    "\n",
    "# Q2 - print out the fifth to eighth character in name\n",
    "print(name[4:8])\n",
    "\n",
    "# Q3 - print every fourth character in name\n",
    "print(name[0::4])"
   ]
  },
  {
   "cell_type": "markdown",
   "id": "f69bf149",
   "metadata": {},
   "source": [
    "## Lists\n",
    "\n",
    "> Python's interpretation of arrays and matrices\n",
    "\n",
    "---\n",
    "\n",
    "It turns out a string is actually a special kind of list -- in that, we will do a lot of similar actions (i.e., indexing and slicing) to a list in a very similar format to that of a string.  Obviously, we cannot make it easy, and there is some syntax that changes.\n",
    "\n",
    "A **list** is an ordered sequence of elements, or values (so, like a finite sequence in math) which are comma-separated, and placed in square brackets, `[]`.\n",
    "\n",
    "A list *can* be filled with a variety of types (such as the list `[2.4, 2, \"Hello, World\", True]`), but (almost) exclusively we construct and use lists that have **homogeneous typing** (i.e., all elements have the same type).\n"
   ]
  },
  {
   "cell_type": "code",
   "execution_count": 6,
   "id": "fae04056",
   "metadata": {},
   "outputs": [
    {
     "name": "stdout",
     "output_type": "stream",
     "text": [
      "[2, 3, 5, 7, 11, 13, 17, 19, 23, 39, 31, 37]\n",
      "[2, 3, 5, 7, 11, 13, 17, 19, 23, 39, 31, 37, 41, 43, 47]\n",
      "12\n"
     ]
    }
   ],
   "source": [
    "# basic operations\n",
    "\n",
    "primes=[2,3,5,7,11,13,17,19,23,39,31,37]  # this line defines a list\n",
    "\n",
    "# printing a list\n",
    "print(primes)\n",
    "print(primes + [41,43,47])\n",
    "\n",
    "# length of a list\n",
    "print(len(primes))\n",
    "\n"
   ]
  },
  {
   "cell_type": "code",
   "execution_count": 13,
   "id": "6a3ea7c9",
   "metadata": {
    "scrolled": true
   },
   "outputs": [
    {
     "name": "stdout",
     "output_type": "stream",
     "text": [
      "13\n",
      "19\n",
      "[7]\n",
      "7\n"
     ]
    }
   ],
   "source": [
    "# indexing and slicing a list\n",
    "primes=[2,3,5,7,11,13,17,19,23,39,31,37]  # redefine the list just to be safe\n",
    "\n",
    "\n",
    "# indexing - with positive and negative indices \n",
    "print(primes[5])\n",
    "print(primes[-5])\n",
    "\n",
    "# IMPORTANT NOTE - slicing a list makes a new list\n",
    "print(primes[3:4])\n",
    "print(primes[3])"
   ]
  },
  {
   "cell_type": "markdown",
   "id": "c68fa309",
   "metadata": {},
   "source": [
    "Before running this next cell, let's think a little about what we expect to be the output..."
   ]
  },
  {
   "cell_type": "code",
   "execution_count": 10,
   "id": "1d10d73c",
   "metadata": {},
   "outputs": [
    {
     "name": "stdout",
     "output_type": "stream",
     "text": [
      "False\n"
     ]
    }
   ],
   "source": [
    "# Is the following a TRUE or FALSE boolean expression?\n",
    "\n",
    "print(primes[3] == primes[3:4]) #false, slicing makes a new list"
   ]
  },
  {
   "cell_type": "markdown",
   "id": "dff7df45",
   "metadata": {},
   "source": [
    "An *extremely* important way to construct a list in Python is through the utilization of the `range` command. We call `range` by using the syntax `range(a,b)` where `a` and `b` are **integers**.  This command will create an interval of all the integers from `a` to `b-1`, inclusive.  In more mathematical notation, `range(a,b)` creates the interval $[a,b)$ of integers. "
   ]
  },
  {
   "cell_type": "code",
   "execution_count": 20,
   "id": "e261cc8f",
   "metadata": {},
   "outputs": [
    {
     "name": "stdout",
     "output_type": "stream",
     "text": [
      "range(10, 50)\n"
     ]
    },
    {
     "ename": "TypeError",
     "evalue": "'list' object is not callable",
     "output_type": "error",
     "traceback": [
      "\u001b[0;31m---------------------------------------------------------------------------\u001b[0m",
      "\u001b[0;31mTypeError\u001b[0m                                 Traceback (most recent call last)",
      "Cell \u001b[0;32mIn[20], line 3\u001b[0m\n\u001b[1;32m      1\u001b[0m \u001b[38;5;66;03m# Try printing range(0,14)\u001b[39;00m\n\u001b[1;32m      2\u001b[0m \u001b[38;5;28mprint\u001b[39m(\u001b[38;5;28mrange\u001b[39m(\u001b[38;5;241m10\u001b[39m,\u001b[38;5;241m50\u001b[39m))\n\u001b[0;32m----> 3\u001b[0m \u001b[38;5;28mprint\u001b[39m(\u001b[38;5;28mlist\u001b[39m(\u001b[38;5;28mrange\u001b[39m(\u001b[38;5;241m10\u001b[39m,\u001b[38;5;241m50\u001b[39m)))\n",
      "\u001b[0;31mTypeError\u001b[0m: 'list' object is not callable"
     ]
    }
   ],
   "source": [
    "# Try printing range(0,14)\n",
    "print(range(10,50))\n",
    "print(list(range(10,50)))\n",
    "\n",
    "# To create a list using range, we do...\n",
    "\n",
    "\n",
    "# what \"type\" is does range(a,b) produce?\n",
    "\n"
   ]
  },
  {
   "cell_type": "markdown",
   "id": "b3ad7bc7",
   "metadata": {},
   "source": [
    "As with strings, there are a multitude of ways we can **modify** a list.  We can replace specific elements, groups of elements, and more... let's see how we can go about doing so."
   ]
  },
  {
   "cell_type": "code",
   "execution_count": 27,
   "id": "df388d03",
   "metadata": {},
   "outputs": [
    {
     "ename": "SyntaxError",
     "evalue": "invalid syntax (1241822270.py, line 16)",
     "output_type": "error",
     "traceback": [
      "\u001b[0;36m  Cell \u001b[0;32mIn[27], line 16\u001b[0;36m\u001b[0m\n\u001b[0;31m    primes[3:5] = [1000,,]\u001b[0m\n\u001b[0m                        ^\u001b[0m\n\u001b[0;31mSyntaxError\u001b[0m\u001b[0;31m:\u001b[0m invalid syntax\n"
     ]
    }
   ],
   "source": [
    "# redefine our list just to be safe\n",
    "primes=[2,3,5,7,11,13,17,19,23,39,31,37]\n",
    "\n",
    "# change one element of the list only - IMPORTANT\n",
    "primes[5] = 100000003\n",
    "print(primes)\n",
    "\n",
    "# change several elements - part 1\n",
    "primes=[2,3,5,7,11,13,17,19,23,39,31,37]\n",
    "primes[3:5] = [1000, 2000, 3000]\n",
    "print(primes)\n"
   ]
  },
  {
   "cell_type": "code",
   "execution_count": 28,
   "id": "f3c80016",
   "metadata": {},
   "outputs": [
    {
     "name": "stdout",
     "output_type": "stream",
     "text": [
      "[2, 3, 5, 7, 11, 13, 17, 19, 23, 39, 31, 37]\n",
      "[2, 3, 5, 23, 39, 31, 37]\n"
     ]
    }
   ],
   "source": [
    "# what does this code do?\n",
    "\n",
    "primes=[2,3,5,7,11,13,17,19,23,39,31,37]\n",
    "print(primes)\n",
    "primes[3:8]=[]   #removes the 3:8 terms in the list\n",
    "print(primes)\n"
   ]
  },
  {
   "cell_type": "markdown",
   "id": "e1836286",
   "metadata": {},
   "source": [
    "We can also construct a **list of lists** - or a **matrix**.  We use the same syntax that we have used previously to define lists.  However, the elements we place in our \"main\" list will be lists themselves! \n",
    "\n",
    "It is important to note that at this point (when creating a list of lists) the number of elements in the \"seconday\" lists does not need to be the same (meaning the number of columns does not need to be the same in each row).  We will, however, ensure that we keep the columns consistent throughout each list to ensure we are indeed creating a matrix."
   ]
  },
  {
   "cell_type": "code",
   "execution_count": 33,
   "id": "beab6959",
   "metadata": {},
   "outputs": [
    {
     "name": "stdout",
     "output_type": "stream",
     "text": [
      "[[1, 2, 3, 0], [4, 5, 6, -1], [7, 8, 9, -2]]\n",
      "[4, 5, 6, -1]\n",
      "5\n"
     ]
    }
   ],
   "source": [
    "# a list of lists\n",
    "M = [[1,2,3,0],[4,5,6,-1],[7,8,9,-2]]\n",
    "print(M)\n",
    "\n",
    "print(M[1])\n",
    "print(M[1][1]) "
   ]
  },
  {
   "cell_type": "markdown",
   "id": "6aade945",
   "metadata": {},
   "source": [
    "## Methods\n",
    "> An action we need to do onto an object in Python\n",
    "\n",
    "---\n",
    "\n",
    "Each object (a list, a string, etc.) have certain pre-programmed actions in Python.  We call these **methods**.  There are a large amount of methods for each object, so there's really no point in going over *every* one of them - in fact, there just wouldn't be enough time.  However, we will learn a few *nice* methods to start for a list object.\n",
    "\n",
    "To call a method, we use the syntax `name_of_object.method()`.  Sometimes, we place an arguement in the brackets of the method, sometimes we don't.  It truly depends on the method itself.\n",
    "\n",
    "Let's look at a few list methods to start.  Again, there are many more - and we will see more throughout the term - but for now just get the idea of the syntax."
   ]
  },
  {
   "cell_type": "code",
   "execution_count": 10,
   "id": "f8bd33e5",
   "metadata": {},
   "outputs": [
    {
     "name": "stdout",
     "output_type": "stream",
     "text": [
      "['a', 'b', 'c', 'd', 'e', 'f', 'g', 'h']\n",
      "['a', 'b', 'c', 'd', 'e', 'f', 'g', 'h']\n"
     ]
    }
   ],
   "source": [
    "# create a list\n",
    "alphabet=['a','b','c','d','e','f','g']\n",
    "\n",
    "# to add an element to the end of a list, we use append('element')\n",
    "alphabet.append('h')\n",
    "print(alphabet)\n",
    "alphabet.pop()\n",
    "\n",
    "\n",
    "# we can do this without append...\n",
    "alphabet=['a','b','c','d','e','f','g']\n",
    "alphabet = alphabet + ['h']\n",
    "print(alphabet)"
   ]
  },
  {
   "cell_type": "code",
   "execution_count": 19,
   "id": "b3fe5544",
   "metadata": {},
   "outputs": [
    {
     "name": "stdout",
     "output_type": "stream",
     "text": [
      "['a', 'b', 'c', 'd', 'e', 'f', 'g', 'h', 'i', 'j']\n"
     ]
    }
   ],
   "source": [
    "# create a list\n",
    "alphabet=['a','b','c','d','e','f','g']\n",
    "\n",
    "# to add more than one element to the end of a list, we use extend(list)\n",
    "alphabet.extend(['h','i','j'])\n",
    "print(alphabet)\n",
    "\n",
    "# we can do this without extend...\n",
    "\n",
    "\n"
   ]
  },
  {
   "cell_type": "code",
   "execution_count": 24,
   "id": "9ade742d",
   "metadata": {},
   "outputs": [
    {
     "name": "stdout",
     "output_type": "stream",
     "text": [
      "['a', 'a2', 'b', 'c', 'd', 'e', 'f', 'g']\n",
      "['a', 'a22', 'a2', 'b', 'c', 'd', 'e', 'f', 'g']\n"
     ]
    }
   ],
   "source": [
    "# create a list\n",
    "alphabet=['a','b','c','d','e','f','g']\n",
    "\n",
    "# we can insert an element at a certain position using insert(index, element)\n",
    "alphabet.insert(1, \"a2\")\n",
    "print(alphabet)\n",
    "\n",
    "# again... \n",
    "alphabet=alphabet[:1] + ['a22'] + alphabet[1:]\n",
    "print(alphabet)\n"
   ]
  },
  {
   "cell_type": "code",
   "execution_count": 25,
   "id": "85d8a3be",
   "metadata": {},
   "outputs": [
    {
     "name": "stdout",
     "output_type": "stream",
     "text": [
      "['a', 'b', 'c', 'e', 'f', 'g']\n"
     ]
    }
   ],
   "source": [
    "# create a list\n",
    "alphabet=['a','b','c','d','e','f','g']\n",
    "\n",
    "# we can delete an element at a certain position using pop(index)\n",
    "alphabet.pop(3)\n",
    "print(alphabet)\n"
   ]
  },
  {
   "cell_type": "code",
   "execution_count": 29,
   "id": "71442920",
   "metadata": {},
   "outputs": [
    {
     "name": "stdout",
     "output_type": "stream",
     "text": [
      "['a', 'b', 'c', 'e', 'f', 'g']\n"
     ]
    }
   ],
   "source": [
    "# HOMEWORK PROBLEM\n",
    "# Write a code to do what pop does, without using the pop method...\n",
    "alphabet=['a','b','c','d','e','f','g']\n",
    "\n",
    "alphabet = alphabet[:3] + alphabet[4:]\n",
    "print(alphabet)"
   ]
  },
  {
   "cell_type": "code",
   "execution_count": 30,
   "id": "9be2d620",
   "metadata": {},
   "outputs": [
    {
     "name": "stdout",
     "output_type": "stream",
     "text": [
      "['a', 'c', 'd', 'e', 'f', 'g']\n"
     ]
    }
   ],
   "source": [
    "alphabet=['a','b','c','d','e','f','g']\n",
    "\n",
    "del alphabet[1]\n",
    "print(alphabet)"
   ]
  }
 ],
 "metadata": {
  "kernelspec": {
   "display_name": "Python 3 (ipykernel)",
   "language": "python",
   "name": "python3"
  },
  "language_info": {
   "codemirror_mode": {
    "name": "ipython",
    "version": 3
   },
   "file_extension": ".py",
   "mimetype": "text/x-python",
   "name": "python",
   "nbconvert_exporter": "python",
   "pygments_lexer": "ipython3",
   "version": "3.11.4"
  }
 },
 "nbformat": 4,
 "nbformat_minor": 5
}
