{
 "cells": [
  {
   "cell_type": "markdown",
   "id": "527adf18",
   "metadata": {},
   "source": [
    "# ADS2288 - October 4th\n",
    "> Pandas\n",
    "---\n",
    "\n",
    "This lesson, we will be focusing our time on a fundamental Python library called `pandas`.  Pandas is used for data manipulation and analysis.  We will cover the concept of **data frames**, reading in a `.csv` file into our Python program, and some basic analysis that we can do on a data set.  Note that there is a lot to `pandas`, just like other libraries, and we are only scratching the surface of all its capabilities.  For more documentation on `pandas`, go to https://pandas.pydata.org/docs/user_guide/index.html."
   ]
  },
  {
   "cell_type": "markdown",
   "id": "6d9838b3",
   "metadata": {},
   "source": [
    "Pandas is an open-source Python library that provides easy-to-use data structures and data analysis tools. It's widely used in data science and data analysis projects because of its flexibility and powerful capabilities.\n",
    "\n",
    "Pandas simplifies data manipulation, analysis, and visualization. It allows us to work with structured data efficiently, making it an essential tool for data professionals and analysts."
   ]
  },
  {
   "cell_type": "code",
   "execution_count": 1,
   "id": "19fe6c44",
   "metadata": {},
   "outputs": [],
   "source": [
    "# let's begin by importing pandas under its standard alias\n",
    "import pandas as pd"
   ]
  },
  {
   "cell_type": "markdown",
   "id": "880afa3f",
   "metadata": {},
   "source": [
    "## Data Frames\n",
    "> A type that is encoded in Pandas\n",
    "---\n",
    "\n",
    "A **DataFrame** is a two-dimensional, labeled data structure resembling a **spreadsheet** or SQL table. It consists of rows and columns, where each column can contain different types of data (e.g., numbers, text, dates).\n",
    "\n",
    "We can utilize DataFrames by either (i) creating our own or (ii) using a previously saved data set and call it into Python to use.  The latter being the more common practice - as its easy to create a data set in *Excel*, for instance.\n"
   ]
  },
  {
   "cell_type": "code",
   "execution_count": 4,
   "id": "e5e15f5b",
   "metadata": {},
   "outputs": [
    {
     "name": "stdout",
     "output_type": "stream",
     "text": [
      "      Name  Age\n",
      "0    Alice   25\n",
      "1      Bob   30\n",
      "2  Charlie   22\n"
     ]
    }
   ],
   "source": [
    "# To create a DataFrame in Python using Pandas\n",
    "\n",
    "# Create a list of lists, where we have two quantities\n",
    "data = [ ['Alice', 25], ['Bob', 30], ['Charlie', 22] ]\n",
    "\n",
    "# Create headings for the columns of our list of lists\n",
    "labels = [\"Name\", \"Age\"]\n",
    "\n",
    "# Create a dataframe using our data and columns\n",
    "df = pd.DataFrame(data, columns = labels)\n",
    "\n",
    "print(df)\n"
   ]
  },
  {
   "cell_type": "markdown",
   "id": "96d54b4f",
   "metadata": {},
   "source": [
    "We can access and modify specific columns of our DataFrame and even modify them if we wish."
   ]
  },
  {
   "cell_type": "code",
   "execution_count": 7,
   "id": "226a9dd3",
   "metadata": {},
   "outputs": [
    {
     "name": "stdout",
     "output_type": "stream",
     "text": [
      "0    26\n",
      "1    31\n",
      "2    23\n",
      "Name: Age, dtype: int64\n",
      "      Name  Age\n",
      "0    Alice   27\n",
      "1      Bob   32\n",
      "2  Charlie   24\n"
     ]
    }
   ],
   "source": [
    "# Accessing a column\n",
    "ages = df['Age'] #Python is CASE SENSITIVE!\n",
    "print(ages)\n",
    "\n",
    "# Modifying a column\n",
    "df['Age'] += 1\n",
    "print(df)\n"
   ]
  },
  {
   "cell_type": "markdown",
   "id": "e3679cb1",
   "metadata": {},
   "source": [
    "### Basic Data Exploration of DataFrames\n",
    "> Basic methods to play around with to get more information\n",
    "---\n",
    "\n",
    "`pandas` and DataFrames have a *ton* of methods that are accessible to us that allow us to get some basic ideas about the data presented.  The DataFrame we just built is fairly simple, but imagine (and we'll see later on) larger data sets that we may need to get some idea regarding.\n",
    "\n",
    "Here are a few basic data exploration methods that we can use:"
   ]
  },
  {
   "cell_type": "code",
   "execution_count": 11,
   "id": "9537d6e6",
   "metadata": {},
   "outputs": [
    {
     "data": {
      "text/plain": [
       "(3, 2)"
      ]
     },
     "execution_count": 11,
     "metadata": {},
     "output_type": "execute_result"
    }
   ],
   "source": [
    "# df.shape\n",
    "df.shape #shows our data set: 3 rows, 2 columns"
   ]
  },
  {
   "cell_type": "code",
   "execution_count": 10,
   "id": "320422db",
   "metadata": {},
   "outputs": [
    {
     "data": {
      "text/html": [
       "<div>\n",
       "<style scoped>\n",
       "    .dataframe tbody tr th:only-of-type {\n",
       "        vertical-align: middle;\n",
       "    }\n",
       "\n",
       "    .dataframe tbody tr th {\n",
       "        vertical-align: top;\n",
       "    }\n",
       "\n",
       "    .dataframe thead th {\n",
       "        text-align: right;\n",
       "    }\n",
       "</style>\n",
       "<table border=\"1\" class=\"dataframe\">\n",
       "  <thead>\n",
       "    <tr style=\"text-align: right;\">\n",
       "      <th></th>\n",
       "      <th>Name</th>\n",
       "      <th>Age</th>\n",
       "    </tr>\n",
       "  </thead>\n",
       "  <tbody>\n",
       "    <tr>\n",
       "      <th>0</th>\n",
       "      <td>Alice</td>\n",
       "      <td>27</td>\n",
       "    </tr>\n",
       "    <tr>\n",
       "      <th>1</th>\n",
       "      <td>Bob</td>\n",
       "      <td>32</td>\n",
       "    </tr>\n",
       "    <tr>\n",
       "      <th>2</th>\n",
       "      <td>Charlie</td>\n",
       "      <td>24</td>\n",
       "    </tr>\n",
       "  </tbody>\n",
       "</table>\n",
       "</div>"
      ],
      "text/plain": [
       "      Name  Age\n",
       "0    Alice   27\n",
       "1      Bob   32\n",
       "2  Charlie   24"
      ]
     },
     "execution_count": 10,
     "metadata": {},
     "output_type": "execute_result"
    }
   ],
   "source": [
    "# df.head()\n",
    "df.head()\n",
    "\n",
    "#it will display the first few rows of data"
   ]
  },
  {
   "cell_type": "code",
   "execution_count": 12,
   "id": "1de9117b",
   "metadata": {},
   "outputs": [
    {
     "name": "stdout",
     "output_type": "stream",
     "text": [
      "<class 'pandas.core.frame.DataFrame'>\n",
      "RangeIndex: 3 entries, 0 to 2\n",
      "Data columns (total 2 columns):\n",
      " #   Column  Non-Null Count  Dtype \n",
      "---  ------  --------------  ----- \n",
      " 0   Name    3 non-null      object\n",
      " 1   Age     3 non-null      int64 \n",
      "dtypes: int64(1), object(1)\n",
      "memory usage: 180.0+ bytes\n"
     ]
    }
   ],
   "source": [
    "# df.info()\n",
    "df.info()\n",
    "\n"
   ]
  },
  {
   "cell_type": "code",
   "execution_count": 13,
   "id": "aef76b0f",
   "metadata": {},
   "outputs": [
    {
     "data": {
      "text/html": [
       "<div>\n",
       "<style scoped>\n",
       "    .dataframe tbody tr th:only-of-type {\n",
       "        vertical-align: middle;\n",
       "    }\n",
       "\n",
       "    .dataframe tbody tr th {\n",
       "        vertical-align: top;\n",
       "    }\n",
       "\n",
       "    .dataframe thead th {\n",
       "        text-align: right;\n",
       "    }\n",
       "</style>\n",
       "<table border=\"1\" class=\"dataframe\">\n",
       "  <thead>\n",
       "    <tr style=\"text-align: right;\">\n",
       "      <th></th>\n",
       "      <th>Age</th>\n",
       "    </tr>\n",
       "  </thead>\n",
       "  <tbody>\n",
       "    <tr>\n",
       "      <th>count</th>\n",
       "      <td>3.000000</td>\n",
       "    </tr>\n",
       "    <tr>\n",
       "      <th>mean</th>\n",
       "      <td>27.666667</td>\n",
       "    </tr>\n",
       "    <tr>\n",
       "      <th>std</th>\n",
       "      <td>4.041452</td>\n",
       "    </tr>\n",
       "    <tr>\n",
       "      <th>min</th>\n",
       "      <td>24.000000</td>\n",
       "    </tr>\n",
       "    <tr>\n",
       "      <th>25%</th>\n",
       "      <td>25.500000</td>\n",
       "    </tr>\n",
       "    <tr>\n",
       "      <th>50%</th>\n",
       "      <td>27.000000</td>\n",
       "    </tr>\n",
       "    <tr>\n",
       "      <th>75%</th>\n",
       "      <td>29.500000</td>\n",
       "    </tr>\n",
       "    <tr>\n",
       "      <th>max</th>\n",
       "      <td>32.000000</td>\n",
       "    </tr>\n",
       "  </tbody>\n",
       "</table>\n",
       "</div>"
      ],
      "text/plain": [
       "             Age\n",
       "count   3.000000\n",
       "mean   27.666667\n",
       "std     4.041452\n",
       "min    24.000000\n",
       "25%    25.500000\n",
       "50%    27.000000\n",
       "75%    29.500000\n",
       "max    32.000000"
      ]
     },
     "execution_count": 13,
     "metadata": {},
     "output_type": "execute_result"
    }
   ],
   "source": [
    "# df.describe()\n",
    "df.describe()"
   ]
  },
  {
   "cell_type": "markdown",
   "id": "a6371fb7",
   "metadata": {},
   "source": [
    "## Reading a CSV File into Python\n",
    "> Importing a saved data set into Python to use with Pandas\n",
    "---\n",
    "\n",
    "In general terms, we often store data sets outside of a Python environment - usually as a spreadsheet in *Excel* or *Google Docs*.  Unfortunately, this means that we cannot use any of the niceties that Python provides in `pandas`.  We can, however, import the data set (when stored as a `.csv` file) into Python.\n",
    "\n",
    "We first need to ensure that the data set we wish to bring into Python has been saved in the same directory (folder) as our current program.  If you are using Jupyter Notebooks, this means you need to upload the data set into the same folder where your program is saved. \n",
    "\n",
    "Go to OWL now and download the data set `sales_data.csv`, then upload this file into the same folder that your currently working in.  **NOTE** if you save this data set in a different folder, you will get an error."
   ]
  },
  {
   "cell_type": "code",
   "execution_count": 14,
   "id": "10e0c1fc",
   "metadata": {},
   "outputs": [
    {
     "name": "stdout",
     "output_type": "stream",
     "text": [
      "<class 'pandas.core.frame.DataFrame'>\n"
     ]
    }
   ],
   "source": [
    "# reading in a .csv file into Python\n",
    "sales_df = pd.read_csv('sales_data.csv')\n",
    "print(type(sales_df))"
   ]
  },
  {
   "cell_type": "markdown",
   "id": "96781f96",
   "metadata": {},
   "source": [
    "---\n",
    "### Exercise\n",
    "Do some basic data exploration of this data using `.head()` and `.info()`.  What can you tell the class about this data set?\n",
    "\n",
    "---"
   ]
  },
  {
   "cell_type": "code",
   "execution_count": 19,
   "id": "9a313f0b",
   "metadata": {},
   "outputs": [
    {
     "data": {
      "text/html": [
       "<div>\n",
       "<style scoped>\n",
       "    .dataframe tbody tr th:only-of-type {\n",
       "        vertical-align: middle;\n",
       "    }\n",
       "\n",
       "    .dataframe tbody tr th {\n",
       "        vertical-align: top;\n",
       "    }\n",
       "\n",
       "    .dataframe thead th {\n",
       "        text-align: right;\n",
       "    }\n",
       "</style>\n",
       "<table border=\"1\" class=\"dataframe\">\n",
       "  <thead>\n",
       "    <tr style=\"text-align: right;\">\n",
       "      <th></th>\n",
       "      <th>Date</th>\n",
       "      <th>Product</th>\n",
       "      <th>Sales</th>\n",
       "      <th>Revenue</th>\n",
       "      <th>Month</th>\n",
       "    </tr>\n",
       "  </thead>\n",
       "  <tbody>\n",
       "    <tr>\n",
       "      <th>0</th>\n",
       "      <td>2023-01-01</td>\n",
       "      <td>Product A</td>\n",
       "      <td>1200.0</td>\n",
       "      <td>240.0</td>\n",
       "      <td>January</td>\n",
       "    </tr>\n",
       "    <tr>\n",
       "      <th>1</th>\n",
       "      <td>2023-01-02</td>\n",
       "      <td>Product B</td>\n",
       "      <td>800.0</td>\n",
       "      <td>160.0</td>\n",
       "      <td>January</td>\n",
       "    </tr>\n",
       "    <tr>\n",
       "      <th>2</th>\n",
       "      <td>2023-02-01</td>\n",
       "      <td>Product A</td>\n",
       "      <td>1500.0</td>\n",
       "      <td>300.0</td>\n",
       "      <td>February</td>\n",
       "    </tr>\n",
       "    <tr>\n",
       "      <th>3</th>\n",
       "      <td>2023-02-02</td>\n",
       "      <td>Product B</td>\n",
       "      <td>900.0</td>\n",
       "      <td>180.0</td>\n",
       "      <td>February</td>\n",
       "    </tr>\n",
       "    <tr>\n",
       "      <th>4</th>\n",
       "      <td>2023-03-01</td>\n",
       "      <td>Product A</td>\n",
       "      <td>1300.0</td>\n",
       "      <td>260.0</td>\n",
       "      <td>March</td>\n",
       "    </tr>\n",
       "  </tbody>\n",
       "</table>\n",
       "</div>"
      ],
      "text/plain": [
       "         Date    Product   Sales  Revenue     Month\n",
       "0  2023-01-01  Product A  1200.0    240.0   January\n",
       "1  2023-01-02  Product B   800.0    160.0   January\n",
       "2  2023-02-01  Product A  1500.0    300.0  February\n",
       "3  2023-02-02  Product B   900.0    180.0  February\n",
       "4  2023-03-01  Product A  1300.0    260.0     March"
      ]
     },
     "execution_count": 19,
     "metadata": {},
     "output_type": "execute_result"
    }
   ],
   "source": [
    "# basic data exploration\n",
    "sales_df.head()"
   ]
  },
  {
   "cell_type": "markdown",
   "id": "989f3a30",
   "metadata": {},
   "source": [
    "## Basic Data Analysis with Pandas\n",
    "> More DataFrame methods to compute basic analysis of data sets\n",
    "\n",
    "---\n",
    "\n",
    "There are a vast amount of data analysis tools that we can use in `pandas` on our DataFrames.  We will only go over a select few to showcase various methods."
   ]
  },
  {
   "cell_type": "code",
   "execution_count": 23,
   "id": "e3de5bc2",
   "metadata": {},
   "outputs": [
    {
     "name": "stdout",
     "output_type": "stream",
     "text": [
      "          Date    Product   Sales  Revenue     Month\n",
      "0   2023-01-01  Product A  1200.0    240.0   January\n",
      "2   2023-02-01  Product A  1500.0    300.0  February\n",
      "4   2023-03-01  Product A  1300.0    260.0     March\n",
      "8   2023-05-01  Product A  1800.0    420.0       May\n",
      "11  2023-06-02  Product B  1200.0    310.0      June\n",
      "12  2023-07-01  Product A  1550.0    320.0      July\n",
      "14  2023-08-01  Product A  1350.0    260.0    August\n",
      "          Date    Product  Sales  Revenue     Month\n",
      "1   2023-01-02  Product B  800.0    160.0   January\n",
      "3   2023-02-02  Product B  900.0    180.0  February\n",
      "5   2023-03-02  Product B  950.0    190.0     March\n",
      "7   2023-04-02  Product B  850.0    190.0     April\n",
      "9   2023-05-02  Product B  750.0    100.0       May\n",
      "10  2023-06-01  Product A  500.0     50.0      June\n",
      "13  2023-07-02  Product B  800.0    160.0      July\n",
      "15  2023-08-02  Product B  875.0    210.0    August\n"
     ]
    }
   ],
   "source": [
    "# Identify the rows with high sales (> $1000)\n",
    "top_sales = sales_df[sales_df['Sales'] > 1000]\n",
    "print(top_sales)\n",
    "# Identify the rows with low sales (< $1000)\n",
    "low_sales = sales_df[sales_df['Sales'] < 1000]\n",
    "print(low_sales)"
   ]
  },
  {
   "cell_type": "code",
   "execution_count": 29,
   "id": "977af078",
   "metadata": {},
   "outputs": [
    {
     "name": "stdout",
     "output_type": "stream",
     "text": [
      "           Sales  Revenue\n",
      "Month                    \n",
      "April     1850.0    400.0\n",
      "August    2225.0    470.0\n",
      "February  2400.0    480.0\n",
      "January   2000.0    400.0\n",
      "July      2350.0    480.0\n",
      "June      1700.0    360.0\n",
      "March     2250.0    450.0\n",
      "May       2550.0    520.0\n",
      "Month\n",
      "April       1850.0\n",
      "August      2225.0\n",
      "February    2400.0\n",
      "January     2000.0\n",
      "July        2350.0\n",
      "June        1700.0\n",
      "March       2250.0\n",
      "May         2550.0\n",
      "Name: Sales, dtype: float64\n"
     ]
    },
    {
     "name": "stderr",
     "output_type": "stream",
     "text": [
      "/var/folders/cz/b459nk9s47n9_9ykqvrh5tzh0000gn/T/ipykernel_88553/1961195155.py:4: FutureWarning: The default value of numeric_only in DataFrameGroupBy.sum is deprecated. In a future version, numeric_only will default to False. Either specify numeric_only or select only columns which should be valid for the function.\n",
      "  monthly_sales = sales_df.groupby('Month').sum()\n"
     ]
    }
   ],
   "source": [
    "### The .groupby() method - allows us to aggregrate our data and collect more information\n",
    "\n",
    "# aggregrate monthly sales and revenue data\n",
    "monthly_sales = sales_df.groupby('Month').sum()\n",
    "print(monthly_sales)\n",
    "\n",
    "# aggregrate monthly sales data only\n",
    "monthly_sales = sales_df.groupby('Month')['Sales'].sum()\n",
    "print(monthly_sales)\n"
   ]
  },
  {
   "cell_type": "code",
   "execution_count": 34,
   "id": "c45c8a7a",
   "metadata": {},
   "outputs": [
    {
     "name": "stdout",
     "output_type": "stream",
     "text": [
      "Product\n",
      "Product B     7125.0\n",
      "Product A    10200.0\n",
      "Name: Sales, dtype: float64\n"
     ]
    }
   ],
   "source": [
    "# what does this code do? Change False to True ... what happens?\n",
    "\n",
    "top_products = sales_df.groupby('Product')['Sales'].sum().sort_values(ascending=True)\n",
    "\n",
    "#sort sales in ascending order (when True) for product A followed by B\n",
    "\n",
    "print(top_products)"
   ]
  },
  {
   "cell_type": "markdown",
   "id": "012f6528",
   "metadata": {},
   "source": [
    "### Some Sports Analytics - Basics with Pandas\n",
    "---\n",
    "\n",
    "Download the data set called `baseball23_data.csv` and load into Python as a DataFrame.  Explore this data set using `.head()`, `.info()` and `.describe()`."
   ]
  },
  {
   "cell_type": "code",
   "execution_count": 40,
   "id": "87149905",
   "metadata": {},
   "outputs": [
    {
     "data": {
      "text/html": [
       "<div>\n",
       "<style scoped>\n",
       "    .dataframe tbody tr th:only-of-type {\n",
       "        vertical-align: middle;\n",
       "    }\n",
       "\n",
       "    .dataframe tbody tr th {\n",
       "        vertical-align: top;\n",
       "    }\n",
       "\n",
       "    .dataframe thead th {\n",
       "        text-align: right;\n",
       "    }\n",
       "</style>\n",
       "<table border=\"1\" class=\"dataframe\">\n",
       "  <thead>\n",
       "    <tr style=\"text-align: right;\">\n",
       "      <th></th>\n",
       "      <th>Tm</th>\n",
       "      <th>#Bat</th>\n",
       "      <th>BatAge</th>\n",
       "      <th>R/G</th>\n",
       "      <th>G</th>\n",
       "      <th>PA</th>\n",
       "      <th>AB</th>\n",
       "      <th>R</th>\n",
       "      <th>H</th>\n",
       "      <th>2B</th>\n",
       "      <th>...</th>\n",
       "      <th>SLG</th>\n",
       "      <th>OPS</th>\n",
       "      <th>OPS+</th>\n",
       "      <th>TB</th>\n",
       "      <th>GDP</th>\n",
       "      <th>HBP</th>\n",
       "      <th>SH</th>\n",
       "      <th>SF</th>\n",
       "      <th>IBB</th>\n",
       "      <th>LOB</th>\n",
       "    </tr>\n",
       "  </thead>\n",
       "  <tbody>\n",
       "    <tr>\n",
       "      <th>0</th>\n",
       "      <td>Arizona Diamondbacks</td>\n",
       "      <td>54</td>\n",
       "      <td>27.4</td>\n",
       "      <td>4.60</td>\n",
       "      <td>162</td>\n",
       "      <td>6124</td>\n",
       "      <td>5436</td>\n",
       "      <td>746</td>\n",
       "      <td>1359</td>\n",
       "      <td>274</td>\n",
       "      <td>...</td>\n",
       "      <td>0.408</td>\n",
       "      <td>0.730</td>\n",
       "      <td>98</td>\n",
       "      <td>2219</td>\n",
       "      <td>121</td>\n",
       "      <td>58</td>\n",
       "      <td>36</td>\n",
       "      <td>50</td>\n",
       "      <td>11</td>\n",
       "      <td>1091</td>\n",
       "    </tr>\n",
       "    <tr>\n",
       "      <th>1</th>\n",
       "      <td>Atlanta Braves</td>\n",
       "      <td>53</td>\n",
       "      <td>27.9</td>\n",
       "      <td>5.85</td>\n",
       "      <td>162</td>\n",
       "      <td>6249</td>\n",
       "      <td>5597</td>\n",
       "      <td>947</td>\n",
       "      <td>1543</td>\n",
       "      <td>293</td>\n",
       "      <td>...</td>\n",
       "      <td>0.501</td>\n",
       "      <td>0.845</td>\n",
       "      <td>124</td>\n",
       "      <td>2803</td>\n",
       "      <td>128</td>\n",
       "      <td>67</td>\n",
       "      <td>2</td>\n",
       "      <td>43</td>\n",
       "      <td>20</td>\n",
       "      <td>1062</td>\n",
       "    </tr>\n",
       "    <tr>\n",
       "      <th>2</th>\n",
       "      <td>Baltimore Orioles</td>\n",
       "      <td>50</td>\n",
       "      <td>27.3</td>\n",
       "      <td>4.98</td>\n",
       "      <td>162</td>\n",
       "      <td>6123</td>\n",
       "      <td>5495</td>\n",
       "      <td>807</td>\n",
       "      <td>1399</td>\n",
       "      <td>309</td>\n",
       "      <td>...</td>\n",
       "      <td>0.421</td>\n",
       "      <td>0.742</td>\n",
       "      <td>107</td>\n",
       "      <td>2313</td>\n",
       "      <td>114</td>\n",
       "      <td>45</td>\n",
       "      <td>21</td>\n",
       "      <td>47</td>\n",
       "      <td>14</td>\n",
       "      <td>1041</td>\n",
       "    </tr>\n",
       "    <tr>\n",
       "      <th>3</th>\n",
       "      <td>Boston Red Sox</td>\n",
       "      <td>56</td>\n",
       "      <td>28.6</td>\n",
       "      <td>4.77</td>\n",
       "      <td>162</td>\n",
       "      <td>6174</td>\n",
       "      <td>5562</td>\n",
       "      <td>772</td>\n",
       "      <td>1437</td>\n",
       "      <td>339</td>\n",
       "      <td>...</td>\n",
       "      <td>0.424</td>\n",
       "      <td>0.748</td>\n",
       "      <td>100</td>\n",
       "      <td>2360</td>\n",
       "      <td>118</td>\n",
       "      <td>71</td>\n",
       "      <td>11</td>\n",
       "      <td>35</td>\n",
       "      <td>15</td>\n",
       "      <td>1117</td>\n",
       "    </tr>\n",
       "    <tr>\n",
       "      <th>4</th>\n",
       "      <td>Chicago Cubs</td>\n",
       "      <td>48</td>\n",
       "      <td>28.4</td>\n",
       "      <td>5.06</td>\n",
       "      <td>162</td>\n",
       "      <td>6220</td>\n",
       "      <td>5504</td>\n",
       "      <td>819</td>\n",
       "      <td>1399</td>\n",
       "      <td>269</td>\n",
       "      <td>...</td>\n",
       "      <td>0.421</td>\n",
       "      <td>0.751</td>\n",
       "      <td>100</td>\n",
       "      <td>2316</td>\n",
       "      <td>95</td>\n",
       "      <td>77</td>\n",
       "      <td>15</td>\n",
       "      <td>52</td>\n",
       "      <td>11</td>\n",
       "      <td>1127</td>\n",
       "    </tr>\n",
       "  </tbody>\n",
       "</table>\n",
       "<p>5 rows × 29 columns</p>\n",
       "</div>"
      ],
      "text/plain": [
       "                     Tm  #Bat  BatAge   R/G    G    PA    AB    R     H   2B  \\\n",
       "0  Arizona Diamondbacks    54    27.4  4.60  162  6124  5436  746  1359  274   \n",
       "1        Atlanta Braves    53    27.9  5.85  162  6249  5597  947  1543  293   \n",
       "2     Baltimore Orioles    50    27.3  4.98  162  6123  5495  807  1399  309   \n",
       "3        Boston Red Sox    56    28.6  4.77  162  6174  5562  772  1437  339   \n",
       "4          Chicago Cubs    48    28.4  5.06  162  6220  5504  819  1399  269   \n",
       "\n",
       "   ...    SLG    OPS  OPS+    TB  GDP  HBP  SH  SF  IBB   LOB  \n",
       "0  ...  0.408  0.730    98  2219  121   58  36  50   11  1091  \n",
       "1  ...  0.501  0.845   124  2803  128   67   2  43   20  1062  \n",
       "2  ...  0.421  0.742   107  2313  114   45  21  47   14  1041  \n",
       "3  ...  0.424  0.748   100  2360  118   71  11  35   15  1117  \n",
       "4  ...  0.421  0.751   100  2316   95   77  15  52   11  1127  \n",
       "\n",
       "[5 rows x 29 columns]"
      ]
     },
     "execution_count": 40,
     "metadata": {},
     "output_type": "execute_result"
    }
   ],
   "source": [
    "# Examine the baseball23_data dataset\n",
    "baseball_df = pd.read_csv('baseball23_data.csv')\n",
    "\n",
    "baseball_df.head()\n",
    "#baseball_df.info()\n",
    "#baseball_df.describe()"
   ]
  },
  {
   "cell_type": "code",
   "execution_count": 52,
   "id": "d5f703de",
   "metadata": {},
   "outputs": [
    {
     "name": "stdout",
     "output_type": "stream",
     "text": [
      "Tm\n",
      "Atlanta Braves           947\n",
      "Los Angeles Dodgers      906\n",
      "Texas Rangers            881\n",
      "Tampa Bay Rays           860\n",
      "Houston Astros           827\n",
      "Chicago Cubs             819\n",
      "Baltimore Orioles        807\n",
      "Philadelphia Phillies    796\n",
      "Cincinnati Reds          783\n",
      "Minnesota Twins          778\n",
      "Boston Red Sox           772\n",
      "Seattle Mariners         758\n",
      "San Diego Padres         752\n",
      "Arizona Diamondbacks     746\n",
      "Toronto Blue Jays        746\n",
      "Los Angeles Angels       739\n",
      "Milwaukee Brewers        728\n",
      "Colorado Rockies         721\n",
      "St. Louis Cardinals      719\n",
      "New York Mets            717\n",
      "Washington Nationals     700\n",
      "Pittsburgh Pirates       692\n",
      "Kansas City Royals       676\n",
      "San Francisco Giants     674\n",
      "New York Yankees         673\n",
      "Miami Marlins            668\n",
      "Cleveland Guardians      662\n",
      "Detroit Tigers           661\n",
      "Chicago White Sox        641\n",
      "Oakland Athletics        585\n",
      "Name: R, dtype: int64\n",
      "                       Tm    R\n",
      "1          Atlanta Braves  947\n",
      "13    Los Angeles Dodgers  906\n",
      "27          Texas Rangers  881\n",
      "26         Tampa Bay Rays  860\n",
      "10         Houston Astros  827\n",
      "4            Chicago Cubs  819\n",
      "2       Baltimore Orioles  807\n",
      "20  Philadelphia Phillies  796\n",
      "6         Cincinnati Reds  783\n",
      "16        Minnesota Twins  778\n",
      "3          Boston Red Sox  772\n",
      "23       Seattle Mariners  758\n",
      "22       San Diego Padres  752\n",
      "0    Arizona Diamondbacks  746\n",
      "28      Toronto Blue Jays  746\n",
      "12     Los Angeles Angels  739\n",
      "15      Milwaukee Brewers  728\n",
      "8        Colorado Rockies  721\n",
      "25    St. Louis Cardinals  719\n",
      "17          New York Mets  717\n",
      "29   Washington Nationals  700\n",
      "21     Pittsburgh Pirates  692\n",
      "11     Kansas City Royals  676\n",
      "24   San Francisco Giants  674\n",
      "18       New York Yankees  673\n",
      "14          Miami Marlins  668\n",
      "7     Cleveland Guardians  662\n",
      "9          Detroit Tigers  661\n",
      "5       Chicago White Sox  641\n",
      "19      Oakland Athletics  585\n"
     ]
    }
   ],
   "source": [
    "# Let's sort the data set by number of runs scored, and make sure to only print the Teams and\n",
    "# their associated runs scored ... any guesses?\n",
    "\n",
    "runs_scored = baseball_df.groupby('Tm')['R'].sum().sort_values(ascending = False)\n",
    "print(runs_scored)\n",
    "\n",
    "print(baseball_df.sort_values(by = ['R'], ascending = False)[['Tm', 'R']])"
   ]
  },
  {
   "cell_type": "markdown",
   "id": "c00ae12d",
   "metadata": {},
   "source": [
    "---\n",
    "### Exercise\n",
    "\n",
    "Print out the teams that have greater runs scored than the average runs scored for the league.\n",
    "\n",
    "---"
   ]
  },
  {
   "cell_type": "code",
   "execution_count": null,
   "id": "377e4d84",
   "metadata": {},
   "outputs": [],
   "source": []
  }
 ],
 "metadata": {
  "kernelspec": {
   "display_name": "Python 3 (ipykernel)",
   "language": "python",
   "name": "python3"
  },
  "language_info": {
   "codemirror_mode": {
    "name": "ipython",
    "version": 3
   },
   "file_extension": ".py",
   "mimetype": "text/x-python",
   "name": "python",
   "nbconvert_exporter": "python",
   "pygments_lexer": "ipython3",
   "version": "3.11.4"
  }
 },
 "nbformat": 4,
 "nbformat_minor": 5
}
