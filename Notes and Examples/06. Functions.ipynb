{
 "cells": [
  {
   "cell_type": "markdown",
   "id": "6781b7f4",
   "metadata": {},
   "source": [
    "# ADS2288F - Sept 27th\n",
    "> Functions in Python\n",
    "---\n",
    "\n",
    "Functions in Python are similar to those in mathematics.  We give these objects some input - called a **parameter** - and we receive some output - which will be defined using `return` or perhaps a `print` statement. Python functions can operate on any type of paramemter (not just numbers) - this includes lists, strings, and many others. \n",
    "\n",
    "In Python, a function is a reusable block of code that performs a specific task. Functions are like mini-programs that you can use within your main program to make your code more organized and modular. They can take input, perform operations, and return results.\n",
    "\n",
    "To define a function, we use similar notation to what we've seen before for our loops and `if` statements:"
   ]
  },
  {
   "cell_type": "code",
   "execution_count": 1,
   "id": "6b94fa4a",
   "metadata": {},
   "outputs": [
    {
     "name": "stdout",
     "output_type": "stream",
     "text": [
      "Hello, Tyler!\n"
     ]
    }
   ],
   "source": [
    "# define a basic greeting function\n",
    "\n",
    "def greet(name):\n",
    "    print(f\"Hello, {name}!\")\n",
    "\n",
    "# To use a function, you call it by its name, passing any required arguments within the parentheses.\n",
    "greet(\"Tyler\")"
   ]
  },
  {
   "cell_type": "markdown",
   "id": "e652167c",
   "metadata": {},
   "source": [
    "## Parameters and Arguements\n",
    "\n",
    "Two key pieces of function definitions in Python are: (1) **parameters** and (2) **arguements**. Parameters are placeholders for the values a function needs to do its job. They are specified in the function definition and act as variables within the function. While, arguements are the actual values you pass to a function when calling it.\n",
    "\n",
    "For instance,"
   ]
  },
  {
   "cell_type": "code",
   "execution_count": 2,
   "id": "5c1cb809",
   "metadata": {},
   "outputs": [
    {
     "name": "stdout",
     "output_type": "stream",
     "text": [
      "7\n"
     ]
    }
   ],
   "source": [
    "# define a function call add that adds two numbers together and prints the result\n",
    "# note that a and b are called parameters here\n",
    "def add(a,b):\n",
    "    result = a + b\n",
    "    print(result)\n",
    "    \n",
    "# now that we call add, the numbers 3 and 4 are called the arguements of the function\n",
    "add(3,4)"
   ]
  },
  {
   "cell_type": "markdown",
   "id": "fa96121b",
   "metadata": {},
   "source": [
    "Note that it is important to remember that **order matters**.  The order of the parameters in the function definition is important to remember, as we need to make sure to pass arguements in the same order that we need."
   ]
  },
  {
   "cell_type": "markdown",
   "id": "37621ee2",
   "metadata": {},
   "source": [
    "### Example 1:\n",
    "\n",
    "Create a function called `area` that takes two parameters, the length and width of a rectangle, and computes the area."
   ]
  },
  {
   "cell_type": "code",
   "execution_count": 3,
   "id": "e3dfd096",
   "metadata": {},
   "outputs": [
    {
     "name": "stdout",
     "output_type": "stream",
     "text": [
      "8\n"
     ]
    }
   ],
   "source": [
    "def area(length,width):\n",
    "    result = length*width\n",
    "    print(result)\n",
    "\n",
    "area(4,2)"
   ]
  },
  {
   "cell_type": "markdown",
   "id": "461b54aa",
   "metadata": {},
   "source": [
    "### Example 2:\n",
    "\n",
    "Create a function called `find_max` that takes three parameters.  Using `if` statements, determine which of the three parameters is the largest number."
   ]
  },
  {
   "cell_type": "code",
   "execution_count": 3,
   "id": "aa762794",
   "metadata": {},
   "outputs": [
    {
     "name": "stdout",
     "output_type": "stream",
     "text": [
      "The max number is: 25\n"
     ]
    }
   ],
   "source": [
    "def find_max(a,b,c):\n",
    "    if a > b and c:\n",
    "        return a \n",
    "    elif b > a and c:\n",
    "        return b \n",
    "    else:\n",
    "        return c\n",
    "    \n",
    "max_number = find_max(10,25,15)\n",
    "print(\"The max number is:\", max_number)"
   ]
  },
  {
   "cell_type": "code",
   "execution_count": 6,
   "id": "8963ac76",
   "metadata": {},
   "outputs": [
    {
     "name": "stdout",
     "output_type": "stream",
     "text": [
      "The max number is: 25\n"
     ]
    }
   ],
   "source": [
    "def find_max(a,b,c):\n",
    "    if a > b and c:\n",
    "        print(f\"The max number is: {a}\")\n",
    "    elif b > a and c:\n",
    "        print(f\"The max number is: {b}\")\n",
    "    else:\n",
    "        print(f\"The max number is: {c}\")\n",
    "    \n",
    "find_max(10,25,15)"
   ]
  },
  {
   "cell_type": "markdown",
   "id": "148b2578",
   "metadata": {},
   "source": [
    "## Return\n",
    "\n",
    "Functions can, in fact, return values using the keyword ... `return`.  Suppose we have a function that we want to calculate a value to use later, then instead of printing a message we can ask the function to \"store\" said value using the `return` keyword.  For instance,"
   ]
  },
  {
   "cell_type": "code",
   "execution_count": 7,
   "id": "7fd4d0e9",
   "metadata": {},
   "outputs": [
    {
     "name": "stdout",
     "output_type": "stream",
     "text": [
      "25\n"
     ]
    }
   ],
   "source": [
    "def square(x):\n",
    "    return x ** 2\n",
    "\n",
    "result = square(5)\n",
    "print(result)"
   ]
  },
  {
   "cell_type": "code",
   "execution_count": null,
   "id": "3109140a",
   "metadata": {},
   "outputs": [],
   "source": []
  },
  {
   "cell_type": "markdown",
   "id": "35a91323",
   "metadata": {},
   "source": [
    "### Example 3:\n",
    "\n",
    "Create a function called `convert` that converts a temperature in Celsius to Fahrenheit using the conversion $F = \\frac{9C}{5}+32$."
   ]
  },
  {
   "cell_type": "code",
   "execution_count": 10,
   "id": "445189ab",
   "metadata": {},
   "outputs": [
    {
     "name": "stdout",
     "output_type": "stream",
     "text": [
      "50.0\n"
     ]
    }
   ],
   "source": [
    "def convert (C):\n",
    "    return ((9*C)/5)+32\n",
    "\n",
    "F = convert(10)\n",
    "print(F)"
   ]
  },
  {
   "cell_type": "code",
   "execution_count": null,
   "id": "24305b6d",
   "metadata": {},
   "outputs": [],
   "source": []
  },
  {
   "cell_type": "markdown",
   "id": "328ac9a1",
   "metadata": {},
   "source": [
    "### Example 4:\n",
    "\n",
    "Create a function called `list_average` that will determine the mean value of a given list of numbers."
   ]
  },
  {
   "cell_type": "code",
   "execution_count": 18,
   "id": "3f7c33f6",
   "metadata": {},
   "outputs": [
    {
     "name": "stdout",
     "output_type": "stream",
     "text": [
      "3.0\n"
     ]
    }
   ],
   "source": [
    "def list_average (numbers):\n",
    "    average = sum(numbers) / len(numbers)\n",
    "    return average\n",
    "\n",
    "list = [1,2,3,4,5]\n",
    "result = list_average(list)\n",
    "print(result)"
   ]
  },
  {
   "cell_type": "markdown",
   "id": "a5de194c",
   "metadata": {},
   "source": [
    "## Scope of Variables\n",
    "> Local vs. Global Variables\n",
    "---\n",
    "\n",
    "Variables that are used within functions are called *local* variables and cannot be called outside of the function.  We need to be sure to remember that we cannot \"use\" a variable outside of the function.  For instance,"
   ]
  },
  {
   "cell_type": "code",
   "execution_count": 22,
   "id": "c2a420c2",
   "metadata": {},
   "outputs": [],
   "source": [
    "def try_this(x,y):\n",
    "    aa=x+y\n",
    "    bb=x*y\n",
    "    cc=13\n",
    "    return aa,bb,cc\n",
    "\n",
    "print()"
   ]
  },
  {
   "cell_type": "code",
   "execution_count": 21,
   "id": "62e11f29",
   "metadata": {},
   "outputs": [],
   "source": [
    "# BUT\n",
    "\n",
    "def try_this(x,y):\n",
    "    a=x+y\n",
    "    b=x*y\n",
    "    c=13\n",
    "    return a,b,c"
   ]
  },
  {
   "cell_type": "markdown",
   "id": "6fd7c30e",
   "metadata": {},
   "source": [
    "## Some Examples\n",
    "---\n",
    "\n",
    "### Exercise 1:\n",
    "Create a program that computes the factorial of a given positive integer $n$."
   ]
  },
  {
   "cell_type": "code",
   "execution_count": null,
   "id": "7862455f",
   "metadata": {},
   "outputs": [],
   "source": []
  },
  {
   "cell_type": "code",
   "execution_count": 30,
   "id": "97fc2b0c",
   "metadata": {},
   "outputs": [
    {
     "name": "stdout",
     "output_type": "stream",
     "text": [
      "Enter a positive integer: 6\n",
      "The Factorial of 6 is: 720\n"
     ]
    }
   ],
   "source": [
    "def factorial_recursive(n):\n",
    "    if n == 0:\n",
    "        return 1\n",
    "    else:\n",
    "        return n * factorial_recursive(n - 1)\n",
    "\n",
    "n = int(input(\"Enter a positive integer: \"))\n",
    "result = factorial_recursive(n)\n",
    "print(f\"The Factorial of {n} is: {result}\")"
   ]
  },
  {
   "cell_type": "markdown",
   "id": "165cf247",
   "metadata": {},
   "source": [
    "### Exercise 2:\n",
    "Create a program that computes the dot product of two given vectors."
   ]
  },
  {
   "cell_type": "code",
   "execution_count": 33,
   "id": "6f1ae185",
   "metadata": {},
   "outputs": [
    {
     "name": "stdout",
     "output_type": "stream",
     "text": [
      "Enter the first vector as a list of numbers separated by spaces: 4 5 6\n",
      "Enter the second vector as a list of numbers separated by spaces: 1 2 3\n",
      "The dot product of the two vectors is: 32.0\n"
     ]
    }
   ],
   "source": []
  },
  {
   "cell_type": "code",
   "execution_count": 51,
   "id": "187fd494",
   "metadata": {},
   "outputs": [
    {
     "name": "stdout",
     "output_type": "stream",
     "text": [
      "32\n"
     ]
    }
   ],
   "source": [
    "def dot_product(vector1, vector2):\n",
    "    result = 0\n",
    "    for i in range(len(vector1)):\n",
    "        result += vector1[i] * vector2[i]\n",
    "    \n",
    "    return result\n",
    "    \n",
    "vector1 = [1,2,3]\n",
    "vector2 = [4,5,6]\n",
    "    \n",
    "result = dot_product(vector1, vector2)\n",
    "print(result)\n"
   ]
  },
  {
   "cell_type": "code",
   "execution_count": 3,
   "id": "a21f5bb7",
   "metadata": {},
   "outputs": [
    {
     "name": "stdout",
     "output_type": "stream",
     "text": [
      "Alice's annual salary: $48000\n",
      "Bob's annual salary: $54000\n",
      "Charlie's annual salary: $60000\n",
      "David's annual salary: $66000\n",
      "Total annual salary expenditure for the company: $228000\n"
     ]
    }
   ],
   "source": [
    "# Define a list of employee names and their corresponding monthly salaries\n",
    "employee_names = [\"Alice\", \"Bob\", \"Charlie\", \"David\"]\n",
    "monthly_salaries = [4000, 4500, 5000, 5500]\n",
    "\n",
    "# Initialize variables to store the total annual salary expenditure for the company\n",
    "total_annual_expenditure = 0\n",
    "\n",
    "# Iterate through the lists to calculate annual salaries and total annual expenditure\n",
    "for i in range(len(employee_names)):\n",
    "    employee_name = employee_names[i]\n",
    "    monthly_salary = monthly_salaries[i]\n",
    "\n",
    "    # Calculate the annual salary for the current employee (assuming 12 paychecks per year)\n",
    "    annual_salary = monthly_salary * 12\n",
    "\n",
    "    # Add the annual salary to the total annual expenditure\n",
    "    total_annual_expenditure += annual_salary\n",
    "\n",
    "    # Print the annual salary for the current employee\n",
    "    print(f\"{employee_name}'s annual salary: ${annual_salary}\")\n",
    "\n",
    "# Print the total annual salary expenditure for the company\n",
    "print(f\"Total annual salary expenditure for the company: ${total_annual_expenditure}\")\n"
   ]
  },
  {
   "cell_type": "code",
   "execution_count": 4,
   "id": "8e2a3c3a",
   "metadata": {},
   "outputs": [
    {
     "name": "stdout",
     "output_type": "stream",
     "text": [
      "Enter the number of books sold (positive integer): 5\n",
      "Enter the price of the books: 6\n",
      "Enter the number of records sold (positive integer): 7\n",
      "Enter the price of the records: 8\n",
      "Records generated the highest profit.\n"
     ]
    }
   ],
   "source": [
    "# (a) Create two functions\n",
    "\n",
    "def profit_books(num, price):\n",
    "    revenue = num * price\n",
    "    cost = revenue * 0.60  # 60% of their revenue\n",
    "    profit = revenue - cost\n",
    "    return profit\n",
    "\n",
    "def profit_records(num, price):\n",
    "    revenue = num * price\n",
    "    cost = revenue * 0.62  # 62% of their revenue\n",
    "    profit = revenue - cost\n",
    "    return profit\n",
    "\n",
    "# (c) Use a loop to ask the user for input\n",
    "\n",
    "while True:\n",
    "    try:\n",
    "        num_books = int(input(\"Enter the number of books sold (positive integer): \"))\n",
    "        price_books = float(input(\"Enter the price of the books: \"))\n",
    "        num_records = int(input(\"Enter the number of records sold (positive integer): \"))\n",
    "        price_records = float(input(\"Enter the price of the records: \"))\n",
    "\n",
    "        if num_books < 0 or num_records < 0 or price_books < 0 or price_records < 0:\n",
    "            raise ValueError\n",
    "\n",
    "        break\n",
    "    except ValueError:\n",
    "        print(\"Please enter valid positive integer values for the number of products and valid positive prices.\")\n",
    "\n",
    "# Calculate profit for each category\n",
    "book_profit = profit_books(num_books, price_books)\n",
    "record_profit = profit_records(num_records, price_records)\n",
    "\n",
    "# (d) Determine which product category generated the highest profit\n",
    "if book_profit > record_profit:\n",
    "    print(\"Books generated the highest profit.\")\n",
    "elif record_profit > book_profit:\n",
    "    print(\"Records generated the highest profit.\")\n",
    "else:\n",
    "    print(\"Both books and records generated equal profit.\")\n",
    "\n"
   ]
  }
 ],
 "metadata": {
  "kernelspec": {
   "display_name": "Python 3 (ipykernel)",
   "language": "python",
   "name": "python3"
  },
  "language_info": {
   "codemirror_mode": {
    "name": "ipython",
    "version": 3
   },
   "file_extension": ".py",
   "mimetype": "text/x-python",
   "name": "python",
   "nbconvert_exporter": "python",
   "pygments_lexer": "ipython3",
   "version": "3.11.4"
  }
 },
 "nbformat": 4,
 "nbformat_minor": 5
}
