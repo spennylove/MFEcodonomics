{
 "cells": [
  {
   "cell_type": "code",
   "execution_count": 20,
   "metadata": {},
   "outputs": [
    {
     "data": {
      "image/png": "[encoded data removed]",
      "text/plain": [
       "<Figure size 640x480 with 1 Axes>"
      ]
     },
     "metadata": {},
     "output_type": "display_data"
    },
    {
     "name": "stdout",
     "output_type": "stream",
     "text": [
      "Fraction of estimates below true slope (b=0.8): 0.63\n",
      "The fact that 63% of estimates are below the true value means that the estimates are not perfectly centered around 0.8; however, they generally tend to cluster around this value. This shows that while the OLS estimator is reliable, it still exhibits variability due to the random nature of the process.\n"
     ]
    }
   ],
   "source": [
    "#1 Generate a random sample following AR1 process\n",
    "\n",
    "import numpy as np\n",
    "import statsmodels.api as sm\n",
    "import matplotlib.pyplot as plt\n",
    "\n",
    "#Parameters \n",
    "X0 = 1\n",
    "a = 2\n",
    "b = 0.8\n",
    "V = 1 #variance\n",
    "n_obs = 400\n",
    "n_simulations = 301\n",
    "\n",
    "np.random.seed(123)\n",
    "\n",
    "# Function to run an AR(1)\n",
    "def ar1_process(n, a, b, X0, V):\n",
    "    X = [X0] #making a list that we can append easily\n",
    "    u = np.random.normal(0, np.sqrt(V), n) #random erros with mean 0 and std dev \n",
    "    for t in range(n):\n",
    "        X_t = a + b * X[-1] + u[t] #x[-1] takes the most recent obs added to X\n",
    "        X.append(X_t)\n",
    "    return np.array(X[1:]) #exclude X0 - includes only the generated values of X\n",
    "\n",
    "#Function to estimate slope from the AR(1)\n",
    "def estimate_slope(X):\n",
    "    X_sample = X[-200:] #keep only last 200 obs\n",
    "\n",
    "    X_lag = X_sample[:-1] #All except last one\n",
    "    X_current = X_sample[1:] #All except first one\n",
    "\n",
    "    X_lag = sm.add_constant(X_lag) #add constant to the lagged values for the intercept term\n",
    "    model = sm.OLS(X_current, X_lag).fit()\n",
    "    return model.params[1] #return the slope coeff\n",
    "\n",
    "\n",
    "#Monte Carlo Simulation\n",
    "slope_estimates = [] #empty list to store estimates\n",
    "\n",
    "#Loop through each simulation\n",
    "for _ in range(n_simulations):\n",
    "    X = ar1_process(n_obs, a, b, X0, V) #gen AR(1)\n",
    "    b_hat = estimate_slope(X) #Estimate the slope\n",
    "    slope_estimates.append(b_hat) #append the estimate to the list\n",
    "\n",
    "slope_estimates = np.array(slope_estimates) #convert to numpy array\n",
    "\n",
    "plt.hist(slope_estimates, bins=30, edgecolor='black')\n",
    "plt.axvline(b, color = 'red', label = \"True Value (b = 0.8)\")\n",
    "plt.title('Distribution of OLS Slope Estimates (b-hat)')\n",
    "plt.xlabel('Slope Estimate')\n",
    "plt.ylabel('Frequency')\n",
    "plt.legend()\n",
    "plt.show()\n",
    "\n",
    "fraction_below_08 = np.mean(slope_estimates < b)\n",
    "print(f\"Fraction of estimates below true slope (b=0.8): {fraction_below_08:.2f}\")"
   ]
  },
  {
   "cell_type": "markdown",
   "metadata": {},
   "source": [
    "We see that 63% of estimates are below the true value, meaning estimates are not perfectly centered around 0.8; however, they do seem to generally cluster around the true slope, indicating the estimator is generally unbiased, but it exhibits some variability.\n"
   ]
  },
  {
   "cell_type": "code",
   "execution_count": 4,
   "metadata": {},
   "outputs": [
    {
     "name": "stdout",
     "output_type": "stream",
     "text": [
      "Estimate of a: 0.70834546336437\n",
      "Estimate of b: -0.11541745953966653\n",
      "Estimate of W (variance of residuals): 0.9595826799504402\n",
      "Impulse Response Function (for 1 to 5 periods): [1, 0.70834546336437, 0.3863358359292175, 0.19190380285757924, 0.091344287444453]\n",
      "95% CI for period 1: [1.000, 1.000]\n",
      "95% CI for period 2: [0.578, 0.844]\n",
      "95% CI for period 3: [0.249, 0.554]\n",
      "95% CI for period 4: [0.043, 0.369]\n",
      "95% CI for period 5: [-0.034, 0.250]\n"
     ]
    }
   ],
   "source": [
    "#Q2 \n",
    "\n",
    "import numpy as np\n",
    "import pandas as pd\n",
    "import statsmodels.api as sm\n",
    "\n",
    "# Load the data\n",
    "data = np.loadtxt('/Users/spencerlove/Library/CloudStorage/OneDrive-TheUniversityofWesternOntario/MFE_Python/MFEcodonomics/Data/exdata.txt')\n",
    "\n",
    "# Prepare the data for AR(2) model without the constant\n",
    "X_t2 = data[2:]  # X_{t+2}\n",
    "X_t1 = data[1:-1]  # X_{t+1}\n",
    "X_t = data[:-2]  # X_t\n",
    "\n",
    "# Stack X_t1 and X_t to create the predictor matrix (no constant)\n",
    "X = np.column_stack((X_t1, X_t))\n",
    "\n",
    "# Fit the OLS model without the intercept\n",
    "model = sm.OLS(X_t2, X).fit()\n",
    "a, b = model.params[0], model.params[1]\n",
    "W = model.mse_resid\n",
    "\n",
    "# Display the OLS estimates\n",
    "print(f'Estimate of a: {a}')\n",
    "print(f'Estimate of b: {b}')\n",
    "print(f'Estimate of W (variance of residuals): {W}')\n",
    "\n",
    "# Calculate the impulse response function for 5 periods after a unit shock\n",
    "impulse_response = [1, a, a**2 + b, a**3 + 2*a*b, a**4 + 3*a**2*b + b**2]\n",
    "print(\"Impulse Response Function (for 1 to 5 periods):\", impulse_response)\n",
    "\n",
    "# Parametric bootstrap for confidence intervals\n",
    "np.random.seed(0)  # For reproducibility\n",
    "n_bootstraps = 1000\n",
    "bootstrap_estimates = np.zeros((n_bootstraps, 5))\n",
    "\n",
    "for i in range(n_bootstraps):\n",
    "    # Generate bootstrapped residuals and new response variable\n",
    "    boot_residuals = np.random.normal(0, np.sqrt(W), size=len(X_t2))\n",
    "    X_t2_boot = model.predict(X) + boot_residuals\n",
    "    \n",
    "    # Fit the model on the bootstrapped data without intercept\n",
    "    boot_model = sm.OLS(X_t2_boot, X).fit()\n",
    "    a_boot, b_boot = boot_model.params[0], boot_model.params[1]\n",
    "    \n",
    "    # Calculate impulse responses for bootstrapped estimates\n",
    "    irf_boot = [\n",
    "        1,\n",
    "        a_boot,\n",
    "        a_boot**2 + b_boot,\n",
    "        a_boot**3 + 2*a_boot*b_boot,\n",
    "        a_boot**4 + 3*a_boot**2*b_boot + b_boot**2\n",
    "    ]\n",
    "    \n",
    "    bootstrap_estimates[i, :] = irf_boot\n",
    "\n",
    "# Calculate 95% confidence intervals\n",
    "ci_lower = np.percentile(bootstrap_estimates, 2.5, axis=0)\n",
    "ci_upper = np.percentile(bootstrap_estimates, 97.5, axis=0)\n",
    "\n",
    "# Display the confidence intervals\n",
    "for period in range(5):\n",
    "    print(f\"95% CI for period {period + 1}: [{ci_lower[period]:.3f}, {ci_upper[period]:.3f}]\")"
   ]
  }
 ],
 "metadata": {
  "kernelspec": {
   "display_name": "mfe2024",
   "language": "python",
   "name": "python3"
  },
  "language_info": {
   "codemirror_mode": {
    "name": "ipython",
    "version": 3
   },
   "file_extension": ".py",
   "mimetype": "text/x-python",
   "name": "python",
   "nbconvert_exporter": "python",
   "pygments_lexer": "ipython3",
   "version": "3.12.5"
  }
 },
 "nbformat": 4,
 "nbformat_minor": 2
}
