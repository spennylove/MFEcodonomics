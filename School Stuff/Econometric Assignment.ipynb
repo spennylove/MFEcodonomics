{
 "cells": [
  {
   "cell_type": "code",
   "execution_count": 9,
   "metadata": {},
   "outputs": [
    {
     "data": {
      "text/html": [
       "<div>\n",
       "<style scoped>\n",
       "    .dataframe tbody tr th:only-of-type {\n",
       "        vertical-align: middle;\n",
       "    }\n",
       "\n",
       "    .dataframe tbody tr th {\n",
       "        vertical-align: top;\n",
       "    }\n",
       "\n",
       "    .dataframe thead th {\n",
       "        text-align: right;\n",
       "    }\n",
       "</style>\n",
       "<table border=\"1\" class=\"dataframe\">\n",
       "  <thead>\n",
       "    <tr style=\"text-align: right;\">\n",
       "      <th></th>\n",
       "      <th>Age</th>\n",
       "      <th>TotalIncome</th>\n",
       "      <th>TotalAssets</th>\n",
       "      <th>TotalDebt</th>\n",
       "      <th>StocksDirect</th>\n",
       "      <th>StocksRetire</th>\n",
       "      <th>Entrepreneur</th>\n",
       "    </tr>\n",
       "  </thead>\n",
       "  <tbody>\n",
       "    <tr>\n",
       "      <th>0</th>\n",
       "      <td>70</td>\n",
       "      <td>35900</td>\n",
       "      <td>957100.0</td>\n",
       "      <td>195000</td>\n",
       "      <td>0</td>\n",
       "      <td>49000.0</td>\n",
       "      <td>0</td>\n",
       "    </tr>\n",
       "    <tr>\n",
       "      <th>1</th>\n",
       "      <td>70</td>\n",
       "      <td>35400</td>\n",
       "      <td>1067300.0</td>\n",
       "      <td>213000</td>\n",
       "      <td>0</td>\n",
       "      <td>177000.0</td>\n",
       "      <td>0</td>\n",
       "    </tr>\n",
       "    <tr>\n",
       "      <th>2</th>\n",
       "      <td>70</td>\n",
       "      <td>33400</td>\n",
       "      <td>957200.0</td>\n",
       "      <td>279000</td>\n",
       "      <td>0</td>\n",
       "      <td>42500.0</td>\n",
       "      <td>0</td>\n",
       "    </tr>\n",
       "    <tr>\n",
       "      <th>3</th>\n",
       "      <td>70</td>\n",
       "      <td>31000</td>\n",
       "      <td>828600.0</td>\n",
       "      <td>549000</td>\n",
       "      <td>0</td>\n",
       "      <td>42000.0</td>\n",
       "      <td>0</td>\n",
       "    </tr>\n",
       "    <tr>\n",
       "      <th>4</th>\n",
       "      <td>70</td>\n",
       "      <td>32900</td>\n",
       "      <td>825600.0</td>\n",
       "      <td>223000</td>\n",
       "      <td>0</td>\n",
       "      <td>27000.0</td>\n",
       "      <td>0</td>\n",
       "    </tr>\n",
       "    <tr>\n",
       "      <th>...</th>\n",
       "      <td>...</td>\n",
       "      <td>...</td>\n",
       "      <td>...</td>\n",
       "      <td>...</td>\n",
       "      <td>...</td>\n",
       "      <td>...</td>\n",
       "      <td>...</td>\n",
       "    </tr>\n",
       "    <tr>\n",
       "      <th>22970</th>\n",
       "      <td>40</td>\n",
       "      <td>36000</td>\n",
       "      <td>0.0</td>\n",
       "      <td>0</td>\n",
       "      <td>0</td>\n",
       "      <td>0.0</td>\n",
       "      <td>0</td>\n",
       "    </tr>\n",
       "    <tr>\n",
       "      <th>22971</th>\n",
       "      <td>40</td>\n",
       "      <td>31000</td>\n",
       "      <td>0.0</td>\n",
       "      <td>0</td>\n",
       "      <td>0</td>\n",
       "      <td>0.0</td>\n",
       "      <td>0</td>\n",
       "    </tr>\n",
       "    <tr>\n",
       "      <th>22972</th>\n",
       "      <td>40</td>\n",
       "      <td>36000</td>\n",
       "      <td>0.0</td>\n",
       "      <td>0</td>\n",
       "      <td>0</td>\n",
       "      <td>0.0</td>\n",
       "      <td>0</td>\n",
       "    </tr>\n",
       "    <tr>\n",
       "      <th>22973</th>\n",
       "      <td>40</td>\n",
       "      <td>36000</td>\n",
       "      <td>0.0</td>\n",
       "      <td>0</td>\n",
       "      <td>0</td>\n",
       "      <td>0.0</td>\n",
       "      <td>0</td>\n",
       "    </tr>\n",
       "    <tr>\n",
       "      <th>22974</th>\n",
       "      <td>40</td>\n",
       "      <td>33000</td>\n",
       "      <td>0.0</td>\n",
       "      <td>0</td>\n",
       "      <td>0</td>\n",
       "      <td>0.0</td>\n",
       "      <td>0</td>\n",
       "    </tr>\n",
       "  </tbody>\n",
       "</table>\n",
       "<p>22975 rows × 7 columns</p>\n",
       "</div>"
      ],
      "text/plain": [
       "       Age  TotalIncome  TotalAssets  TotalDebt  StocksDirect  StocksRetire  \\\n",
       "0       70        35900     957100.0     195000             0       49000.0   \n",
       "1       70        35400    1067300.0     213000             0      177000.0   \n",
       "2       70        33400     957200.0     279000             0       42500.0   \n",
       "3       70        31000     828600.0     549000             0       42000.0   \n",
       "4       70        32900     825600.0     223000             0       27000.0   \n",
       "...    ...          ...          ...        ...           ...           ...   \n",
       "22970   40        36000          0.0          0             0           0.0   \n",
       "22971   40        31000          0.0          0             0           0.0   \n",
       "22972   40        36000          0.0          0             0           0.0   \n",
       "22973   40        36000          0.0          0             0           0.0   \n",
       "22974   40        33000          0.0          0             0           0.0   \n",
       "\n",
       "       Entrepreneur  \n",
       "0                 0  \n",
       "1                 0  \n",
       "2                 0  \n",
       "3                 0  \n",
       "4                 0  \n",
       "...             ...  \n",
       "22970             0  \n",
       "22971             0  \n",
       "22972             0  \n",
       "22973             0  \n",
       "22974             0  \n",
       "\n",
       "[22975 rows x 7 columns]"
      ]
     },
     "execution_count": 9,
     "metadata": {},
     "output_type": "execute_result"
    }
   ],
   "source": [
    "import pandas as pd\n",
    "data = pd.read_excel(\"/Users/spencerlove/Library/CloudStorage/OneDrive-TheUniversityofWesternOntario/MFE_Python/MFEcodonomics/Data/SCFHouseholdData_2022.xlsx\")\n",
    "data"
   ]
  },
  {
   "cell_type": "code",
   "execution_count": 10,
   "metadata": {},
   "outputs": [
    {
     "data": {
      "text/plain": [
       "360642.9331882481"
      ]
     },
     "execution_count": 10,
     "metadata": {},
     "output_type": "execute_result"
    }
   ],
   "source": [
    "mean_debt = data[\"TotalDebt\"].mean()\n",
    "mean_debt"
   ]
  },
  {
   "cell_type": "code",
   "execution_count": 11,
   "metadata": {},
   "outputs": [
    {
     "name": "stdout",
     "output_type": "stream",
     "text": [
      "Rows Above Mean Debt: 3715\n",
      "Rows Below Mean Debt: 19260\n"
     ]
    }
   ],
   "source": [
    "above_mean = data[data['TotalDebt'] > mean_debt].copy()\n",
    "print(f\"Rows Above Mean Debt:\", len(above_mean))\n",
    "\n",
    "below_mean = data[data['TotalDebt'] < mean_debt].copy()\n",
    "print(f\"Rows Below Mean Debt:\", len(below_mean))"
   ]
  },
  {
   "cell_type": "code",
   "execution_count": 12,
   "metadata": {},
   "outputs": [],
   "source": [
    "above_mean['Stocks/Assets'] = above_mean['StocksDirect'] / above_mean['TotalAssets']\n",
    "above_mean['All_Stocks/Assets'] = (above_mean['StocksDirect'] + above_mean['StocksRetire']) / above_mean['TotalAssets']\n",
    "\n",
    "below_mean['Stocks/Assets'] = below_mean['StocksDirect'] / below_mean['TotalAssets']\n",
    "below_mean['All_Stocks/Assets'] = (below_mean['StocksDirect'] + below_mean['StocksRetire']) / below_mean['TotalAssets']"
   ]
  },
  {
   "cell_type": "code",
   "execution_count": 13,
   "metadata": {},
   "outputs": [],
   "source": [
    "below_mean = below_mean.fillna(0)\n",
    "above_mean = above_mean.fillna(0)"
   ]
  },
  {
   "cell_type": "code",
   "execution_count": 17,
   "metadata": {},
   "outputs": [
    {
     "data": {
      "image/png": "[encoded data removed]",
      "text/plain": [
       "<Figure size 1400x600 with 2 Axes>"
      ]
     },
     "metadata": {},
     "output_type": "display_data"
    }
   ],
   "source": [
    "import matplotlib.pyplot as plt\n",
    "\n",
    "# Plot histograms comparing the proportions\n",
    "plt.figure(figsize=(14, 6))\n",
    "\n",
    "# Proportion 1 Histogram\n",
    "plt.subplot(1, 2, 1)\n",
    "plt.hist(above_mean['Stocks/Assets'], bins=20, alpha=0.5, label='Above Mean Debt', color='blue', density=True)\n",
    "plt.hist(below_mean['Stocks/Assets'], bins=20, alpha=0.5, label='Below Mean Debt', color='orange', density=True)\n",
    "plt.title('Proportion of StocksDirect / TotalAssets')\n",
    "plt.xlabel('Proportion')\n",
    "plt.ylabel('Percent of Sample (%)')\n",
    "plt.legend()\n",
    "\n",
    "# Proportion 2 Histogram\n",
    "plt.subplot(1, 2, 2)\n",
    "plt.hist(above_mean['All_Stocks/Assets'], bins=20, alpha=0.5, label='Above Mean Debt', color='blue', density=True)\n",
    "plt.hist(below_mean['All_Stocks/Assets'], bins=20, alpha=0.5, label='Below Mean Debt', color='orange', density=True)\n",
    "plt.title('Proportion of (StocksDirect + StocksRetire) / TotalAssets')\n",
    "plt.xlabel('Proportion')\n",
    "plt.ylabel('Percent of Sample (%)')\n",
    "plt.legend()\n",
    "plt.tight_layout()\n",
    "plt.show()"
   ]
  },
  {
   "cell_type": "code",
   "execution_count": 16,
   "metadata": {},
   "outputs": [
    {
     "name": "stdout",
     "output_type": "stream",
     "text": [
      "                            OLS Regression Results                            \n",
      "==============================================================================\n",
      "Dep. Variable:      All_Stocks/Assets   R-squared:                       0.011\n",
      "Model:                            OLS   Adj. R-squared:                  0.011\n",
      "Method:                 Least Squares   F-statistic:                     129.7\n",
      "Date:                Thu, 19 Sep 2024   Prob (F-statistic):           9.42e-57\n",
      "Time:                        10:21:16   Log-Likelihood:                 4054.4\n",
      "No. Observations:               22975   AIC:                            -8103.\n",
      "Df Residuals:                   22972   BIC:                            -8079.\n",
      "Df Model:                           2                                         \n",
      "Covariance Type:            nonrobust                                         \n",
      "================================================================================\n",
      "                   coef    std err          t      P>|t|      [0.025      0.975]\n",
      "--------------------------------------------------------------------------------\n",
      "const            0.1329      0.001     90.927      0.000       0.130       0.136\n",
      "DebtCategory     0.0559      0.004     14.822      0.000       0.048       0.063\n",
      "TotalDebt     1.172e-09   5.45e-10      2.149      0.032    1.03e-10    2.24e-09\n",
      "==============================================================================\n",
      "Omnibus:                     7106.488   Durbin-Watson:                   0.519\n",
      "Prob(Omnibus):                  0.000   Jarque-Bera (JB):            17728.878\n",
      "Skew:                           1.732   Prob(JB):                         0.00\n",
      "Kurtosis:                       5.553   Cond. No.                     7.33e+06\n",
      "==============================================================================\n",
      "\n",
      "Notes:\n",
      "[1] Standard Errors assume that the covariance matrix of the errors is correctly specified.\n",
      "[2] The condition number is large, 7.33e+06. This might indicate that there are\n",
      "strong multicollinearity or other numerical problems.\n"
     ]
    }
   ],
   "source": [
    "import statsmodels.api as sm\n",
    "\n",
    "# Create a binary variable for Above/Below Mean Debt\n",
    "above_mean['DebtCategory'] = 1  # 1 for Above Mean Debt\n",
    "below_mean['DebtCategory'] = 0  # 0 for Below Mean Debt\n",
    "\n",
    "# Combine the two datasets\n",
    "data = pd.concat([above_mean, below_mean])\n",
    "\n",
    "# Define the dependent variable (y) and independent variables (X)\n",
    "y = data['All_Stocks/Assets']  # Dependent variable\n",
    "X = data[['DebtCategory', 'TotalDebt']]  # Independent variables\n",
    "\n",
    "# Add a constant to the independent variables (intercept)\n",
    "X = sm.add_constant(X)\n",
    "\n",
    "# Fit the OLS model\n",
    "model = sm.OLS(y, X).fit()\n",
    "\n",
    "# Print the regression results\n",
    "print(model.summary())\n"
   ]
  },
  {
   "cell_type": "markdown",
   "metadata": {},
   "source": []
  }
 ],
 "metadata": {
  "kernelspec": {
   "display_name": "mfe2024_mac",
   "language": "python",
   "name": "python3"
  },
  "language_info": {
   "codemirror_mode": {
    "name": "ipython",
    "version": 3
   },
   "file_extension": ".py",
   "mimetype": "text/x-python",
   "name": "python",
   "nbconvert_exporter": "python",
   "pygments_lexer": "ipython3",
   "version": "3.12.5"
  }
 },
 "nbformat": 4,
 "nbformat_minor": 2
}
