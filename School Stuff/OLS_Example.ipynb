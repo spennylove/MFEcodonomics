{
 "cells": [
  {
   "cell_type": "code",
   "execution_count": 5,
   "metadata": {},
   "outputs": [
    {
     "data": {
      "text/plain": [
       "Index(['salary', 'age', 'college', 'grad', 'comten', 'ceoten', 'sales',\n",
       "       'profits', 'mktval', 'lsalary', 'lsales', 'lmktval', 'comtensq',\n",
       "       'ceotensq', 'profmarg'],\n",
       "      dtype='object')"
      ]
     },
     "execution_count": 5,
     "metadata": {},
     "output_type": "execute_result"
    }
   ],
   "source": [
    "import numpy as np\n",
    "import pandas as pd\n",
    "import statsmodels.api as sm\n",
    "\n",
    "df = pd.read_excel('/Users/spencerlove/Library/CloudStorage/OneDrive-TheUniversityofWesternOntario/MFE_Python/MFEcodonomics/Data/ceosal2.xls')\n",
    "df.columns\n"
   ]
  },
  {
   "cell_type": "code",
   "execution_count": 9,
   "metadata": {},
   "outputs": [],
   "source": [
    "# Define the dependent variable (CEO salary) and independent variables\n",
    "Y = df['salary']\n",
    "X = df[['comten', 'ceoten', 'sales']]\n",
    "\n",
    "# Add a constant term for the intercept\n",
    "X = sm.add_constant(X)"
   ]
  },
  {
   "cell_type": "code",
   "execution_count": 10,
   "metadata": {},
   "outputs": [
    {
     "name": "stdout",
     "output_type": "stream",
     "text": [
      "                            OLS Regression Results                            \n",
      "==============================================================================\n",
      "Dep. Variable:                 salary   R-squared:                       0.177\n",
      "Model:                            OLS   Adj. R-squared:                  0.163\n",
      "Method:                 Least Squares   F-statistic:                     12.38\n",
      "Date:                Thu, 26 Sep 2024   Prob (F-statistic):           2.24e-07\n",
      "Time:                        10:53:28   Log-Likelihood:                -1362.0\n",
      "No. Observations:                 177   AIC:                             2732.\n",
      "Df Residuals:                     173   BIC:                             2745.\n",
      "Df Model:                           3                                         \n",
      "Covariance Type:            nonrobust                                         \n",
      "==============================================================================\n",
      "                 coef    std err          t      P>|t|      [0.025      0.975]\n",
      "------------------------------------------------------------------------------\n",
      "const        674.1790     89.435      7.538      0.000     497.655     850.703\n",
      "comten        -3.0571      3.505     -0.872      0.384      -9.975       3.861\n",
      "ceoten        15.6269      6.007      2.602      0.010       3.771      27.483\n",
      "sales          0.0386      0.007      5.731      0.000       0.025       0.052\n",
      "==============================================================================\n",
      "Omnibus:                      182.720   Durbin-Watson:                   1.948\n",
      "Prob(Omnibus):                  0.000   Jarque-Bera (JB):             5769.574\n",
      "Skew:                           3.794   Prob(JB):                         0.00\n",
      "Kurtosis:                      29.921   Cond. No.                     1.55e+04\n",
      "==============================================================================\n",
      "\n",
      "Notes:\n",
      "[1] Standard Errors assume that the covariance matrix of the errors is correctly specified.\n",
      "[2] The condition number is large, 1.55e+04. This might indicate that there are\n",
      "strong multicollinearity or other numerical problems.\n"
     ]
    }
   ],
   "source": [
    "# Run the OLS regression\n",
    "model = sm.OLS(Y, X)\n",
    "results = model.fit()\n",
    "\n",
    "# Display the summary of the regression\n",
    "print(results.summary())"
   ]
  },
  {
   "cell_type": "code",
   "execution_count": 16,
   "metadata": {},
   "outputs": [
    {
     "data": {
      "text/html": [
       "<div>\n",
       "<style scoped>\n",
       "    .dataframe tbody tr th:only-of-type {\n",
       "        vertical-align: middle;\n",
       "    }\n",
       "\n",
       "    .dataframe tbody tr th {\n",
       "        vertical-align: top;\n",
       "    }\n",
       "\n",
       "    .dataframe thead th {\n",
       "        text-align: right;\n",
       "    }\n",
       "</style>\n",
       "<table border=\"1\" class=\"dataframe\">\n",
       "  <thead>\n",
       "    <tr style=\"text-align: right;\">\n",
       "      <th></th>\n",
       "      <th>Coefficient</th>\n",
       "      <th>Standard Error</th>\n",
       "      <th>95% CI Lower</th>\n",
       "      <th>95% CI Upper</th>\n",
       "    </tr>\n",
       "  </thead>\n",
       "  <tbody>\n",
       "    <tr>\n",
       "      <th>const</th>\n",
       "      <td>674.178959</td>\n",
       "      <td>89.434836</td>\n",
       "      <td>497.655043</td>\n",
       "      <td>850.702876</td>\n",
       "    </tr>\n",
       "    <tr>\n",
       "      <th>comten</th>\n",
       "      <td>-3.057121</td>\n",
       "      <td>3.504801</td>\n",
       "      <td>-9.974795</td>\n",
       "      <td>3.860554</td>\n",
       "    </tr>\n",
       "    <tr>\n",
       "      <th>ceoten</th>\n",
       "      <td>15.626927</td>\n",
       "      <td>6.006818</td>\n",
       "      <td>3.770841</td>\n",
       "      <td>27.483012</td>\n",
       "    </tr>\n",
       "    <tr>\n",
       "      <th>sales</th>\n",
       "      <td>0.038581</td>\n",
       "      <td>0.006732</td>\n",
       "      <td>0.025293</td>\n",
       "      <td>0.051869</td>\n",
       "    </tr>\n",
       "  </tbody>\n",
       "</table>\n",
       "</div>"
      ],
      "text/plain": [
       "        Coefficient  Standard Error  95% CI Lower  95% CI Upper\n",
       "const    674.178959       89.434836    497.655043    850.702876\n",
       "comten    -3.057121        3.504801     -9.974795      3.860554\n",
       "ceoten    15.626927        6.006818      3.770841     27.483012\n",
       "sales      0.038581        0.006732      0.025293      0.051869"
      ]
     },
     "execution_count": 16,
     "metadata": {},
     "output_type": "execute_result"
    }
   ],
   "source": [
    "# Extract coefficient estimates\n",
    "coefficients = results.params\n",
    "\n",
    "# Extract standard errors\n",
    "standard_errors = results.bse\n",
    "\n",
    "# Extract 95% confidence intervals\n",
    "confidence_intervals = results.conf_int(alpha=0.05)\n",
    "\n",
    "# Combine everything into a single DataFrame for clarity\n",
    "regression_results = pd.DataFrame({\n",
    "    'Coefficient': coefficients,\n",
    "    'Standard Error': standard_errors,\n",
    "    '95% CI Lower': confidence_intervals[0],\n",
    "    '95% CI Upper': confidence_intervals[1]\n",
    "})\n",
    "\n",
    "# Display the results\n",
    "regression_results"
   ]
  },
  {
   "cell_type": "markdown",
   "metadata": {},
   "source": [
    "# CONLEY's OLS"
   ]
  },
  {
   "cell_type": "code",
   "execution_count": 7,
   "metadata": {},
   "outputs": [],
   "source": [
    "\n",
    "Y = np.array([df['salary'].values])\n",
    "X = np.array([np.ones(len(df)),df['comten'].values,df['ceoten'].values, df['sales'].values])"
   ]
  },
  {
   "cell_type": "code",
   "execution_count": 8,
   "metadata": {},
   "outputs": [
    {
     "ename": "ValueError",
     "evalue": "operands could not be broadcast together with shapes (3,3) (4,4) ",
     "output_type": "error",
     "traceback": [
      "\u001b[0;31m---------------------------------------------------------------------------\u001b[0m",
      "\u001b[0;31mValueError\u001b[0m                                Traceback (most recent call last)",
      "Cell \u001b[0;32mIn[8], line 11\u001b[0m\n\u001b[1;32m      9\u001b[0m \u001b[38;5;28;01mfor\u001b[39;00m jj \u001b[38;5;129;01min\u001b[39;00m \u001b[38;5;28mrange\u001b[39m(\u001b[38;5;28mlen\u001b[39m(df)):\n\u001b[1;32m     10\u001b[0m     littleX \u001b[38;5;241m=\u001b[39m np\u001b[38;5;241m.\u001b[39mmatrix(X[:,jj])\u001b[38;5;241m.\u001b[39mT\n\u001b[0;32m---> 11\u001b[0m     bob \u001b[38;5;241m=\u001b[39m bob \u001b[38;5;241m+\u001b[39m np\u001b[38;5;241m.\u001b[39mdot(littleX,littleX\u001b[38;5;241m.\u001b[39mT)\n\u001b[1;32m     12\u001b[0m result \u001b[38;5;241m=\u001b[39m bob\u001b[38;5;241m/\u001b[39m\u001b[38;5;28mlen\u001b[39m(df) \n\u001b[1;32m     13\u001b[0m check \u001b[38;5;241m=\u001b[39m result \u001b[38;5;241m-\u001b[39m Mxx\n",
      "\u001b[0;31mValueError\u001b[0m: operands could not be broadcast together with shapes (3,3) (4,4) "
     ]
    }
   ],
   "source": [
    "\n",
    "Mxx= np.dot(X,X.T)/len(df)\n",
    "Minv = np.linalg.inv(Mxx)\n",
    "Mxy = np.dot(X,Y.T)/len(df)\n",
    "\n",
    "#OLS estimate of beta:\n",
    "beta = np.dot(Minv,Mxy)\n",
    "# using a loop to compute Mxx\n",
    "bob = np.matrix(np.array([np.zeros((3,3))]))\n",
    "for jj in range(len(df)):\n",
    "    littleX = np.matrix(X[:,jj]).T\n",
    "    bob = bob + np.dot(littleX,littleX.T)\n",
    "result = bob/len(df) \n",
    "check = result - Mxx\n",
    "print(check)\n",
    "\n",
    "#Use statsmodels to get estimates\n",
    "model = sm.OLS(Y.T,X.T)\n",
    "results = model.fit(cov_type='HC0')\n",
    "print(results.summary())\n",
    "print(beta)"
   ]
  }
 ],
 "metadata": {
  "kernelspec": {
   "display_name": "mfe2024_mac",
   "language": "python",
   "name": "python3"
  },
  "language_info": {
   "codemirror_mode": {
    "name": "ipython",
    "version": 3
   },
   "file_extension": ".py",
   "mimetype": "text/x-python",
   "name": "python",
   "nbconvert_exporter": "python",
   "pygments_lexer": "ipython3",
   "version": "3.12.5"
  }
 },
 "nbformat": 4,
 "nbformat_minor": 2
}
