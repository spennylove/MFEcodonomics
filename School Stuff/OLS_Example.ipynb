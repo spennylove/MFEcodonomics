{
 "cells": [
  {
   "cell_type": "code",
   "execution_count": 65,
   "metadata": {},
   "outputs": [],
   "source": [
    "import numpy as np\n",
    "import pandas as pd\n",
    "import statsmodels.api as sm\n",
    "\n",
    "df = pd.read_excel(r'C:\\Users\\slove\\OneDrive - The University of Western Ontario\\MFE_Python\\MFEcodonomics\\Data\\ceosal2.xls')"
   ]
  },
  {
   "cell_type": "code",
   "execution_count": 29,
   "metadata": {},
   "outputs": [
    {
     "name": "stdout",
     "output_type": "stream",
     "text": [
      "                            OLS Regression Results                            \n",
      "==============================================================================\n",
      "Dep. Variable:                 salary   R-squared:                       0.177\n",
      "Model:                            OLS   Adj. R-squared:                  0.163\n",
      "Method:                 Least Squares   F-statistic:                     12.38\n",
      "Date:                Tue, 01 Oct 2024   Prob (F-statistic):           2.24e-07\n",
      "Time:                        20:52:55   Log-Likelihood:                -1362.0\n",
      "No. Observations:                 177   AIC:                             2732.\n",
      "Df Residuals:                     173   BIC:                             2745.\n",
      "Df Model:                           3                                         \n",
      "Covariance Type:            nonrobust                                         \n",
      "==============================================================================\n",
      "                 coef    std err          t      P>|t|      [0.025      0.975]\n",
      "------------------------------------------------------------------------------\n",
      "const        674.1790     89.435      7.538      0.000     497.655     850.703\n",
      "comten        -3.0571      3.505     -0.872      0.384      -9.975       3.861\n",
      "ceoten        15.6269      6.007      2.602      0.010       3.771      27.483\n",
      "sales          0.0386      0.007      5.731      0.000       0.025       0.052\n",
      "==============================================================================\n",
      "Omnibus:                      182.720   Durbin-Watson:                   1.948\n",
      "Prob(Omnibus):                  0.000   Jarque-Bera (JB):             5769.574\n",
      "Skew:                           3.794   Prob(JB):                         0.00\n",
      "Kurtosis:                      29.921   Cond. No.                     1.55e+04\n",
      "==============================================================================\n",
      "\n",
      "Notes:\n",
      "[1] Standard Errors assume that the covariance matrix of the errors is correctly specified.\n",
      "[2] The condition number is large, 1.55e+04. This might indicate that there are\n",
      "strong multicollinearity or other numerical problems.\n"
     ]
    }
   ],
   "source": [
    "# Define the dependent variable (CEO salary) and independent variables\n",
    "Y = df['salary']\n",
    "X = df[['comten', 'ceoten', 'sales']] #years w company, years as CEO, sales\n",
    "\n",
    "# Add a constant term (intercept)\n",
    "X = sm.add_constant(X)\n",
    "\n",
    "# Run the OLS regression\n",
    "model = sm.OLS(Y, X)\n",
    "results = model.fit() #HC0 gives us robust estimates?\n",
    "\n",
    "# Display the summary of the regression\n",
    "print(results.summary())"
   ]
  },
  {
   "cell_type": "code",
   "execution_count": 30,
   "metadata": {},
   "outputs": [
    {
     "data": {
      "text/html": [
       "<div>\n",
       "<style scoped>\n",
       "    .dataframe tbody tr th:only-of-type {\n",
       "        vertical-align: middle;\n",
       "    }\n",
       "\n",
       "    .dataframe tbody tr th {\n",
       "        vertical-align: top;\n",
       "    }\n",
       "\n",
       "    .dataframe thead th {\n",
       "        text-align: right;\n",
       "    }\n",
       "</style>\n",
       "<table border=\"1\" class=\"dataframe\">\n",
       "  <thead>\n",
       "    <tr style=\"text-align: right;\">\n",
       "      <th></th>\n",
       "      <th>Coefficient</th>\n",
       "      <th>Standard Error</th>\n",
       "      <th>95% CI Lower</th>\n",
       "      <th>95% CI Upper</th>\n",
       "    </tr>\n",
       "  </thead>\n",
       "  <tbody>\n",
       "    <tr>\n",
       "      <th>const</th>\n",
       "      <td>674.178959</td>\n",
       "      <td>89.434836</td>\n",
       "      <td>497.655043</td>\n",
       "      <td>850.702876</td>\n",
       "    </tr>\n",
       "    <tr>\n",
       "      <th>comten</th>\n",
       "      <td>-3.057121</td>\n",
       "      <td>3.504801</td>\n",
       "      <td>-9.974795</td>\n",
       "      <td>3.860554</td>\n",
       "    </tr>\n",
       "    <tr>\n",
       "      <th>ceoten</th>\n",
       "      <td>15.626927</td>\n",
       "      <td>6.006818</td>\n",
       "      <td>3.770841</td>\n",
       "      <td>27.483012</td>\n",
       "    </tr>\n",
       "    <tr>\n",
       "      <th>sales</th>\n",
       "      <td>0.038581</td>\n",
       "      <td>0.006732</td>\n",
       "      <td>0.025293</td>\n",
       "      <td>0.051869</td>\n",
       "    </tr>\n",
       "  </tbody>\n",
       "</table>\n",
       "</div>"
      ],
      "text/plain": [
       "        Coefficient  Standard Error  95% CI Lower  95% CI Upper\n",
       "const    674.178959       89.434836    497.655043    850.702876\n",
       "comten    -3.057121        3.504801     -9.974795      3.860554\n",
       "ceoten    15.626927        6.006818      3.770841     27.483012\n",
       "sales      0.038581        0.006732      0.025293      0.051869"
      ]
     },
     "execution_count": 30,
     "metadata": {},
     "output_type": "execute_result"
    }
   ],
   "source": [
    "# Extract coefficient estimates\n",
    "coefficients = results.params\n",
    "\n",
    "# Extract standard errors\n",
    "standard_errors = results.bse\n",
    "\n",
    "# Extract 95% confidence intervals\n",
    "confidence_intervals = results.conf_int(alpha=0.05)\n",
    "\n",
    "# Combine everything into a single DataFrame for clarity\n",
    "regression_results = pd.DataFrame({\n",
    "    'Coefficient': coefficients,\n",
    "    'Standard Error': standard_errors,\n",
    "    '95% CI Lower': confidence_intervals[0],\n",
    "    '95% CI Upper': confidence_intervals[1]\n",
    "})\n",
    "\n",
    "# Display the results\n",
    "regression_results"
   ]
  },
  {
   "cell_type": "markdown",
   "metadata": {},
   "source": [
    "**Theory A** suggests that a CEO’s overall time with the company should increase their salary: \n",
    "- Regression shows that `comten` has a negative, and statistically insignificant effect (-3.06, p-value = 0.384). \n",
    "- Results **do not support Theory A**, no evidence time with company meaningfully impacts CEO salary. \n",
    "\n",
    "**Theory B** proposes that only time as CEO matters:\n",
    "- While regression shows that `ceoten` significantly increases salary (15.63, p-value = 0.01), `sales` also have a strong positive effect (0.0386, p-value = 0). \n",
    "- Thus, the evidence **partially supports Theory B**, as both CEO tenure and sales are important factors."
   ]
  },
  {
   "cell_type": "markdown",
   "metadata": {},
   "source": [
    "# 2. "
   ]
  },
  {
   "cell_type": "code",
   "execution_count": 72,
   "metadata": {},
   "outputs": [],
   "source": [
    "# Load the dataset from the CAPM worksheet\n",
    "df = pd.read_excel(r'C:\\Users\\slove\\OneDrive - The University of Western Ontario\\MFE_Python\\MFEcodonomics\\Data\\capm.xls')"
   ]
  },
  {
   "cell_type": "code",
   "execution_count": 67,
   "metadata": {},
   "outputs": [],
   "source": [
    "start_date = 1990.01\n",
    "end_date = 1994.12\n",
    "\n",
    "fav = df[(df[' DATE '] >= start_date) & (df[' DATE '] <= end_date)]\n",
    "fav = fav.iloc[:,[0, 1, 2, 5]] #using IBM as selected stock\n",
    "\n",
    "#construct excess returns\n",
    "fav['excess_IBM'] = fav['IBM'] - fav['Risk Free Proxy (30 day T-Bills)']\n",
    "fav['excess_mkt'] = fav['Market Return Proxy (Value Weighted NYSE,NASDAQ,AMEX)'] - fav['Risk Free Proxy (30 day T-Bills)']"
   ]
  },
  {
   "cell_type": "code",
   "execution_count": 71,
   "metadata": {},
   "outputs": [
    {
     "name": "stdout",
     "output_type": "stream",
     "text": [
      "                            OLS Regression Results                            \n",
      "==============================================================================\n",
      "Dep. Variable:             excess_IBM   R-squared:                       0.044\n",
      "Model:                            OLS   Adj. R-squared:                  0.027\n",
      "Method:                 Least Squares   F-statistic:                     2.665\n",
      "Date:                Tue, 01 Oct 2024   Prob (F-statistic):              0.108\n",
      "Time:                        23:32:27   Log-Likelihood:                 70.207\n",
      "No. Observations:                  60   AIC:                            -136.4\n",
      "Df Residuals:                      58   BIC:                            -132.2\n",
      "Df Model:                           1                                         \n",
      "Covariance Type:            nonrobust                                         \n",
      "==============================================================================\n",
      "                 coef    std err          t      P>|t|      [0.025      0.975]\n",
      "------------------------------------------------------------------------------\n",
      "const         -0.0033      0.010     -0.336      0.738      -0.023       0.017\n",
      "excess_mkt     0.4514      0.277      1.633      0.108      -0.102       1.005\n",
      "==============================================================================\n",
      "Omnibus:                        9.388   Durbin-Watson:                   1.861\n",
      "Prob(Omnibus):                  0.009   Jarque-Bera (JB):               10.328\n",
      "Skew:                          -0.670   Prob(JB):                      0.00572\n",
      "Kurtosis:                       4.529   Cond. No.                         28.0\n",
      "==============================================================================\n",
      "\n",
      "Notes:\n",
      "[1] Standard Errors assume that the covariance matrix of the errors is correctly specified.\n"
     ]
    }
   ],
   "source": [
    "#CAPM\n",
    "Y = fav['excess_IBM']\n",
    "X = fav['excess_mkt']\n",
    "\n",
    "X = sm.add_constant(X) # add the alpha (intercept)\n",
    "\n",
    "model = sm.OLS(Y, X)\n",
    "results = model.fit()\n",
    "print(results.summary())"
   ]
  },
  {
   "cell_type": "markdown",
   "metadata": {},
   "source": [
    "**b.**\n",
    "- **β = 0.4514** \n",
    "- Suggests IBM's excess returns moves less than the markets, about 45.1% as much. \n",
    "- But p-value = 0.108 implies this relationship may not be statistically significant (at 5% level). \n",
    "- 95% CI = [-0.102, 1.005], which includes zero, reinforcing lack of significance.\n",
    "\n",
    "**c.** When market excess return = 0, excess return for IBM is **α = -0.0033**\n",
    "- With p-value = 0.738 (not statistically significant), and **95% CI = [-0.023, 0.017]**. \n",
    "- Since this interval includes zero, we cannot be confident that IBM's excess return differs from zero when the market’s excess return is zero.\n",
    "\n",
    "**d.** The **R-squared = 0.044**, meaning only 4.4% of the variation in IBM’s excess returns is explained by the market's excess returns, indicating that the majority of the variation is due to other factors."
   ]
  }
 ],
 "metadata": {
  "kernelspec": {
   "display_name": "mfe2024_mac",
   "language": "python",
   "name": "python3"
  },
  "language_info": {
   "codemirror_mode": {
    "name": "ipython",
    "version": 3
   },
   "file_extension": ".py",
   "mimetype": "text/x-python",
   "name": "python",
   "nbconvert_exporter": "python",
   "pygments_lexer": "ipython3",
   "version": "3.12.5"
  }
 },
 "nbformat": 4,
 "nbformat_minor": 2
}
