{
 "cells": [
  {
   "cell_type": "code",
   "execution_count": 1,
   "metadata": {},
   "outputs": [],
   "source": [
    "import yfinance as yf\n",
    "import pandas as pd\n",
    "import numpy as np"
   ]
  },
  {
   "cell_type": "code",
   "execution_count": 2,
   "metadata": {},
   "outputs": [
    {
     "name": "stderr",
     "output_type": "stream",
     "text": [
      "[*********************100%***********************]  1 of 1 completed\n"
     ]
    },
    {
     "data": {
      "text/html": [
       "<div>\n",
       "<style scoped>\n",
       "    .dataframe tbody tr th:only-of-type {\n",
       "        vertical-align: middle;\n",
       "    }\n",
       "\n",
       "    .dataframe tbody tr th {\n",
       "        vertical-align: top;\n",
       "    }\n",
       "\n",
       "    .dataframe thead th {\n",
       "        text-align: right;\n",
       "    }\n",
       "</style>\n",
       "<table border=\"1\" class=\"dataframe\">\n",
       "  <thead>\n",
       "    <tr style=\"text-align: right;\">\n",
       "      <th></th>\n",
       "      <th>Open</th>\n",
       "      <th>High</th>\n",
       "      <th>Low</th>\n",
       "      <th>Close</th>\n",
       "      <th>Adj Close</th>\n",
       "      <th>Volume</th>\n",
       "    </tr>\n",
       "    <tr>\n",
       "      <th>Date</th>\n",
       "      <th></th>\n",
       "      <th></th>\n",
       "      <th></th>\n",
       "      <th></th>\n",
       "      <th></th>\n",
       "      <th></th>\n",
       "    </tr>\n",
       "  </thead>\n",
       "  <tbody>\n",
       "    <tr>\n",
       "      <th>1972-06-01</th>\n",
       "      <td>0.000000</td>\n",
       "      <td>2.173495</td>\n",
       "      <td>2.149165</td>\n",
       "      <td>2.153220</td>\n",
       "      <td>0.229151</td>\n",
       "      <td>1091238</td>\n",
       "    </tr>\n",
       "    <tr>\n",
       "      <th>1972-06-02</th>\n",
       "      <td>2.153220</td>\n",
       "      <td>2.173495</td>\n",
       "      <td>2.141055</td>\n",
       "      <td>2.149165</td>\n",
       "      <td>0.228719</td>\n",
       "      <td>1174468</td>\n",
       "    </tr>\n",
       "    <tr>\n",
       "      <th>1972-06-05</th>\n",
       "      <td>2.149165</td>\n",
       "      <td>2.169440</td>\n",
       "      <td>2.141055</td>\n",
       "      <td>2.149165</td>\n",
       "      <td>0.228719</td>\n",
       "      <td>5209582</td>\n",
       "    </tr>\n",
       "    <tr>\n",
       "      <th>1972-06-06</th>\n",
       "      <td>2.149165</td>\n",
       "      <td>2.157275</td>\n",
       "      <td>2.116725</td>\n",
       "      <td>2.124835</td>\n",
       "      <td>0.226130</td>\n",
       "      <td>1424158</td>\n",
       "    </tr>\n",
       "    <tr>\n",
       "      <th>1972-06-07</th>\n",
       "      <td>2.124835</td>\n",
       "      <td>2.137000</td>\n",
       "      <td>2.112670</td>\n",
       "      <td>2.112670</td>\n",
       "      <td>0.224835</td>\n",
       "      <td>675088</td>\n",
       "    </tr>\n",
       "    <tr>\n",
       "      <th>...</th>\n",
       "      <td>...</td>\n",
       "      <td>...</td>\n",
       "      <td>...</td>\n",
       "      <td>...</td>\n",
       "      <td>...</td>\n",
       "      <td>...</td>\n",
       "    </tr>\n",
       "    <tr>\n",
       "      <th>2024-08-26</th>\n",
       "      <td>11.320000</td>\n",
       "      <td>11.370000</td>\n",
       "      <td>11.070000</td>\n",
       "      <td>11.110000</td>\n",
       "      <td>11.110000</td>\n",
       "      <td>53070300</td>\n",
       "    </tr>\n",
       "    <tr>\n",
       "      <th>2024-08-27</th>\n",
       "      <td>11.120000</td>\n",
       "      <td>11.220000</td>\n",
       "      <td>10.990000</td>\n",
       "      <td>11.140000</td>\n",
       "      <td>11.140000</td>\n",
       "      <td>44841000</td>\n",
       "    </tr>\n",
       "    <tr>\n",
       "      <th>2024-08-28</th>\n",
       "      <td>11.100000</td>\n",
       "      <td>11.190000</td>\n",
       "      <td>10.980000</td>\n",
       "      <td>11.040000</td>\n",
       "      <td>11.040000</td>\n",
       "      <td>35442200</td>\n",
       "    </tr>\n",
       "    <tr>\n",
       "      <th>2024-08-29</th>\n",
       "      <td>11.020000</td>\n",
       "      <td>11.200000</td>\n",
       "      <td>10.990000</td>\n",
       "      <td>11.110000</td>\n",
       "      <td>11.110000</td>\n",
       "      <td>44989200</td>\n",
       "    </tr>\n",
       "    <tr>\n",
       "      <th>2024-08-30</th>\n",
       "      <td>11.150000</td>\n",
       "      <td>11.230000</td>\n",
       "      <td>11.060000</td>\n",
       "      <td>11.190000</td>\n",
       "      <td>11.190000</td>\n",
       "      <td>44977100</td>\n",
       "    </tr>\n",
       "  </tbody>\n",
       "</table>\n",
       "<p>13175 rows × 6 columns</p>\n",
       "</div>"
      ],
      "text/plain": [
       "                 Open       High        Low      Close  Adj Close    Volume\n",
       "Date                                                                       \n",
       "1972-06-01   0.000000   2.173495   2.149165   2.153220   0.229151   1091238\n",
       "1972-06-02   2.153220   2.173495   2.141055   2.149165   0.228719   1174468\n",
       "1972-06-05   2.149165   2.169440   2.141055   2.149165   0.228719   5209582\n",
       "1972-06-06   2.149165   2.157275   2.116725   2.124835   0.226130   1424158\n",
       "1972-06-07   2.124835   2.137000   2.112670   2.112670   0.224835    675088\n",
       "...               ...        ...        ...        ...        ...       ...\n",
       "2024-08-26  11.320000  11.370000  11.070000  11.110000  11.110000  53070300\n",
       "2024-08-27  11.120000  11.220000  10.990000  11.140000  11.140000  44841000\n",
       "2024-08-28  11.100000  11.190000  10.980000  11.040000  11.040000  35442200\n",
       "2024-08-29  11.020000  11.200000  10.990000  11.110000  11.110000  44989200\n",
       "2024-08-30  11.150000  11.230000  11.060000  11.190000  11.190000  44977100\n",
       "\n",
       "[13175 rows x 6 columns]"
      ]
     },
     "execution_count": 2,
     "metadata": {},
     "output_type": "execute_result"
    }
   ],
   "source": [
    "ford = yf.download(\"F\", start='1924-09-01',end='2024-09-01') #1972-06-01 to 2024-08-30\n",
    "ford"
   ]
  },
  {
   "cell_type": "code",
   "execution_count": 3,
   "metadata": {},
   "outputs": [
    {
     "data": {
      "text/html": [
       "<div>\n",
       "<style scoped>\n",
       "    .dataframe tbody tr th:only-of-type {\n",
       "        vertical-align: middle;\n",
       "    }\n",
       "\n",
       "    .dataframe tbody tr th {\n",
       "        vertical-align: top;\n",
       "    }\n",
       "\n",
       "    .dataframe thead th {\n",
       "        text-align: right;\n",
       "    }\n",
       "</style>\n",
       "<table border=\"1\" class=\"dataframe\">\n",
       "  <thead>\n",
       "    <tr style=\"text-align: right;\">\n",
       "      <th></th>\n",
       "      <th>Open</th>\n",
       "      <th>High</th>\n",
       "      <th>Low</th>\n",
       "      <th>Close</th>\n",
       "      <th>Adj Close</th>\n",
       "      <th>Volume</th>\n",
       "      <th>Daily Returns</th>\n",
       "      <th>Log Daily Returns</th>\n",
       "    </tr>\n",
       "    <tr>\n",
       "      <th>Date</th>\n",
       "      <th></th>\n",
       "      <th></th>\n",
       "      <th></th>\n",
       "      <th></th>\n",
       "      <th></th>\n",
       "      <th></th>\n",
       "      <th></th>\n",
       "      <th></th>\n",
       "    </tr>\n",
       "  </thead>\n",
       "  <tbody>\n",
       "    <tr>\n",
       "      <th>1972-06-01</th>\n",
       "      <td>0.000000</td>\n",
       "      <td>2.173495</td>\n",
       "      <td>2.149165</td>\n",
       "      <td>2.153220</td>\n",
       "      <td>0.229151</td>\n",
       "      <td>1091238</td>\n",
       "      <td>-0.001883</td>\n",
       "      <td>-0.001885</td>\n",
       "    </tr>\n",
       "    <tr>\n",
       "      <th>1972-06-02</th>\n",
       "      <td>2.153220</td>\n",
       "      <td>2.173495</td>\n",
       "      <td>2.141055</td>\n",
       "      <td>2.149165</td>\n",
       "      <td>0.228719</td>\n",
       "      <td>1174468</td>\n",
       "      <td>0.000000</td>\n",
       "      <td>0.000000</td>\n",
       "    </tr>\n",
       "    <tr>\n",
       "      <th>1972-06-05</th>\n",
       "      <td>2.149165</td>\n",
       "      <td>2.169440</td>\n",
       "      <td>2.141055</td>\n",
       "      <td>2.149165</td>\n",
       "      <td>0.228719</td>\n",
       "      <td>5209582</td>\n",
       "      <td>-0.011321</td>\n",
       "      <td>-0.011385</td>\n",
       "    </tr>\n",
       "    <tr>\n",
       "      <th>1972-06-06</th>\n",
       "      <td>2.149165</td>\n",
       "      <td>2.157275</td>\n",
       "      <td>2.116725</td>\n",
       "      <td>2.124835</td>\n",
       "      <td>0.226130</td>\n",
       "      <td>1424158</td>\n",
       "      <td>-0.005725</td>\n",
       "      <td>-0.005742</td>\n",
       "    </tr>\n",
       "    <tr>\n",
       "      <th>1972-06-07</th>\n",
       "      <td>2.124835</td>\n",
       "      <td>2.137000</td>\n",
       "      <td>2.112670</td>\n",
       "      <td>2.112670</td>\n",
       "      <td>0.224835</td>\n",
       "      <td>675088</td>\n",
       "      <td>-0.007678</td>\n",
       "      <td>-0.007707</td>\n",
       "    </tr>\n",
       "    <tr>\n",
       "      <th>...</th>\n",
       "      <td>...</td>\n",
       "      <td>...</td>\n",
       "      <td>...</td>\n",
       "      <td>...</td>\n",
       "      <td>...</td>\n",
       "      <td>...</td>\n",
       "      <td>...</td>\n",
       "      <td>...</td>\n",
       "    </tr>\n",
       "    <tr>\n",
       "      <th>2024-08-26</th>\n",
       "      <td>11.320000</td>\n",
       "      <td>11.370000</td>\n",
       "      <td>11.070000</td>\n",
       "      <td>11.110000</td>\n",
       "      <td>11.110000</td>\n",
       "      <td>53070300</td>\n",
       "      <td>0.002700</td>\n",
       "      <td>0.002697</td>\n",
       "    </tr>\n",
       "    <tr>\n",
       "      <th>2024-08-27</th>\n",
       "      <td>11.120000</td>\n",
       "      <td>11.220000</td>\n",
       "      <td>10.990000</td>\n",
       "      <td>11.140000</td>\n",
       "      <td>11.140000</td>\n",
       "      <td>44841000</td>\n",
       "      <td>-0.008977</td>\n",
       "      <td>-0.009017</td>\n",
       "    </tr>\n",
       "    <tr>\n",
       "      <th>2024-08-28</th>\n",
       "      <td>11.100000</td>\n",
       "      <td>11.190000</td>\n",
       "      <td>10.980000</td>\n",
       "      <td>11.040000</td>\n",
       "      <td>11.040000</td>\n",
       "      <td>35442200</td>\n",
       "      <td>0.006341</td>\n",
       "      <td>0.006321</td>\n",
       "    </tr>\n",
       "    <tr>\n",
       "      <th>2024-08-29</th>\n",
       "      <td>11.020000</td>\n",
       "      <td>11.200000</td>\n",
       "      <td>10.990000</td>\n",
       "      <td>11.110000</td>\n",
       "      <td>11.110000</td>\n",
       "      <td>44989200</td>\n",
       "      <td>0.007201</td>\n",
       "      <td>0.007175</td>\n",
       "    </tr>\n",
       "    <tr>\n",
       "      <th>2024-08-30</th>\n",
       "      <td>11.150000</td>\n",
       "      <td>11.230000</td>\n",
       "      <td>11.060000</td>\n",
       "      <td>11.190000</td>\n",
       "      <td>11.190000</td>\n",
       "      <td>44977100</td>\n",
       "      <td>NaN</td>\n",
       "      <td>NaN</td>\n",
       "    </tr>\n",
       "  </tbody>\n",
       "</table>\n",
       "<p>13175 rows × 8 columns</p>\n",
       "</div>"
      ],
      "text/plain": [
       "                 Open       High        Low      Close  Adj Close    Volume  \\\n",
       "Date                                                                          \n",
       "1972-06-01   0.000000   2.173495   2.149165   2.153220   0.229151   1091238   \n",
       "1972-06-02   2.153220   2.173495   2.141055   2.149165   0.228719   1174468   \n",
       "1972-06-05   2.149165   2.169440   2.141055   2.149165   0.228719   5209582   \n",
       "1972-06-06   2.149165   2.157275   2.116725   2.124835   0.226130   1424158   \n",
       "1972-06-07   2.124835   2.137000   2.112670   2.112670   0.224835    675088   \n",
       "...               ...        ...        ...        ...        ...       ...   \n",
       "2024-08-26  11.320000  11.370000  11.070000  11.110000  11.110000  53070300   \n",
       "2024-08-27  11.120000  11.220000  10.990000  11.140000  11.140000  44841000   \n",
       "2024-08-28  11.100000  11.190000  10.980000  11.040000  11.040000  35442200   \n",
       "2024-08-29  11.020000  11.200000  10.990000  11.110000  11.110000  44989200   \n",
       "2024-08-30  11.150000  11.230000  11.060000  11.190000  11.190000  44977100   \n",
       "\n",
       "            Daily Returns  Log Daily Returns  \n",
       "Date                                          \n",
       "1972-06-01      -0.001883          -0.001885  \n",
       "1972-06-02       0.000000           0.000000  \n",
       "1972-06-05      -0.011321          -0.011385  \n",
       "1972-06-06      -0.005725          -0.005742  \n",
       "1972-06-07      -0.007678          -0.007707  \n",
       "...                   ...                ...  \n",
       "2024-08-26       0.002700           0.002697  \n",
       "2024-08-27      -0.008977          -0.009017  \n",
       "2024-08-28       0.006341           0.006321  \n",
       "2024-08-29       0.007201           0.007175  \n",
       "2024-08-30            NaN                NaN  \n",
       "\n",
       "[13175 rows x 8 columns]"
      ]
     },
     "execution_count": 3,
     "metadata": {},
     "output_type": "execute_result"
    }
   ],
   "source": [
    "#a) column for daily returns using \"Adj Close\" price\n",
    "ford[\"Daily Returns\"] = (ford[\"Adj Close\"].shift(-1) - ford[\"Adj Close\"]) / ford[\"Adj Close\"] \n",
    "# takes next days price - todays price / todays price\n",
    "# .shift(-1) : shifts data up by one row\n",
    "\n",
    "#b) column for daily log returns\n",
    "ford[\"Log Daily Returns\"] = np.log(ford[\"Adj Close\"].shift(-1) / ford[\"Adj Close\"])\n",
    "\n",
    "ford"
   ]
  },
  {
   "cell_type": "code",
   "execution_count": 34,
   "metadata": {},
   "outputs": [
    {
     "name": "stdout",
     "output_type": "stream",
     "text": [
      "Annualized mean rate of return (full period): 7.4380%\n"
     ]
    }
   ],
   "source": [
    "#c) Annualized mean rate of returns over full period using a specific formula\n",
    "N = len(ford)\n",
    "S_N = ford[\"Adj Close\"].iloc[-1] # Last adjusted close price \n",
    "S_1 = ford[\"Adj Close\"].iloc[0] # 1st adjust close price\n",
    "annualized_mean_full = (252/(N-1))*np.log(S_N/S_1)\n",
    "\n",
    "print(f\"Annualized mean rate of return (full period): {100*annualized_mean_full:.4f}%\")"
   ]
  },
  {
   "cell_type": "code",
   "execution_count": 33,
   "metadata": {},
   "outputs": [
    {
     "name": "stdout",
     "output_type": "stream",
     "text": [
      "Annualized mean rate of return (full period): 7.4380%\n"
     ]
    }
   ],
   "source": [
    "# OR\n",
    "sum_returns = ford[\"Log Daily Returns\"].sum()\n",
    "mean_rate_full = (252/(N-1))*sum_returns\n",
    "\n",
    "print(f\"Annualized mean rate of return (full period): {100*mean_rate_full:.4f}%\")"
   ]
  },
  {
   "cell_type": "code",
   "execution_count": 32,
   "metadata": {},
   "outputs": [
    {
     "name": "stdout",
     "output_type": "stream",
     "text": [
      "Annualized mean rate of return (over the last year): -1.1035%\n"
     ]
    }
   ],
   "source": [
    "#d) annualized mean rate of return over the last year (252 trading days)\n",
    "S_N252 = ford[\"Adj Close\"].iloc[-252]\n",
    "\n",
    "annualized_mean_year = (252/252)*np.log(S_N/S_N252) \n",
    "print(f\"Annualized mean rate of return (over the last year): {100*annualized_mean_year:.4f}%\")"
   ]
  },
  {
   "cell_type": "code",
   "execution_count": 10,
   "metadata": {},
   "outputs": [
    {
     "name": "stdout",
     "output_type": "stream",
     "text": [
      "Annualized volatility over [1972-06-01 to 2024-08-30]: 35.7158%\n"
     ]
    }
   ],
   "source": [
    "#e) annualized volatility over full period [1972-06-01 to 2024-08-30]\n",
    "annualized_vol_full = np.sqrt(252) * ford[\"Log Daily Returns\"].std()\n",
    "\n",
    "print(f\"Annualized volatility over [1972-06-01 to 2024-08-30]: {100*annualized_vol_full:.4f}%\")"
   ]
  },
  {
   "cell_type": "code",
   "execution_count": 31,
   "metadata": {},
   "outputs": [
    {
     "name": "stdout",
     "output_type": "stream",
     "text": [
      "Annualized volatility over [1972-06-01 to 2024-08-30]: 39.1307%\n"
     ]
    }
   ],
   "source": [
    "#f) annualized volatility over last year\n",
    "annualized_vol_year = np.sqrt(252) * ford[\"Log Daily Returns\"].iloc[-252:-1].std()\n",
    "\n",
    "print(f\"Annualized volatility over [1972-06-01 to 2024-08-30]: {100*annualized_vol_year:.4f}%\")"
   ]
  },
  {
   "cell_type": "code",
   "execution_count": 11,
   "metadata": {},
   "outputs": [
    {
     "data": {
      "image/png": "[encoded data removed]",
      "text/plain": [
       "<Figure size 640x480 with 1 Axes>"
      ]
     },
     "metadata": {},
     "output_type": "display_data"
    }
   ],
   "source": [
    "# 4. Histogram\n",
    "import matplotlib.pyplot as plt\n",
    "\n",
    "# a) 80 bins, width = 0.005, range = [-0.2, +0.2]\n",
    "# enter log returns and bins\n",
    "plt.hist(ford[\"Log Daily Returns\"], bins = 80, range=[-0.2,0.2]) #doesnt give (-0.1975,-0.1925,..) instead does (-0.2, -0.195, )??\n",
    "plt.xlabel(\"Daily Return\")\n",
    "plt.ylabel(\"Frequency\")\n",
    "plt.title(\"Log Daily Returns of FORD\")\n",
    "plt.show()\n",
    "# based on this graph, it look like a bell-shaped curve. \n",
    "# This indicates that the daily log returns for Ford seem follow a normal distribution."
   ]
  },
  {
   "cell_type": "code",
   "execution_count": 12,
   "metadata": {},
   "outputs": [
    {
     "data": {
      "image/png": "[encoded data removed]",
      "text/plain": [
       "<Figure size 1400x700 with 1 Axes>"
      ]
     },
     "metadata": {},
     "output_type": "display_data"
    }
   ],
   "source": [
    "#5. Plot stock price over last 252 trading days\n",
    "plt.figure(figsize=(14,7))\n",
    "plt.plot(ford[\"Adj Close\"].iloc[-252:-1])\n",
    "plt.title(\"Stock Price (YTD)\")\n",
    "plt.xlabel(\"Date\")\n",
    "plt.ylabel(\"Price\")\n",
    "plt.grid(True)\n",
    "plt.show()"
   ]
  }
 ],
 "metadata": {
  "kernelspec": {
   "display_name": ".venv",
   "language": "python",
   "name": "python3"
  },
  "language_info": {
   "codemirror_mode": {
    "name": "ipython",
    "version": 3
   },
   "file_extension": ".py",
   "mimetype": "text/x-python",
   "name": "python",
   "nbconvert_exporter": "python",
   "pygments_lexer": "ipython3",
   "version": "3.12.5"
  }
 },
 "nbformat": 4,
 "nbformat_minor": 2
}
