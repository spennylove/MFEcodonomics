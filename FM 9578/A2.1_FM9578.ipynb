{
 "cells": [
  {
   "cell_type": "markdown",
   "metadata": {},
   "source": [
    "# FM 9578 Assignment 2.1 - Week 3\n",
    "Unit 1: Computational Finance -week 3."
   ]
  },
  {
   "cell_type": "code",
   "execution_count": 95,
   "metadata": {},
   "outputs": [
    {
     "name": "stderr",
     "output_type": "stream",
     "text": [
      "[*********************100%***********************]  1 of 1 completed\n"
     ]
    }
   ],
   "source": [
    "import yfinance as yf\n",
    "import pandas as pd\n",
    "import numpy as np\n",
    "\n",
    "# Download data\n",
    "tsx = yf.download(\"^GSPTSE\", start='2007-01-01', end='2012-01-02') #add a day because python cuts off last entry\n",
    "\n",
    "# Q1 \n",
    "# Fill missing weekdays (business days) with previous value\n",
    "tsx = tsx.asfreq('B').ffill()\n",
    "\n",
    "# Add a day of the week column\n",
    "tsx['Day'] = tsx.index.strftime('%a')"
   ]
  },
  {
   "cell_type": "code",
   "execution_count": 96,
   "metadata": {},
   "outputs": [
    {
     "data": {
      "text/html": [
       "<div>\n",
       "<style scoped>\n",
       "    .dataframe tbody tr th:only-of-type {\n",
       "        vertical-align: middle;\n",
       "    }\n",
       "\n",
       "    .dataframe tbody tr th {\n",
       "        vertical-align: top;\n",
       "    }\n",
       "\n",
       "    .dataframe thead th {\n",
       "        text-align: right;\n",
       "    }\n",
       "</style>\n",
       "<table border=\"1\" class=\"dataframe\">\n",
       "  <thead>\n",
       "    <tr style=\"text-align: right;\">\n",
       "      <th></th>\n",
       "      <th>Week</th>\n",
       "      <th>MA</th>\n",
       "    </tr>\n",
       "  </thead>\n",
       "  <tbody>\n",
       "    <tr>\n",
       "      <th>0</th>\n",
       "      <td>1</td>\n",
       "      <td>NaN</td>\n",
       "    </tr>\n",
       "    <tr>\n",
       "      <th>1</th>\n",
       "      <td>1</td>\n",
       "      <td>12726.233398</td>\n",
       "    </tr>\n",
       "    <tr>\n",
       "      <th>2</th>\n",
       "      <td>1</td>\n",
       "      <td>12577.666667</td>\n",
       "    </tr>\n",
       "    <tr>\n",
       "      <th>3</th>\n",
       "      <td>2</td>\n",
       "      <td>12492.899740</td>\n",
       "    </tr>\n",
       "    <tr>\n",
       "      <th>4</th>\n",
       "      <td>2</td>\n",
       "      <td>12481.833333</td>\n",
       "    </tr>\n",
       "    <tr>\n",
       "      <th>...</th>\n",
       "      <td>...</td>\n",
       "      <td>...</td>\n",
       "    </tr>\n",
       "    <tr>\n",
       "      <th>775</th>\n",
       "      <td>259</td>\n",
       "      <td>11602.466797</td>\n",
       "    </tr>\n",
       "    <tr>\n",
       "      <th>776</th>\n",
       "      <td>259</td>\n",
       "      <td>11560.966797</td>\n",
       "    </tr>\n",
       "    <tr>\n",
       "      <th>777</th>\n",
       "      <td>260</td>\n",
       "      <td>11670.033529</td>\n",
       "    </tr>\n",
       "    <tr>\n",
       "      <th>778</th>\n",
       "      <td>260</td>\n",
       "      <td>11782.300130</td>\n",
       "    </tr>\n",
       "    <tr>\n",
       "      <th>779</th>\n",
       "      <td>260</td>\n",
       "      <td>11852.233398</td>\n",
       "    </tr>\n",
       "  </tbody>\n",
       "</table>\n",
       "<p>780 rows × 2 columns</p>\n",
       "</div>"
      ],
      "text/plain": [
       "     Week            MA\n",
       "0       1           NaN\n",
       "1       1  12726.233398\n",
       "2       1  12577.666667\n",
       "3       2  12492.899740\n",
       "4       2  12481.833333\n",
       "..    ...           ...\n",
       "775   259  11602.466797\n",
       "776   259  11560.966797\n",
       "777   260  11670.033529\n",
       "778   260  11782.300130\n",
       "779   260  11852.233398\n",
       "\n",
       "[780 rows x 2 columns]"
      ]
     },
     "execution_count": 96,
     "metadata": {},
     "output_type": "execute_result"
    }
   ],
   "source": [
    "# Q2\n",
    "# Calculate 3-day MA\n",
    "tsx['MA3'] = tsx['Adj Close'].rolling(3).mean()\n",
    "weekly_mas = [] #empty list to store MAs\n",
    "\n",
    "\n",
    "for i in range(0, len(tsx), 5):  # Loop through dataset week by week (in chunks of 5 days)\n",
    "    week_data = tsx.iloc[i:i+5]  \n",
    "    if len(week_data) == 5:\n",
    "        #Get MA from the last day in MA for each week, i.e. Wed, gives the MA for (Mon,Tue,Wed)\n",
    "        #since data starts on a Tuesday, the first MA will be NaN\n",
    "        weekly_mas.append(week_data.loc[week_data['Day'] == 'Wed', 'MA3'].values[0])  # MA(Mon, Tue, Wed)\n",
    "        weekly_mas.append(week_data.loc[week_data['Day'] == 'Thu', 'MA3'].values[0])  # MA(Tue, Wed, Thu)\n",
    "        weekly_mas.append(week_data.loc[week_data['Day'] == 'Fri', 'MA3'].values[0])  # MA(Wed, Thu, Fri)\n",
    "\n",
    "# Create DataFrame for results\n",
    "weekly_df = pd.DataFrame({\n",
    "    'Week': np.repeat(range(1, len(weekly_mas) // 3 + 1), 3), #repeat each week 3 times bcuz 3 MA per week\n",
    "    'MA': weekly_mas\n",
    "})\n",
    "\n",
    "weekly_df"
   ]
  },
  {
   "cell_type": "code",
   "execution_count": 97,
   "metadata": {},
   "outputs": [
    {
     "data": {
      "text/html": [
       "<div>\n",
       "<style scoped>\n",
       "    .dataframe tbody tr th:only-of-type {\n",
       "        vertical-align: middle;\n",
       "    }\n",
       "\n",
       "    .dataframe tbody tr th {\n",
       "        vertical-align: top;\n",
       "    }\n",
       "\n",
       "    .dataframe thead th {\n",
       "        text-align: right;\n",
       "    }\n",
       "</style>\n",
       "<table border=\"1\" class=\"dataframe\">\n",
       "  <thead>\n",
       "    <tr style=\"text-align: right;\">\n",
       "      <th></th>\n",
       "      <th>Week</th>\n",
       "      <th>MA</th>\n",
       "      <th>Log_Returns</th>\n",
       "    </tr>\n",
       "  </thead>\n",
       "  <tbody>\n",
       "    <tr>\n",
       "      <th>0</th>\n",
       "      <td>1</td>\n",
       "      <td>NaN</td>\n",
       "      <td>NaN</td>\n",
       "    </tr>\n",
       "    <tr>\n",
       "      <th>1</th>\n",
       "      <td>1</td>\n",
       "      <td>12726.233398</td>\n",
       "      <td>NaN</td>\n",
       "    </tr>\n",
       "    <tr>\n",
       "      <th>2</th>\n",
       "      <td>1</td>\n",
       "      <td>12577.666667</td>\n",
       "      <td>-0.011743</td>\n",
       "    </tr>\n",
       "    <tr>\n",
       "      <th>3</th>\n",
       "      <td>2</td>\n",
       "      <td>12492.899740</td>\n",
       "      <td>-0.006762</td>\n",
       "    </tr>\n",
       "    <tr>\n",
       "      <th>4</th>\n",
       "      <td>2</td>\n",
       "      <td>12481.833333</td>\n",
       "      <td>-0.000886</td>\n",
       "    </tr>\n",
       "    <tr>\n",
       "      <th>...</th>\n",
       "      <td>...</td>\n",
       "      <td>...</td>\n",
       "      <td>...</td>\n",
       "    </tr>\n",
       "    <tr>\n",
       "      <th>775</th>\n",
       "      <td>259</td>\n",
       "      <td>11602.466797</td>\n",
       "      <td>-0.011526</td>\n",
       "    </tr>\n",
       "    <tr>\n",
       "      <th>776</th>\n",
       "      <td>259</td>\n",
       "      <td>11560.966797</td>\n",
       "      <td>-0.003583</td>\n",
       "    </tr>\n",
       "    <tr>\n",
       "      <th>777</th>\n",
       "      <td>260</td>\n",
       "      <td>11670.033529</td>\n",
       "      <td>0.009390</td>\n",
       "    </tr>\n",
       "    <tr>\n",
       "      <th>778</th>\n",
       "      <td>260</td>\n",
       "      <td>11782.300130</td>\n",
       "      <td>0.009574</td>\n",
       "    </tr>\n",
       "    <tr>\n",
       "      <th>779</th>\n",
       "      <td>260</td>\n",
       "      <td>11852.233398</td>\n",
       "      <td>0.005918</td>\n",
       "    </tr>\n",
       "  </tbody>\n",
       "</table>\n",
       "<p>780 rows × 3 columns</p>\n",
       "</div>"
      ],
      "text/plain": [
       "     Week            MA  Log_Returns\n",
       "0       1           NaN          NaN\n",
       "1       1  12726.233398          NaN\n",
       "2       1  12577.666667    -0.011743\n",
       "3       2  12492.899740    -0.006762\n",
       "4       2  12481.833333    -0.000886\n",
       "..    ...           ...          ...\n",
       "775   259  11602.466797    -0.011526\n",
       "776   259  11560.966797    -0.003583\n",
       "777   260  11670.033529     0.009390\n",
       "778   260  11782.300130     0.009574\n",
       "779   260  11852.233398     0.005918\n",
       "\n",
       "[780 rows x 3 columns]"
      ]
     },
     "execution_count": 97,
     "metadata": {},
     "output_type": "execute_result"
    }
   ],
   "source": [
    "# Q3 \n",
    "# Make a series of log returns for the weekly series in Q2\n",
    "weekly_df['Log_Returns'] = np.log(weekly_df['MA'] / weekly_df['MA'].shift(1))\n",
    "#weekly_df.dropna(inplace=True)\n",
    "weekly_df"
   ]
  },
  {
   "cell_type": "code",
   "execution_count": 102,
   "metadata": {},
   "outputs": [
    {
     "name": "stdout",
     "output_type": "stream",
     "text": [
      "Mean Log Return: -0.0091%\n",
      "Std Dev Log Return: 1.3209%\n"
     ]
    }
   ],
   "source": [
    "# Q4 \n",
    "# Compute mean and standard deviation of log returns from Q3\n",
    "mean_rt = weekly_df['Log_Returns'].mean()\n",
    "std_rt = weekly_df['Log_Returns'].std()\n",
    "print(f\"Mean Log Return: {100*mean_rt:.4f}%\")\n",
    "print(f\"Std Dev Log Return: {100*std_rt:.4f}%\")"
   ]
  },
  {
   "cell_type": "code",
   "execution_count": 104,
   "metadata": {},
   "outputs": [
    {
     "name": "stdout",
     "output_type": "stream",
     "text": [
      "Annual Drift: -1.4266%\n",
      "Annual Volatility: 16.4975%\n"
     ]
    }
   ],
   "source": [
    "# Q5: Find the annualized values for the mean and standard deviation (drift and volatility).\n",
    "# Annualized drift and volatility\n",
    "annual_drift = mean_rt * 52 * 3 #52 weeks per year, 3 returns per week\n",
    "annual_vol = std_rt * np.sqrt(52*3)\n",
    "\n",
    "print(f\"Annual Drift: {100*annual_drift:.4f}%\")\n",
    "print(f\"Annual Volatility: {100*annual_vol:.4f}%\")"
   ]
  },
  {
   "cell_type": "markdown",
   "metadata": {},
   "source": [
    "# BONUS"
   ]
  },
  {
   "cell_type": "code",
   "execution_count": 100,
   "metadata": {},
   "outputs": [
    {
     "name": "stdout",
     "output_type": "stream",
     "text": [
      "The price of the 4-month European Put option is: $1.80\n"
     ]
    }
   ],
   "source": [
    "#Pricing an option using the binomial tree model with risk-neutral approach\n",
    "def binomial_tree_option_pricing(S, K, T, r, u, d, N, option_type='put'):\n",
    "\n",
    "    # Calculate time step\n",
    "    dt = T / N\n",
    "    \n",
    "    # Calculate risk-neutral probability\n",
    "    q = (np.exp(r * dt) - d) / (u - d)\n",
    "    \n",
    "    # Initialize asset prices at maturity\n",
    "    asset_prices = np.zeros(N + 1)\n",
    "    for i in range(N + 1):\n",
    "        asset_prices[i] = S * (u ** (N - i)) * (d ** i)\n",
    "    \n",
    "    # Initialize option values at maturity\n",
    "    option_values = np.zeros(N + 1)\n",
    "    if option_type == 'call':\n",
    "        option_values = np.maximum(0, asset_prices - K)\n",
    "    elif option_type == 'put':\n",
    "        option_values = np.maximum(0, K - asset_prices)\n",
    "    \n",
    "    # Step backwards through the tree\n",
    "    for j in range(N - 1, -1, -1):\n",
    "        for i in range(j + 1):\n",
    "            option_values[i] = np.exp(-r * dt) * (q * option_values[i] + (1 - q) * option_values[i + 1])\n",
    "    \n",
    "    return option_values[0]\n",
    "\n",
    "# Parameters\n",
    "S = 80      # Initial stock price\n",
    "K = 80      # Strike price\n",
    "T = 4/12    # Time to maturity in years\n",
    "r = 0.05    # Risk-free interest rate\n",
    "u = 85/80   # Up factor\n",
    "d = 75/80   # Down factor\n",
    "N = 1       # Number of steps in the binomial tree (one-step model)\n",
    "\n",
    "# Calculate call option price\n",
    "put_option_price = binomial_tree_option_pricing(S, K, T, r, u, d, N, option_type='put')\n",
    "print(f\"The price of the 4-month European Put option is: ${put_option_price:.2f}\")"
   ]
  }
 ],
 "metadata": {
  "kernelspec": {
   "display_name": "mfe2024",
   "language": "python",
   "name": "python3"
  },
  "language_info": {
   "codemirror_mode": {
    "name": "ipython",
    "version": 3
   },
   "file_extension": ".py",
   "mimetype": "text/x-python",
   "name": "python",
   "nbconvert_exporter": "python",
   "pygments_lexer": "ipython3",
   "version": "3.12.5"
  }
 },
 "nbformat": 4,
 "nbformat_minor": 2
}
