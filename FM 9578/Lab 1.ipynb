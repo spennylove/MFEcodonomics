{
 "cells": [
  {
   "cell_type": "markdown",
   "id": "silver-hayes",
   "metadata": {},
   "source": [
    "# Lab 1"
   ]
  },
  {
   "cell_type": "markdown",
   "id": "latter-poker",
   "metadata": {},
   "source": [
    "Jupyter Notebook is an open source web application that you can use to create and share documents that contain live code, equations, visualizations, and text. In this lab we provide an introduction to Python."
   ]
  },
  {
   "cell_type": "markdown",
   "id": "right-journalist",
   "metadata": {},
   "source": [
    "## Basic Python Instances"
   ]
  },
  {
   "cell_type": "markdown",
   "id": "excited-inventory",
   "metadata": {},
   "source": [
    "**Python Operatos:** https://www.w3schools.com/python/python_operators.asp"
   ]
  },
  {
   "cell_type": "code",
   "execution_count": 13,
   "id": "genuine-atlas",
   "metadata": {},
   "outputs": [
    {
     "name": "stdout",
     "output_type": "stream",
     "text": [
      "Hello World !\n"
     ]
    }
   ],
   "source": [
    "# Variable names can start with a letter or _, but not a number or any other operator.\n",
    "hello = \"Hello World !\"\n",
    "print(hello)"
   ]
  },
  {
   "cell_type": "code",
   "execution_count": 14,
   "id": "satellite-founder",
   "metadata": {},
   "outputs": [
    {
     "name": "stdout",
     "output_type": "stream",
     "text": [
      "Hello World\n"
     ]
    }
   ],
   "source": [
    "print(\"Hello World\")"
   ]
  },
  {
   "cell_type": "code",
   "execution_count": 15,
   "id": "sixth-prediction",
   "metadata": {},
   "outputs": [],
   "source": [
    "x = 5 \n",
    "y = 7"
   ]
  },
  {
   "cell_type": "code",
   "execution_count": 16,
   "id": "dimensional-hormone",
   "metadata": {},
   "outputs": [
    {
     "data": {
      "text/plain": [
       "12"
      ]
     },
     "execution_count": 16,
     "metadata": {},
     "output_type": "execute_result"
    }
   ],
   "source": [
    "x + 7"
   ]
  },
  {
   "cell_type": "code",
   "execution_count": 17,
   "id": "circular-symposium",
   "metadata": {},
   "outputs": [
    {
     "data": {
      "text/plain": [
       "9"
      ]
     },
     "execution_count": 17,
     "metadata": {},
     "output_type": "execute_result"
    }
   ],
   "source": [
    "y + 2"
   ]
  },
  {
   "cell_type": "code",
   "execution_count": 18,
   "id": "recreational-honolulu",
   "metadata": {},
   "outputs": [
    {
     "name": "stdout",
     "output_type": "stream",
     "text": [
      "12\n"
     ]
    }
   ],
   "source": [
    "# Operators +, -, *, /, **\n",
    "print(x + 7)"
   ]
  },
  {
   "cell_type": "code",
   "execution_count": 19,
   "id": "structured-connecticut",
   "metadata": {},
   "outputs": [
    {
     "data": {
      "text/plain": [
       "49"
      ]
     },
     "execution_count": 19,
     "metadata": {},
     "output_type": "execute_result"
    }
   ],
   "source": [
    "y ** 2"
   ]
  },
  {
   "cell_type": "markdown",
   "id": "subject-league",
   "metadata": {},
   "source": [
    "A class has objects which belong to it and their classs is refered to as their \"type\"."
   ]
  },
  {
   "cell_type": "code",
   "execution_count": 20,
   "id": "honest-treat",
   "metadata": {},
   "outputs": [
    {
     "name": "stdout",
     "output_type": "stream",
     "text": [
      "Variable x is: 25 Variable hello is: 12\n"
     ]
    }
   ],
   "source": [
    "# Printing multiple things by seperating them with a ,\n",
    "print(\"Variable x is:\", x**2, \"Variable hello is:\", x+y)"
   ]
  },
  {
   "cell_type": "markdown",
   "id": "silent-director",
   "metadata": {},
   "source": [
    "## Data Structures"
   ]
  },
  {
   "cell_type": "markdown",
   "id": "mathematical-participation",
   "metadata": {},
   "source": [
    "**Dictionaries:** https://www.w3schools.com/python/python_dictionaries.asp"
   ]
  },
  {
   "cell_type": "code",
   "execution_count": 21,
   "id": "adjustable-paragraph",
   "metadata": {},
   "outputs": [
    {
     "name": "stdout",
     "output_type": "stream",
     "text": [
      "The dictionay holds {'Stats': 'Happy'} and the 'Stats' value is: Happy\n"
     ]
    }
   ],
   "source": [
    "# Dictionaries have a Key and a value.\n",
    "dict_1 = {\"Stats\" : \"Happy\"}\n",
    "print(\"The dictionay holds\", dict_1, \"and the 'Stats' value is:\", dict_1[\"Stats\"])"
   ]
  },
  {
   "cell_type": "code",
   "execution_count": 30,
   "id": "93c51b41-901f-491b-90d1-55d586b1abfb",
   "metadata": {},
   "outputs": [],
   "source": [
    "dict_1 = {2:3**2, \"Finance\":\"Happiness\"}"
   ]
  },
  {
   "cell_type": "code",
   "execution_count": 31,
   "id": "4c377dc0-1a7b-438b-ae57-855d04da204e",
   "metadata": {},
   "outputs": [
    {
     "name": "stdout",
     "output_type": "stream",
     "text": [
      "9\n"
     ]
    }
   ],
   "source": [
    "print(dict_1[2])"
   ]
  },
  {
   "cell_type": "code",
   "execution_count": 32,
   "id": "median-round",
   "metadata": {},
   "outputs": [
    {
     "name": "stdout",
     "output_type": "stream",
     "text": [
      "{2: 9, 'Finance': 'Happiness', 'Math': 'Exited'}\n"
     ]
    }
   ],
   "source": [
    "# Update allows you to add more dictionaries to an existing one dynamically making the original one bigger.\n",
    "dict_2 = {\"Math\" : \"Exited\"}\n",
    "dict_1.update(dict_2)\n",
    "print(dict_1)"
   ]
  },
  {
   "cell_type": "markdown",
   "id": "ambient-hydrogen",
   "metadata": {},
   "source": [
    "**Python lists:** https://www.w3schools.com/python/python_lists.asp"
   ]
  },
  {
   "cell_type": "code",
   "execution_count": 33,
   "id": "collectible-friendship",
   "metadata": {},
   "outputs": [
    {
     "name": "stdout",
     "output_type": "stream",
     "text": [
      "[1, 2, 3]\n"
     ]
    }
   ],
   "source": [
    "# List is a subscriptable object that holds data of any type.\n",
    "list_1 = [1, 2, 3]\n",
    "print(list_1)"
   ]
  },
  {
   "cell_type": "code",
   "execution_count": 34,
   "id": "8c286c49-6f11-46ed-a07b-5abea54107db",
   "metadata": {},
   "outputs": [],
   "source": [
    "list_2 = [\"a\",\"hello world\", 5]"
   ]
  },
  {
   "cell_type": "code",
   "execution_count": 35,
   "id": "5f55fa6e-359a-4614-a944-4684e0439852",
   "metadata": {},
   "outputs": [
    {
     "name": "stdout",
     "output_type": "stream",
     "text": [
      "['a', 'hello world', 5]\n"
     ]
    }
   ],
   "source": [
    "print(list_2)"
   ]
  },
  {
   "cell_type": "code",
   "execution_count": 36,
   "id": "contained-replication",
   "metadata": {},
   "outputs": [
    {
     "name": "stdout",
     "output_type": "stream",
     "text": [
      "[1, 2, 3, 5]\n"
     ]
    }
   ],
   "source": [
    "list_1.append(5)\n",
    "print(list_1)"
   ]
  },
  {
   "cell_type": "code",
   "execution_count": 37,
   "id": "outdoor-group",
   "metadata": {},
   "outputs": [
    {
     "data": {
      "text/plain": [
       "1"
      ]
     },
     "execution_count": 37,
     "metadata": {},
     "output_type": "execute_result"
    }
   ],
   "source": [
    "# Python lists are 0-indexed. So the first element is 0, second is 1, and so on.\n",
    "# So if there are n elements in a list, the last element is n - 1.\n",
    "list_1[0]"
   ]
  },
  {
   "cell_type": "code",
   "execution_count": 39,
   "id": "814c7501-a2b4-4e5b-ab61-7e4828f03224",
   "metadata": {},
   "outputs": [
    {
     "data": {
      "text/plain": [
       "5"
      ]
     },
     "execution_count": 39,
     "metadata": {},
     "output_type": "execute_result"
    }
   ],
   "source": [
    "list_2[2]"
   ]
  },
  {
   "cell_type": "code",
   "execution_count": 41,
   "id": "5c84addf-5459-48f0-8f9a-a18b46e4ba37",
   "metadata": {},
   "outputs": [],
   "source": [
    "dict_3 = {\"first ele\":[2,4,5], \"second ele\":[4,5,6]}"
   ]
  },
  {
   "cell_type": "code",
   "execution_count": 44,
   "id": "075967b7-e59c-4b5a-8237-5b8b35451fd9",
   "metadata": {},
   "outputs": [
    {
     "data": {
      "text/plain": [
       "4"
      ]
     },
     "execution_count": 44,
     "metadata": {},
     "output_type": "execute_result"
    }
   ],
   "source": [
    "dict_3[\"first ele\"][1]"
   ]
  },
  {
   "cell_type": "markdown",
   "id": "automotive-profession",
   "metadata": {},
   "source": [
    "**Pandas:** https://pandas.pydata.org/docs/ <br/>\n",
    "**Numpy:** https://numpy.org/doc/1.20/user/absolute_beginners.html"
   ]
  },
  {
   "cell_type": "code",
   "execution_count": 47,
   "id": "seeing-trash",
   "metadata": {},
   "outputs": [],
   "source": [
    "# The Python language has only very basic operations. Most math functions are in various math libraries.\n",
    "# The numpy and pandas are convenient libraries. We can import numpy with the prefix np, and pandas with the prefix pd.\n",
    "import pandas as pd\n",
    "import numpy as np"
   ]
  },
  {
   "cell_type": "markdown",
   "id": "racial-intro",
   "metadata": {},
   "source": [
    "**pd.DataFrame:** https://pandas.pydata.org/pandas-docs/stable/reference/api/pandas.DataFrame.html"
   ]
  },
  {
   "cell_type": "code",
   "execution_count": 48,
   "id": "latest-statistics",
   "metadata": {},
   "outputs": [
    {
     "data": {
      "text/html": [
       "<div>\n",
       "<style scoped>\n",
       "    .dataframe tbody tr th:only-of-type {\n",
       "        vertical-align: middle;\n",
       "    }\n",
       "\n",
       "    .dataframe tbody tr th {\n",
       "        vertical-align: top;\n",
       "    }\n",
       "\n",
       "    .dataframe thead th {\n",
       "        text-align: right;\n",
       "    }\n",
       "</style>\n",
       "<table border=\"1\" class=\"dataframe\">\n",
       "  <thead>\n",
       "    <tr style=\"text-align: right;\">\n",
       "      <th></th>\n",
       "      <th>Age</th>\n",
       "      <th>Height</th>\n",
       "    </tr>\n",
       "  </thead>\n",
       "  <tbody>\n",
       "    <tr>\n",
       "      <th>0</th>\n",
       "      <td>1</td>\n",
       "      <td>3</td>\n",
       "    </tr>\n",
       "    <tr>\n",
       "      <th>1</th>\n",
       "      <td>2</td>\n",
       "      <td>4</td>\n",
       "    </tr>\n",
       "  </tbody>\n",
       "</table>\n",
       "</div>"
      ],
      "text/plain": [
       "   Age  Height\n",
       "0    1       3\n",
       "1    2       4"
      ]
     },
     "execution_count": 48,
     "metadata": {},
     "output_type": "execute_result"
    }
   ],
   "source": [
    "df_data = {\"Age\" : [1, 2], \"Height\" : [3, 4]}\n",
    "df = pd.DataFrame(data = df_data)\n",
    "df"
   ]
  },
  {
   "cell_type": "code",
   "execution_count": 49,
   "id": "external-tumor",
   "metadata": {},
   "outputs": [
    {
     "data": {
      "text/html": [
       "<div>\n",
       "<style scoped>\n",
       "    .dataframe tbody tr th:only-of-type {\n",
       "        vertical-align: middle;\n",
       "    }\n",
       "\n",
       "    .dataframe tbody tr th {\n",
       "        vertical-align: top;\n",
       "    }\n",
       "\n",
       "    .dataframe thead th {\n",
       "        text-align: right;\n",
       "    }\n",
       "</style>\n",
       "<table border=\"1\" class=\"dataframe\">\n",
       "  <thead>\n",
       "    <tr style=\"text-align: right;\">\n",
       "      <th></th>\n",
       "      <th>Age</th>\n",
       "      <th>Height</th>\n",
       "      <th>Weight</th>\n",
       "    </tr>\n",
       "  </thead>\n",
       "  <tbody>\n",
       "    <tr>\n",
       "      <th>0</th>\n",
       "      <td>1</td>\n",
       "      <td>3</td>\n",
       "      <td>2</td>\n",
       "    </tr>\n",
       "    <tr>\n",
       "      <th>1</th>\n",
       "      <td>2</td>\n",
       "      <td>4</td>\n",
       "      <td>5</td>\n",
       "    </tr>\n",
       "  </tbody>\n",
       "</table>\n",
       "</div>"
      ],
      "text/plain": [
       "   Age  Height  Weight\n",
       "0    1       3       2\n",
       "1    2       4       5"
      ]
     },
     "execution_count": 49,
     "metadata": {},
     "output_type": "execute_result"
    }
   ],
   "source": [
    "df[\"Weight\"] = [2, 5]\n",
    "df"
   ]
  },
  {
   "cell_type": "code",
   "execution_count": 51,
   "id": "af868ab6-456b-47c8-a854-a558c0fbb480",
   "metadata": {},
   "outputs": [],
   "source": [
    "df[\"name\"]=[\"J\",\"K\"]"
   ]
  },
  {
   "cell_type": "code",
   "execution_count": 52,
   "id": "5f958960-0015-465b-b837-e483bf5dabf5",
   "metadata": {},
   "outputs": [
    {
     "data": {
      "text/html": [
       "<div>\n",
       "<style scoped>\n",
       "    .dataframe tbody tr th:only-of-type {\n",
       "        vertical-align: middle;\n",
       "    }\n",
       "\n",
       "    .dataframe tbody tr th {\n",
       "        vertical-align: top;\n",
       "    }\n",
       "\n",
       "    .dataframe thead th {\n",
       "        text-align: right;\n",
       "    }\n",
       "</style>\n",
       "<table border=\"1\" class=\"dataframe\">\n",
       "  <thead>\n",
       "    <tr style=\"text-align: right;\">\n",
       "      <th></th>\n",
       "      <th>Age</th>\n",
       "      <th>Height</th>\n",
       "      <th>Weight</th>\n",
       "      <th>name</th>\n",
       "    </tr>\n",
       "  </thead>\n",
       "  <tbody>\n",
       "    <tr>\n",
       "      <th>0</th>\n",
       "      <td>1</td>\n",
       "      <td>3</td>\n",
       "      <td>2</td>\n",
       "      <td>J</td>\n",
       "    </tr>\n",
       "    <tr>\n",
       "      <th>1</th>\n",
       "      <td>2</td>\n",
       "      <td>4</td>\n",
       "      <td>5</td>\n",
       "      <td>K</td>\n",
       "    </tr>\n",
       "  </tbody>\n",
       "</table>\n",
       "</div>"
      ],
      "text/plain": [
       "   Age  Height  Weight name\n",
       "0    1       3       2    J\n",
       "1    2       4       5    K"
      ]
     },
     "execution_count": 52,
     "metadata": {},
     "output_type": "execute_result"
    }
   ],
   "source": [
    "df"
   ]
  },
  {
   "cell_type": "code",
   "execution_count": 54,
   "id": "endless-credits",
   "metadata": {},
   "outputs": [
    {
     "name": "stdout",
     "output_type": "stream",
     "text": [
      "K\n"
     ]
    }
   ],
   "source": [
    "# Extracting specific data point (second row and third column)\n",
    "print(df.iloc[1,3])"
   ]
  },
  {
   "cell_type": "code",
   "execution_count": 58,
   "id": "thorough-vacation",
   "metadata": {},
   "outputs": [
    {
     "name": "stdout",
     "output_type": "stream",
     "text": [
      "0    J\n",
      "1    K\n",
      "Name: name, dtype: object\n"
     ]
    }
   ],
   "source": [
    "print(df[\"name\"])"
   ]
  },
  {
   "cell_type": "code",
   "execution_count": 62,
   "id": "brazilian-gates",
   "metadata": {},
   "outputs": [
    {
     "data": {
      "text/html": [
       "<div>\n",
       "<style scoped>\n",
       "    .dataframe tbody tr th:only-of-type {\n",
       "        vertical-align: middle;\n",
       "    }\n",
       "\n",
       "    .dataframe tbody tr th {\n",
       "        vertical-align: top;\n",
       "    }\n",
       "\n",
       "    .dataframe thead th {\n",
       "        text-align: right;\n",
       "    }\n",
       "</style>\n",
       "<table border=\"1\" class=\"dataframe\">\n",
       "  <thead>\n",
       "    <tr style=\"text-align: right;\">\n",
       "      <th></th>\n",
       "      <th>Age</th>\n",
       "      <th>Height</th>\n",
       "      <th>Weight</th>\n",
       "      <th>name</th>\n",
       "    </tr>\n",
       "  </thead>\n",
       "  <tbody>\n",
       "    <tr>\n",
       "      <th>0</th>\n",
       "      <td>1</td>\n",
       "      <td>3</td>\n",
       "      <td>2</td>\n",
       "      <td>J</td>\n",
       "    </tr>\n",
       "  </tbody>\n",
       "</table>\n",
       "</div>"
      ],
      "text/plain": [
       "   Age  Height  Weight name\n",
       "0    1       3       2    J"
      ]
     },
     "execution_count": 62,
     "metadata": {},
     "output_type": "execute_result"
    }
   ],
   "source": [
    "# Extracting a specific row\n",
    "df[df[\"name\"] == \"J\"]"
   ]
  },
  {
   "cell_type": "code",
   "execution_count": null,
   "id": "conventional-importance",
   "metadata": {},
   "outputs": [],
   "source": [
    "# Another way to extract a specific row\n",
    "df[df.Age == 2]"
   ]
  },
  {
   "cell_type": "code",
   "execution_count": null,
   "id": "dutch-reality",
   "metadata": {},
   "outputs": [],
   "source": [
    "# Showing the whole dataframe\n",
    "df.iloc[:]"
   ]
  },
  {
   "cell_type": "code",
   "execution_count": null,
   "id": "eligible-begin",
   "metadata": {},
   "outputs": [],
   "source": [
    "# Showing the first row\n",
    "df.iloc[0, :]"
   ]
  },
  {
   "cell_type": "code",
   "execution_count": null,
   "id": "accepted-jordan",
   "metadata": {},
   "outputs": [],
   "source": [
    "# Showing the second column\n",
    "df.iloc[:, 1]"
   ]
  },
  {
   "cell_type": "markdown",
   "id": "parental-courtesy",
   "metadata": {},
   "source": [
    "**np.array**: https://numpy.org/doc/stable/reference/generated/numpy.array.html"
   ]
  },
  {
   "cell_type": "code",
   "execution_count": null,
   "id": "wound-hamburg",
   "metadata": {},
   "outputs": [],
   "source": [
    "# Creating 2D arrays\n",
    "arr_1 = np.array([[1, 2], [3, 2]])\n",
    "arr_2 = np.array([[5, 4], [6, 7]])\n",
    "print(\"arr_1 = \\n\", arr_1, \"\\narr_2 = \\n\", arr_2)"
   ]
  },
  {
   "cell_type": "code",
   "execution_count": null,
   "id": "martial-wheat",
   "metadata": {},
   "outputs": [],
   "source": [
    "print(\"Shape of arr_1:\", np.shape(arr_1))\n",
    "print(\"Shape of arr_2:\", np.shape(arr_2))"
   ]
  },
  {
   "cell_type": "code",
   "execution_count": null,
   "id": "heavy-settle",
   "metadata": {},
   "outputs": [],
   "source": [
    "# Array operators\n",
    "print(\"dot product:\\n\", arr_1 @ arr_2)"
   ]
  },
  {
   "cell_type": "code",
   "execution_count": null,
   "id": "single-treatment",
   "metadata": {},
   "outputs": [],
   "source": [
    "# Elementwise exponential\n",
    "print(\"exponents:\\n\", arr_1 ** 2)"
   ]
  },
  {
   "cell_type": "code",
   "execution_count": null,
   "id": "floppy-tongue",
   "metadata": {},
   "outputs": [],
   "source": [
    "# Elementwise multiplication\n",
    "print(\"scalars\\n\", arr_1 * 5)"
   ]
  },
  {
   "cell_type": "code",
   "execution_count": null,
   "id": "sticky-tragedy",
   "metadata": {},
   "outputs": [],
   "source": [
    "# Array of given shape and type filled with ones\n",
    "print(\"Array with entries of 1: \\n\", np.ones((3, 3)))"
   ]
  },
  {
   "cell_type": "code",
   "execution_count": null,
   "id": "sought-rachel",
   "metadata": {},
   "outputs": [],
   "source": [
    "# Array of given shape and type filled with zeros\n",
    "print(\"Array with entries of 0: \\n\", np.zeros((3, 3)))"
   ]
  },
  {
   "cell_type": "code",
   "execution_count": null,
   "id": "operating-embassy",
   "metadata": {},
   "outputs": [],
   "source": [
    "# Evenly spaced numbers over a specified interval\n",
    "print(\"Sequence:\\n\", np.linspace(2, 9, 8))"
   ]
  },
  {
   "cell_type": "code",
   "execution_count": null,
   "id": "operating-dressing",
   "metadata": {},
   "outputs": [],
   "source": [
    "# A sorted copy of an array\n",
    "print(\"Sorted arr_1:\\n\", np.sort(arr_1))"
   ]
  }
 ],
 "metadata": {
  "kernelspec": {
   "display_name": "Python 3 (ipykernel)",
   "language": "python",
   "name": "python3"
  },
  "language_info": {
   "codemirror_mode": {
    "name": "ipython",
    "version": 3
   },
   "file_extension": ".py",
   "mimetype": "text/x-python",
   "name": "python",
   "nbconvert_exporter": "python",
   "pygments_lexer": "ipython3",
   "version": "3.12.6"
  }
 },
 "nbformat": 4,
 "nbformat_minor": 5
}
